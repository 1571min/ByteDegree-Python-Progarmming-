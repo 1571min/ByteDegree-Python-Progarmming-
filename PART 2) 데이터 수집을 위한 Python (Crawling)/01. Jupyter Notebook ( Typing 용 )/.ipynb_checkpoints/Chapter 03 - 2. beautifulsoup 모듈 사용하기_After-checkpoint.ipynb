{
 "cells": [
  {
   "cell_type": "markdown",
   "metadata": {},
   "source": [
    "### 학습목표\n",
    "1. beautifulsoup 모듈 사용하기\n",
    "2. id, class 속성으로 tag 찾기\n",
    "3. CSS를 이용하여 tag 찾기\n",
    "4. 속성 값으로 tag 찾기\n",
    "5. 정규표현식으로 tag 찾기\n",
    "6. 개발자도구를 이용하여 동적으로 로딩되는 데이터 추출하기"
   ]
  },
  {
   "cell_type": "code",
   "execution_count": null,
   "metadata": {},
   "outputs": [],
   "source": [
    "import requests\n",
    "from bs4 import BeautifulSoup"
   ]
  },
  {
   "cell_type": "markdown",
   "metadata": {},
   "source": [
    "#### 다음 뉴스 데이터 추출\n",
    " - 뉴스기사에서 제목, 작성자, 작성일\n",
    " , 댓글 개수 추출\n",
    " - [뉴스링크](https://news.v.daum.net/v/20190728165812603)\n",
    " - tag를 추출할때는 가장 그 tag를 쉽게 특정할 수 있는 속성을 사용\n",
    "  - id의 경우 원칙적으로 한 html 문서 내에서 유일\n",
    "  "
   ]
  },
  {
   "cell_type": "markdown",
   "metadata": {},
   "source": [
    "* id, class 속성으로 tag 찾기\n",
    " - 타이틀\n",
    " - 작성자, 작성일"
   ]
  },
  {
   "cell_type": "code",
   "execution_count": null,
   "metadata": {},
   "outputs": [],
   "source": [
    "url = 'https://news.v.daum.net/v/20190728165812603'\n",
    "resp = requests.get(url)\n",
    "\n",
    "resp.text"
   ]
  },
  {
   "cell_type": "code",
   "execution_count": null,
   "metadata": {},
   "outputs": [],
   "source": [
    "url = 'https://news.v.daum.net/v/20190728165812603'\n",
    "resp = requests.get(url)\n",
    "\n",
    "soup = BeautifulSoup(resp.text)\n",
    "title = soup.find('h3', class_='tit_view')\n",
    "title.get_text()"
   ]
  },
  {
   "cell_type": "code",
   "execution_count": null,
   "metadata": {},
   "outputs": [],
   "source": [
    "url = 'https://news.v.daum.net/v/20190728165812603'\n",
    "resp = requests.get(url)\n",
    "\n",
    "soup = BeautifulSoup(resp.text)\n",
    "soup.find_all('span', class_='txt_info')[0]\n",
    "soup.find_all('span', class_='txt_info')[1]"
   ]
  },
  {
   "cell_type": "code",
   "execution_count": null,
   "metadata": {},
   "outputs": [],
   "source": [
    "url = 'https://news.v.daum.net/v/20190728165812603'\n",
    "resp = requests.get(url)\n",
    "\n",
    "soup = BeautifulSoup(resp.text)\n",
    "info = soup.find('span', class_='info_view')\n",
    "info.find('span', class_='txt_info')"
   ]
  },
  {
   "cell_type": "code",
   "execution_count": null,
   "metadata": {},
   "outputs": [],
   "source": [
    "url = 'https://news.v.daum.net/v/20190728165812603'\n",
    "resp = requests.get(url)\n",
    "\n",
    "soup = BeautifulSoup(resp.text)\n",
    "container = soup.find('div', id='harmonyContainer')\n",
    "contents = ''\n",
    "for p in container.find_all('p'):\n",
    "    contents += p.get_text()\n",
    "    \n",
    "contents"
   ]
  },
  {
   "cell_type": "markdown",
   "metadata": {},
   "source": [
    "* CSS를 이용하여 tag 찾기\n",
    " - select, select_one함수 사용 \n",
    " - css selector 사용법\n",
    "   - 태그명 찾기 tag \n",
    "   - 자손 태그 찾기 - 자손 관계 (tag tag)\n",
    "   - 자식 태그 찾기 - 다이렉트 자식 관계 (tag > tag)\n",
    "   - 아이디 찾기 #id\n",
    "   - 클래스 찾기 .class\n",
    "   - 속성값 찾기 [name='test']\n",
    "     - 속성값 prefix 찾기 [name ^='test']\n",
    "     - 속성값 suffix 찾기 [name $='test']\n",
    "     - 속성값 substring 찾기 [name *='test]\n",
    "   - n번째 자식 tag 찾기 :nth-child(n)"
   ]
  },
  {
   "cell_type": "code",
   "execution_count": null,
   "metadata": {},
   "outputs": [],
   "source": [
    "url = 'https://news.v.daum.net/v/20190728165812603'\n",
    "resp = requests.get(url)\n",
    "\n",
    "soup = BeautifulSoup(resp.text)\n",
    "soup.select('h3')"
   ]
  },
  {
   "cell_type": "code",
   "execution_count": null,
   "metadata": {},
   "outputs": [],
   "source": [
    "soup.select('#harmonyContainer > p')\n",
    "soup.select('#harmonyContainer  p')"
   ]
  },
  {
   "cell_type": "code",
   "execution_count": null,
   "metadata": {},
   "outputs": [],
   "source": [
    "soup.select('h3.tit_view')\n",
    "soup.select('.tit_view')"
   ]
  },
  {
   "cell_type": "code",
   "execution_count": null,
   "metadata": {},
   "outputs": [],
   "source": [
    "soup.select('h3[class=\"tit_view\"]')"
   ]
  },
  {
   "cell_type": "code",
   "execution_count": null,
   "metadata": {},
   "outputs": [],
   "source": [
    "soup.select('h3[class^=\"t\"]')\n",
    "soup.select('h3[class^=\"tx\"]')"
   ]
  },
  {
   "cell_type": "code",
   "execution_count": null,
   "metadata": {},
   "outputs": [],
   "source": [
    "soup.select('h3[class$=\"view\"]')\n",
    "soup.select('h3[class$=\"_view\"]')"
   ]
  },
  {
   "cell_type": "code",
   "execution_count": null,
   "metadata": {},
   "outputs": [],
   "source": [
    "soup.select('h3[class*=\"view\"]')"
   ]
  },
  {
   "cell_type": "code",
   "execution_count": null,
   "metadata": {},
   "outputs": [],
   "source": [
    "soup.select('span.txt_info:nth-child(1)')\n",
    "soup.select('span.txt_info:nth-child(2)')"
   ]
  },
  {
   "cell_type": "markdown",
   "metadata": {},
   "source": [
    "* 정규표현식으로 tag 찾기"
   ]
  },
  {
   "cell_type": "code",
   "execution_count": null,
   "metadata": {},
   "outputs": [],
   "source": [
    "import re"
   ]
  },
  {
   "cell_type": "code",
   "execution_count": null,
   "metadata": {},
   "outputs": [],
   "source": [
    "soup.find_all(re.compile('h\\d'))"
   ]
  },
  {
   "cell_type": "code",
   "execution_count": null,
   "metadata": {},
   "outputs": [],
   "source": [
    "soup.find_all('img', attrs={'src': '.jpg'})"
   ]
  },
  {
   "cell_type": "code",
   "execution_count": null,
   "metadata": {},
   "outputs": [],
   "source": [
    "soup.find_all('img', attrs={'src': re.compile('.+\\.jpg')})"
   ]
  },
  {
   "cell_type": "code",
   "execution_count": null,
   "metadata": {},
   "outputs": [],
   "source": [
    "soup.find_all('h3', class_='tit_view')\n",
    "soup.find_all('h3', class_=re.compile('.+newsview$'))"
   ]
  },
  {
   "cell_type": "markdown",
   "metadata": {},
   "source": [
    "* 댓글 개수 추출\n",
    " - 댓글의 경우, 최초 로딩시에 전달되지 않음\n",
    " - 이 경우는 추가적으로 AJAX로 비동기적 호출을 하여 따로 data 전송을 함\n",
    "   - 개발자 도구의 network 탭에서 확인(XHR: XmlHTTPRequest)\n",
    "   - 비동기적 호출: 사이트의 전체가 아닌 일부분만 업데이트 가능하도록 함"
   ]
  },
  {
   "cell_type": "code",
   "execution_count": null,
   "metadata": {},
   "outputs": [],
   "source": []
  },
  {
   "cell_type": "code",
   "execution_count": null,
   "metadata": {},
   "outputs": [],
   "source": []
  },
  {
   "cell_type": "code",
   "execution_count": null,
   "metadata": {},
   "outputs": [],
   "source": []
  }
 ],
 "metadata": {
  "kernelspec": {
   "display_name": "Python 3",
   "language": "python",
   "name": "python3"
  },
  "language_info": {
   "codemirror_mode": {
    "name": "ipython",
    "version": 3
   },
   "file_extension": ".py",
   "mimetype": "text/x-python",
   "name": "python",
   "nbconvert_exporter": "python",
   "pygments_lexer": "ipython3",
   "version": "3.6.9"
  }
 },
 "nbformat": 4,
 "nbformat_minor": 2
}
