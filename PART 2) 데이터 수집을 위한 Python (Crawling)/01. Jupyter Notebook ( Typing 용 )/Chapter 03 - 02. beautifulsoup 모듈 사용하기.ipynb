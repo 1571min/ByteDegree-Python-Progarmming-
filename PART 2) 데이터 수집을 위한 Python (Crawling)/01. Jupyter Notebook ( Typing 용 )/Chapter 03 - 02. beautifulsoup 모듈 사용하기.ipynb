{
 "cells": [
  {
   "cell_type": "markdown",
   "metadata": {},
   "source": [
    "### 학습목표\n",
    "1. beautifulsoup 모듈 사용하기\n",
    "2. id, class 속성으로 tag 찾기\n",
    "3. CSS를 이용하여 tag 찾기\n",
    "4. 속성 값으로 tag 찾기\n",
    "5. 정규표현식으로 tag 찾기\n",
    "6. 개발자도구를 이용하여 동적으로 로딩되는 데이터 추출하기"
   ]
  },
  {
   "cell_type": "code",
   "execution_count": null,
   "metadata": {},
   "outputs": [],
   "source": [
    "import requests\n",
    "from bs4 import BeautifulSoup"
   ]
  },
  {
   "cell_type": "markdown",
   "metadata": {},
   "source": [
    "#### 다음 뉴스 데이터 추출\n",
    " - 뉴스기사에서 제목, 작성자, 작성일\n",
    " , 댓글 개수 추출\n",
    " - [뉴스링크](https://news.v.daum.net/v/20190728165812603)\n",
    " - tag를 추출할때는 가장 그 tag를 쉽게 특정할 수 있는 속성을 사용\n",
    "  - id의 경우 원칙적으로 한 html 문서 내에서 유일\n",
    "  "
   ]
  },
  {
   "cell_type": "code",
   "execution_count": null,
   "metadata": {},
   "outputs": [],
   "source": []
  },
  {
   "cell_type": "markdown",
   "metadata": {},
   "source": [
    "* id, class 속성으로 tag 찾기\n",
    " - 타이틀\n",
    " - 작성자, 작성일"
   ]
  },
  {
   "cell_type": "code",
   "execution_count": null,
   "metadata": {},
   "outputs": [],
   "source": []
  },
  {
   "cell_type": "code",
   "execution_count": null,
   "metadata": {},
   "outputs": [],
   "source": []
  },
  {
   "cell_type": "code",
   "execution_count": null,
   "metadata": {},
   "outputs": [],
   "source": []
  },
  {
   "cell_type": "code",
   "execution_count": null,
   "metadata": {},
   "outputs": [],
   "source": []
  },
  {
   "cell_type": "markdown",
   "metadata": {},
   "source": [
    "* CSS를 이용하여 tag 찾기\n",
    " - select, select_one함수 사용 \n",
    " - css selector 사용법\n",
    "   - 태그명 찾기 tag \n",
    "   - 자손 태그 찾기 - 자손 관계 (tag tag)\n",
    "   - 자식 태그 찾기 - 다이렉트 자식 관계 (tag > tag)\n",
    "   - 아이디 찾기 #id\n",
    "   - 클래스 찾기 .class\n",
    "   - 속성값 찾기 [name='test']\n",
    "     - 속성값 prefix 찾기 [name ^='test']\n",
    "     - 속성값 suffix 찾기 [name $='test']\n",
    "     - 속성값 substring 찾기 [name *='test]\n",
    "   - n번째 자식 tag 찾기 :nth-child(n)"
   ]
  },
  {
   "cell_type": "code",
   "execution_count": null,
   "metadata": {},
   "outputs": [],
   "source": []
  },
  {
   "cell_type": "code",
   "execution_count": null,
   "metadata": {},
   "outputs": [],
   "source": []
  },
  {
   "cell_type": "code",
   "execution_count": null,
   "metadata": {},
   "outputs": [],
   "source": []
  },
  {
   "cell_type": "code",
   "execution_count": null,
   "metadata": {},
   "outputs": [],
   "source": []
  },
  {
   "cell_type": "code",
   "execution_count": null,
   "metadata": {},
   "outputs": [],
   "source": []
  },
  {
   "cell_type": "code",
   "execution_count": null,
   "metadata": {},
   "outputs": [],
   "source": []
  },
  {
   "cell_type": "markdown",
   "metadata": {},
   "source": [
    "* 정규표현식으로 tag 찾기"
   ]
  },
  {
   "cell_type": "code",
   "execution_count": null,
   "metadata": {},
   "outputs": [],
   "source": [
    "import re"
   ]
  },
  {
   "cell_type": "code",
   "execution_count": null,
   "metadata": {},
   "outputs": [],
   "source": [
    "soup.find_all(re.compile('h\\d'))"
   ]
  },
  {
   "cell_type": "code",
   "execution_count": null,
   "metadata": {},
   "outputs": [],
   "source": []
  },
  {
   "cell_type": "code",
   "execution_count": null,
   "metadata": {},
   "outputs": [],
   "source": []
  },
  {
   "cell_type": "markdown",
   "metadata": {},
   "source": [
    "* 댓글 개수 추출\n",
    " - 댓글의 경우, 최초 로딩시에 전달되지 않음\n",
    " - 이 경우는 추가적으로 AJAX로 비동기적 호출을 하여 따로 data 전송을 함\n",
    "   - 개발자 도구의 network 탭에서 확인(XHR: XmlHTTPRequest)\n",
    "   - 비동기적 호출: 사이트의 전체가 아닌 일부분만 업데이트 가능하도록 함"
   ]
  },
  {
   "cell_type": "code",
   "execution_count": null,
   "metadata": {},
   "outputs": [],
   "source": []
  },
  {
   "cell_type": "code",
   "execution_count": null,
   "metadata": {},
   "outputs": [],
   "source": []
  },
  {
   "cell_type": "code",
   "execution_count": null,
   "metadata": {},
   "outputs": [],
   "source": []
  }
 ],
 "metadata": {
  "kernelspec": {
   "display_name": "Python 3",
   "language": "python",
   "name": "python3"
  },
  "language_info": {
   "codemirror_mode": {
    "name": "ipython",
    "version": 3
   },
   "file_extension": ".py",
   "mimetype": "text/x-python",
   "name": "python",
   "nbconvert_exporter": "python",
   "pygments_lexer": "ipython3",
   "version": "3.6.5"
  }
 },
 "nbformat": 4,
 "nbformat_minor": 2
}
