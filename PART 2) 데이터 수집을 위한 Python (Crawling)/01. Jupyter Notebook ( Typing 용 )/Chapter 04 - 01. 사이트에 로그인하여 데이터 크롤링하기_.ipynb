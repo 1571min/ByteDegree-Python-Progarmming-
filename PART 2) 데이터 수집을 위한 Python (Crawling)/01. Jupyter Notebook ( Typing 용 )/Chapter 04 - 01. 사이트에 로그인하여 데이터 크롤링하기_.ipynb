{
 "cells": [
  {
   "cell_type": "markdown",
   "metadata": {},
   "source": [
    "### 학습목표\n",
    "1. 다음 뉴스 댓글 개수 크롤링\n",
    "2. 로그인 하여 크롤링 하기"
   ]
  },
  {
   "cell_type": "markdown",
   "metadata": {},
   "source": [
    "#### 다음 뉴스 댓글 개수 크롤링하기"
   ]
  },
  {
   "cell_type": "code",
   "execution_count": null,
   "metadata": {},
   "outputs": [],
   "source": [
    "import requests"
   ]
  },
  {
   "cell_type": "markdown",
   "metadata": {},
   "source": [
    "#### HTTP 상태 코드\n",
    " - 1xx (정보): 요청을 받았으며 프로세스를 계속한다\n",
    " - 2xx (성공): 요청을 성공적으로 받았으며 인식했고 수용하였다\n",
    " - 3xx (리다이렉션): 요청 완료를 위해 추가 작업 조치가 필요하다\n",
    " - 4xx (클라이언트 오류): 요청의 문법이 잘못되었거나 요청을 처리할 수 없다\n",
    " - 5xx (서버 오류): 서버가 명백히 유효한 요청에 대해 충족을 실패했다\n",
    "\n",
    "[출처: 위키피디아](https://ko.wikipedia.org/wiki/HTTP_%EC%83%81%ED%83%9C_%EC%BD%94%EB%93%9C)"
   ]
  },
  {
   "cell_type": "code",
   "execution_count": null,
   "metadata": {},
   "outputs": [],
   "source": []
  },
  {
   "cell_type": "markdown",
   "metadata": {},
   "source": [
    "#### 로그인하여 데이터 크롤링하기\n",
    " - 특정한 경우, 로그인을 해서 크롤링을 해야만 하는 경우가 존재\n",
    " - 예) 쇼핑몰에서 주문한 아이템 목록, 마일리지 조회 등\n",
    " - 이 경우, 로그인을 자동화 하고 로그인에 사용한 세션을 유지하여 크롤링을 진행"
   ]
  },
  {
   "cell_type": "markdown",
   "metadata": {},
   "source": [
    "#### 로그인 후 데이터 크롤링 하기\n",
    " 1. endpoint 찾기 (개발자 도구의 network를 활용)\n",
    " 2. id와 password가 전달되는 form data찾기\n",
    " 3. session 객체 생성하여 login 진행\n",
    " 4. 이후 session 객체로 원하는 페이지로 이동하여 크롤링\n",
    " "
   ]
  },
  {
   "cell_type": "code",
   "execution_count": null,
   "metadata": {},
   "outputs": [],
   "source": [
    "import requests\n",
    "from bs4 import BeautifulSoup"
   ]
  },
  {
   "cell_type": "markdown",
   "metadata": {},
   "source": [
    "* endpoint 찾기"
   ]
  },
  {
   "cell_type": "code",
   "execution_count": null,
   "metadata": {},
   "outputs": [],
   "source": []
  },
  {
   "cell_type": "markdown",
   "metadata": {},
   "source": [
    "* id, password로 구성된 form data 생성하기"
   ]
  },
  {
   "cell_type": "code",
   "execution_count": null,
   "metadata": {},
   "outputs": [],
   "source": []
  },
  {
   "cell_type": "markdown",
   "metadata": {},
   "source": [
    "* login\n",
    " - endpoint(url)과 data를 구성하여 post 요청\n",
    " - login의 경우 post로 구성하는 것이 정상적인 웹사이트!"
   ]
  },
  {
   "cell_type": "code",
   "execution_count": null,
   "metadata": {},
   "outputs": [],
   "source": []
  },
  {
   "cell_type": "markdown",
   "metadata": {},
   "source": [
    "* crawling\n",
    " - login 시 사용했던 session을 다시 사용하여 요청"
   ]
  },
  {
   "cell_type": "code",
   "execution_count": null,
   "metadata": {},
   "outputs": [],
   "source": []
  }
 ],
 "metadata": {
  "kernelspec": {
   "display_name": "Python 3",
   "language": "python",
   "name": "python3"
  },
  "language_info": {
   "codemirror_mode": {
    "name": "ipython",
    "version": 3
   },
   "file_extension": ".py",
   "mimetype": "text/x-python",
   "name": "python",
   "nbconvert_exporter": "python",
   "pygments_lexer": "ipython3",
   "version": "3.6.5"
  }
 },
 "nbformat": 4,
 "nbformat_minor": 2
}
