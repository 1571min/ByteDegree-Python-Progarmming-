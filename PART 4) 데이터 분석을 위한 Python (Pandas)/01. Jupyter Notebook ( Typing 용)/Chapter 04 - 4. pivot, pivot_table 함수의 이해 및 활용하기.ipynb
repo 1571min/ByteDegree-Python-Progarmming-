{
 "cells": [
  {
   "cell_type": "markdown",
   "metadata": {},
   "source": [
    "## 학습목표\n",
    " 1. pivot, pivot_table 함수의 이해"
   ]
  },
  {
   "cell_type": "code",
   "execution_count": null,
   "metadata": {},
   "outputs": [],
   "source": [
    "import numpy as np\n",
    "import pandas as pd"
   ]
  },
  {
   "cell_type": "code",
   "execution_count": null,
   "metadata": {},
   "outputs": [],
   "source": [
    "df = pd.DataFrame({\n",
    "    '지역': ['서울', '서울', '서울', '경기', '경기', '부산', '서울', '서울', '부산', '경기', '경기', '경기'],\n",
    "    '요일': ['월요일', '월요일', '수요일', '월요일', '화요일', '월요일', '목요일', '금요일', '화요일', '수요일', '목요일', '금요일'],\n",
    "    '강수량': [100, 80, 1000, 200, 200, 100, 50, 100, 200, 100, 50, 100],\n",
    "    '강수확률': [80, 70, 90, 10, 20, 30, 50, 90, 20, 80, 50, 10]\n",
    "                  })\n",
    "\n",
    "df"
   ]
  },
  {
   "cell_type": "markdown",
   "metadata": {},
   "source": [
    "#### pivot \n",
    " - dataframe의 형태를 변경\n",
    " - 인덱스, 컬럼, 데이터로 사용할 컬럼을 명시"
   ]
  },
  {
   "cell_type": "code",
   "execution_count": null,
   "metadata": {},
   "outputs": [],
   "source": []
  },
  {
   "cell_type": "markdown",
   "metadata": {},
   "source": [
    "#### pivot_table\n",
    " - 기능적으로 pivot과 동일\n",
    " - pivot과의 차이점\n",
    "   - 중복되는 모호한 값이 있을 경우, aggregation 함수 사용하여 값을 채움"
   ]
  },
  {
   "cell_type": "code",
   "execution_count": null,
   "metadata": {},
   "outputs": [],
   "source": []
  },
  {
   "cell_type": "code",
   "execution_count": null,
   "metadata": {},
   "outputs": [],
   "source": []
  }
 ],
 "metadata": {
  "kernelspec": {
   "display_name": "Python 3",
   "language": "python",
   "name": "python3"
  },
  "language_info": {
   "codemirror_mode": {
    "name": "ipython",
    "version": 3
   },
   "file_extension": ".py",
   "mimetype": "text/x-python",
   "name": "python",
   "nbconvert_exporter": "python",
   "pygments_lexer": "ipython3",
   "version": "3.7.3"
  }
 },
 "nbformat": 4,
 "nbformat_minor": 1
}
