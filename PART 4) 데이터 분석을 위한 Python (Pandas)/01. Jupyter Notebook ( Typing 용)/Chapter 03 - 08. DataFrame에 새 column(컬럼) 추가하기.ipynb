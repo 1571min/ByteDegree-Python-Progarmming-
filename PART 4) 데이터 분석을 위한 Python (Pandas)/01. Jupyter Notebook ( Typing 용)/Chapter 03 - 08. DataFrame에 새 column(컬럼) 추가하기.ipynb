{
 "cells": [
  {
   "cell_type": "markdown",
   "metadata": {},
   "source": [
    "## 학습목표\n",
    " 1. 수치해석 라이브러리인 numpy의 이해 및 사용\n",
    " 2. 데이터 분석 라이브러이인 pandas의 이해 및 사용"
   ]
  },
  {
   "cell_type": "markdown",
   "metadata": {},
   "source": [
    "* **DataFrame**\n",
    "  - Series가 1차원이라면 DataFrame은 2차원으로 확대된 버젼\n",
    "  - Excel spreadsheet이라고 생각하면 이해하기 쉬움\n",
    "  - 2차원이기 때문에 인덱스가 row, column로 구성됨\n",
    "  - Data Analysis, Machine Learning에서 data 변형을 위해 가장 많이 사용"
   ]
  },
  {
   "cell_type": "code",
   "execution_count": null,
   "metadata": {},
   "outputs": [],
   "source": [
    "df = pd.DataFrame(np.array([[10, 11], [20, 22]]))\n",
    "print(df)"
   ]
  },
  {
   "cell_type": "code",
   "execution_count": null,
   "metadata": {},
   "outputs": [],
   "source": [
    "df = pd.DataFrame(np.array([2, 1, 2, 3]))\n",
    "print(df)\n",
    "\n",
    "type(df)"
   ]
  },
  {
   "cell_type": "markdown",
   "metadata": {},
   "source": [
    "* **shape**\n",
    " - row, column"
   ]
  },
  {
   "cell_type": "code",
   "execution_count": null,
   "metadata": {},
   "outputs": [],
   "source": [
    "df1 = pd.DataFrame([pd.Series(np.arange(10, 15)) ,\n",
    "                pd.Series(np.arange(20, 25)),             \n",
    "                pd.Series(np.arange(20, 25))])\n",
    "print(df1, '\\n')\n",
    "print(df1.shape) # dataframe의 경우 항상 크기가 2인 튜플"
   ]
  },
  {
   "cell_type": "markdown",
   "metadata": {},
   "source": [
    "* ** dataframe 살펴보기**\n",
    " - shape           : row, column 개수 확인\n",
    " - head(), tail()  : 데이터 확인\n",
    " - describe()      : 각 column별 간략한 통계정보 \n",
    " - info()          : 각 column별 타입 정보"
   ]
  },
  {
   "cell_type": "code",
   "execution_count": null,
   "metadata": {},
   "outputs": [],
   "source": [
    "df.shape"
   ]
  },
  {
   "cell_type": "code",
   "execution_count": null,
   "metadata": {},
   "outputs": [],
   "source": [
    "len(df) # row 갯수"
   ]
  },
  {
   "cell_type": "code",
   "execution_count": null,
   "metadata": {},
   "outputs": [],
   "source": [
    "df.head()"
   ]
  },
  {
   "cell_type": "code",
   "execution_count": null,
   "metadata": {},
   "outputs": [],
   "source": [
    "df.describe()"
   ]
  },
  {
   "cell_type": "code",
   "execution_count": null,
   "metadata": {},
   "outputs": [],
   "source": [
    "df.info()"
   ]
  },
  {
   "cell_type": "markdown",
   "metadata": {},
   "source": [
    "* **column 초기화**\n",
    " - Series의 경우 1차원 타입이기 때문에 index만 존재\n",
    " - Dataframe의 경우, index와 column을 모두 명시"
   ]
  },
  {
   "cell_type": "code",
   "execution_count": null,
   "metadata": {},
   "outputs": [],
   "source": [
    "df = pd.DataFrame(np.array([[10, 20], [20, 30]]), \n",
    "                  columns = ['Age', 'Height'], index = ['d1', 'd2'])\n",
    "print(df)\n",
    "df.index, df.columns"
   ]
  },
  {
   "cell_type": "code",
   "execution_count": null,
   "metadata": {},
   "outputs": [],
   "source": [
    "df = pd.DataFrame(np.array([[10, 20], [20, 30]]), \n",
    "                  columns = ['a', 'b'])\n",
    "print(df.columns)\n",
    "print(df, '\\n')\n",
    "\n",
    "df.columns = ['t1', 't2']\n",
    "print(df)"
   ]
  },
  {
   "cell_type": "markdown",
   "metadata": {},
   "source": [
    "* **Series dictionary로 부터 생성**"
   ]
  },
  {
   "cell_type": "code",
   "execution_count": null,
   "metadata": {},
   "outputs": [],
   "source": [
    "s1 = pd.Series(np.arange(1, 6, 1))\n",
    "s2 = pd.Series(np.arange(6, 11, 1))\n",
    "df = pd.DataFrame({'c1': s1, 'c2': s2})\n",
    "\n",
    "print(df)"
   ]
  },
  {
   "cell_type": "markdown",
   "metadata": {},
   "source": [
    "* **csv 데이터로 부터 dataframe 생성**\n",
    "  - 데이터 분석을 위해, dataframe을 생성하는 가장 일반적인 방법\n",
    "  - 데이터 소스로부터 추출된 csv(comma separated values) 파일로부터 생성"
   ]
  },
  {
   "cell_type": "markdown",
   "metadata": {},
   "source": [
    "* 각 제품별 가격에 관한 정보 데이터"
   ]
  },
  {
   "cell_type": "code",
   "execution_count": null,
   "metadata": {
    "collapsed": true
   },
   "outputs": [],
   "source": [
    "sample_file = 'data/sample.csv'"
   ]
  },
  {
   "cell_type": "code",
   "execution_count": null,
   "metadata": {},
   "outputs": [],
   "source": [
    "sample_df = pd.read_csv(sample_file)\n",
    "sample_df.head()"
   ]
  },
  {
   "cell_type": "code",
   "execution_count": null,
   "metadata": {},
   "outputs": [],
   "source": [
    "sample_df.info()"
   ]
  },
  {
   "cell_type": "code",
   "execution_count": null,
   "metadata": {},
   "outputs": [],
   "source": [
    "sample_df = pd.read_csv(sample_file, usecols = [0, 1, 2, 3, 7])\n",
    "sample_df.head()"
   ]
  },
  {
   "cell_type": "code",
   "execution_count": null,
   "metadata": {},
   "outputs": [],
   "source": [
    "sample_df = pd.read_csv(sample_file, index_col = 'Symbol', \n",
    "                        usecols = [0, 1, 2, 3, 7])\n",
    "sample_df.head()"
   ]
  },
  {
   "cell_type": "code",
   "execution_count": null,
   "metadata": {},
   "outputs": [],
   "source": [
    "sample_df = pd.read_csv(sample_file, index_col = 'Symbol', \n",
    "                        usecols=['Name', 'Symbol', 'Price'])\n",
    "sample_df.head()"
   ]
  },
  {
   "cell_type": "markdown",
   "metadata": {},
   "source": [
    "* **dataframe slicing**\n",
    "  - dataframe의 경우 기본적으로 [] 연산자가 **column 선택**에 사용\n",
    "  - 따라서 [0], ['some val'] 과 같이 하면 column 레벨의 데이터 추출\n",
    "  - 하지만, 유일하게 slicing은 row 레벨로 지원"
   ]
  },
  {
   "cell_type": "code",
   "execution_count": null,
   "metadata": {},
   "outputs": [],
   "source": [
    "apple_df = pd.read_csv('data/apple.csv')\n",
    "apple_df.head()"
   ]
  },
  {
   "cell_type": "code",
   "execution_count": null,
   "metadata": {
    "collapsed": true
   },
   "outputs": [],
   "source": [
    "# header = None으로 .csv 파일의 header가 없다는 것을 명시\n",
    "apple_df = pd.read_csv('data/apple.csv', header = None)\n",
    "apple_df.head()"
   ]
  },
  {
   "cell_type": "code",
   "execution_count": null,
   "metadata": {},
   "outputs": [],
   "source": [
    "apple_df['Open']"
   ]
  },
  {
   "cell_type": "code",
   "execution_count": null,
   "metadata": {},
   "outputs": [],
   "source": [
    "apple_df[:6]"
   ]
  },
  {
   "cell_type": "code",
   "execution_count": null,
   "metadata": {},
   "outputs": [],
   "source": [
    "apple_df[3:7]"
   ]
  },
  {
   "cell_type": "markdown",
   "metadata": {},
   "source": [
    "* **연습문제** \n",
    " - 아래 코드의 결과는?"
   ]
  },
  {
   "cell_type": "code",
   "execution_count": null,
   "metadata": {
    "collapsed": true
   },
   "outputs": [],
   "source": [
    "apple_df[0]"
   ]
  },
  {
   "cell_type": "code",
   "execution_count": null,
   "metadata": {
    "collapsed": true
   },
   "outputs": [],
   "source": [
    "apple_df[[1, 2]]"
   ]
  },
  {
   "cell_type": "code",
   "execution_count": null,
   "metadata": {
    "collapsed": true
   },
   "outputs": [],
   "source": [
    "apple_df['Date'], apple_df['Open']"
   ]
  },
  {
   "cell_type": "markdown",
   "metadata": {},
   "source": [
    "* **column 선택하기**\n",
    "  - 기본적으로 **[ ]는 column을 추출 **\n",
    "  - 컬럼 이름일 경우 이름만 사용 가능\n",
    "  - 컬럼 인덱스일 경우 인덱스의 리스트 사용 가능"
   ]
  },
  {
   "cell_type": "code",
   "execution_count": null,
   "metadata": {},
   "outputs": [],
   "source": [
    "# 숫자 인덱스로 컬럼 셀렉션 확인 할 것 \n",
    "apple_df[['Date', 'Close', 'Volume']] # 인덱스로도 가능"
   ]
  },
  {
   "cell_type": "code",
   "execution_count": null,
   "metadata": {},
   "outputs": [],
   "source": [
    "print(type(apple_df[['Date']]))\n",
    "print(type(apple_df[['Date', 'Close']]))\n",
    "print(type(apple_df['Date']))"
   ]
  },
  {
   "cell_type": "markdown",
   "metadata": {},
   "source": [
    "* **row 선택하기**\n",
    "  - Seires의 경우 []로 row 선택이 가능하나, **DataFrame의 경우는 기본적으로 column을 선택하도록 설계**\n",
    "  - [:10]과 같이 slicing의 경우에는 row 선택 가능\n",
    "  - **.loc, .iloc함수**로 row 선택 가능"
   ]
  },
  {
   "cell_type": "code",
   "execution_count": null,
   "metadata": {},
   "outputs": [],
   "source": [
    "sample_df = pd.read_csv('data/sample.csv', index_col='Symbol')\n",
    "sample_df.head()"
   ]
  },
  {
   "cell_type": "code",
   "execution_count": null,
   "metadata": {
    "collapsed": true
   },
   "outputs": [],
   "source": [
    "# slicing을 사용하면 row선택\n",
    "print(sample_df[1:10])"
   ]
  },
  {
   "cell_type": "code",
   "execution_count": null,
   "metadata": {},
   "outputs": [],
   "source": [
    "print(sample_df.loc['ABT'])"
   ]
  },
  {
   "cell_type": "code",
   "execution_count": null,
   "metadata": {},
   "outputs": [],
   "source": [
    "sample_df.iloc[0]"
   ]
  },
  {
   "cell_type": "code",
   "execution_count": null,
   "metadata": {},
   "outputs": [],
   "source": [
    "sample_df.loc[['MMM', 'MSFT']][['Name', 'Price']]"
   ]
  },
  {
   "cell_type": "code",
   "execution_count": null,
   "metadata": {},
   "outputs": [],
   "source": [
    "print(sample_df.iloc[[0, 1, 2]])\n",
    "print(type(sample_df.iloc[[0, 1, 2]]))\n",
    "\n",
    "print()\n",
    "\n",
    "print(sample_df.iloc[0]) \n",
    "print(type(sample_df.iloc[0]))"
   ]
  },
  {
   "cell_type": "markdown",
   "metadata": {},
   "source": [
    "* **boolean selection으로 row 선택하기**"
   ]
  },
  {
   "cell_type": "code",
   "execution_count": null,
   "metadata": {
    "collapsed": true
   },
   "outputs": [],
   "source": [
    "print(sample_df['Price'] > 100)"
   ]
  },
  {
   "cell_type": "code",
   "execution_count": null,
   "metadata": {
    "collapsed": true
   },
   "outputs": [],
   "source": [
    "sample_df[(sample_df['Price'] > 100) & (sample_df['EBITDA'] > 5)]"
   ]
  },
  {
   "cell_type": "code",
   "execution_count": null,
   "metadata": {
    "collapsed": true
   },
   "outputs": [],
   "source": [
    "# selection 결과에 다시 column선택하기\n",
    "sample_df[sample_df['Price'] > 100][['Name', 'Price']]"
   ]
  },
  {
   "cell_type": "markdown",
   "metadata": {},
   "source": [
    "* **새 column 추가하기**"
   ]
  },
  {
   "cell_type": "code",
   "execution_count": null,
   "metadata": {
    "collapsed": true
   },
   "outputs": [],
   "source": [
    "# 새로운 dataframe 생성\n",
    "copy = sample_df.copy()\n",
    "copy.head()"
   ]
  },
  {
   "cell_type": "code",
   "execution_count": null,
   "metadata": {},
   "outputs": [],
   "source": [
    "# 새로 생성된 프레임에 새로운 컬럼 추가 (기존 컬럼 이용)\n",
    "copy['TwicePrice'] = copy['Price'] * 2\n",
    "copy.head()"
   ]
  },
  {
   "cell_type": "code",
   "execution_count": null,
   "metadata": {},
   "outputs": [],
   "source": [
    "copy['ratio'] = copy['Price'] / copy['Book Value']\n",
    "copy.head()"
   ]
  },
  {
   "cell_type": "code",
   "execution_count": null,
   "metadata": {},
   "outputs": [],
   "source": [
    "# insert 함수를 이용하여 원하는 컬럼 위치에 삽입 가능\n",
    "copy.insert(1, 'TriplePrice', sample_df['Price'] * 3)\n",
    "copy.head()"
   ]
  },
  {
   "cell_type": "markdown",
   "metadata": {
    "collapsed": true
   },
   "source": [
    " * **column 삭제하기**"
   ]
  },
  {
   "cell_type": "code",
   "execution_count": null,
   "metadata": {},
   "outputs": [],
   "source": [
    "# del 키워드로 삭제\n",
    "del copy['TriplePrice']\n",
    "copy.head()"
   ]
  },
  {
   "cell_type": "markdown",
   "metadata": {},
   "source": [
    " * **row 추가/삭제하기**"
   ]
  },
  {
   "cell_type": "code",
   "execution_count": null,
   "metadata": {},
   "outputs": [],
   "source": [
    "df1 = copy.iloc[0:3].copy()\n",
    "print(df1)\n",
    "\n",
    "# append 함수 사용\n",
    "copy = copy.append(df1)\n",
    "print(copy.tail())"
   ]
  },
  {
   "cell_type": "code",
   "execution_count": null,
   "metadata": {
    "collapsed": true
   },
   "outputs": [],
   "source": [
    "# drop 함수를 사용하여 해당 row 제거\n",
    "copy = copy.drop(['ABBV'])\n",
    "copy.tail()"
   ]
  }
 ],
 "metadata": {
  "kernelspec": {
   "display_name": "Python 3",
   "language": "python",
   "name": "python3"
  },
  "language_info": {
   "codemirror_mode": {
    "name": "ipython",
    "version": 3
   },
   "file_extension": ".py",
   "mimetype": "text/x-python",
   "name": "python",
   "nbconvert_exporter": "python",
   "pygments_lexer": "ipython3",
   "version": "3.7.3"
  }
 },
 "nbformat": 4,
 "nbformat_minor": 1
}
