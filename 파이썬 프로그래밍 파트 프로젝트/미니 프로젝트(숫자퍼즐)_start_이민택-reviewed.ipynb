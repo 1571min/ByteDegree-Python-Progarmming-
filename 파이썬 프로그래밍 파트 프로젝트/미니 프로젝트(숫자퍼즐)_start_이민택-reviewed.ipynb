{
 "cells": [
  {
   "cell_type": "markdown",
   "metadata": {},
   "source": [
    "## Byte degree 미니 프로젝트\n",
    " - 숫자 퍼즐 게임 완성하기\n",
    " - 아래와 같이 숫자 퍼즐을 만들고 숫자를 이동시켜 순서대로 맞추는 게임\n",
    " - ![퍼즐이미지](https://i.stack.imgur.com/0B14h.png)\n",
    " - [이미지 출처](https://math.stackexchange.com/questions/635188/what-is-the-parity-of-permutation-in-the-15-puzzle)"
   ]
  },
  {
   "cell_type": "code",
   "execution_count": 9,
   "metadata": {},
   "outputs": [],
   "source": [
    "import random"
   ]
  },
  {
   "cell_type": "markdown",
   "metadata": {},
   "source": [
    "### 게임 로직 구현하기\n",
    " 1. 퍼즐 생성하기\n",
    " 2. 퍼즐 랜덤하게 섞기\n",
    " 3. 퍼즐 출력\n",
    " 4. 사용자 입력(움직일 숫자 입력 받기)\n",
    " 5. 퍼즐 완성 확인하기\n",
    "   - 완성? 완료 메시지와 함께 종료\n",
    "   - 미완성? 3번으로 이동"
   ]
  },
  {
   "cell_type": "markdown",
   "metadata": {},
   "source": [
    "#### 퍼즐 생성하기\n",
    " - 2차원 리스트 형태로 생성\n",
    " - 퍼즐의 크기(size)를 파라미터로 받아, 동적으로 size*size의 리스트로 생성\n",
    " - 퍼즐이 생성되면 1부터 차례대로 행방향으로 숫자를 나열\n",
    "   - 사이즈가 3인 경우의 생성 예\n",
    "   -  [[1, 2, 3],\n",
    "      [4, 5, 6],\n",
    "      [7, 8, 9]]\n",
    " - 퍼즐의 가장 마지막 아이템(마지막 행의 마지막 열 아이템)은 '' 빈문자열로 처리\n",
    "   - 이유는? 숫자퍼즐의 목표는 빈공간을 이용해 각 이동하고자 하는 숫자를 빈공간으로 움직여 숫자들을 순서대로 다시 맞추는 것이 목적이므로, 빈공간을 표현하기 위한 방법으로 빈문자열을 사용"
   ]
  },
  {
   "cell_type": "markdown",
   "metadata": {},
   "source": [
    "* pure python 버젼"
   ]
  },
  {
   "cell_type": "code",
   "execution_count": 10,
   "metadata": {},
   "outputs": [],
   "source": [
    "# 밑줄 부분을 채워봅니다.\n",
    "\n",
    "\n",
    "def initiate_puzzle(size):\n",
    "    \n",
    "    '''\n",
    "    파라미터\n",
    "     size: 퍼즐의 크기\n",
    "    리턴\n",
    "     생성된 퍼즐 리스트\n",
    "    '''\n",
    "    \n",
    "    puzzle = []\n",
    "    for i in range(size):\n",
    "        row = []\n",
    "        for j in range(size):\n",
    "            row.append(i*size+1+j)\n",
    "        puzzle.append(row)\n",
    "\n",
    "    puzzle[-1][-1] = ''\n",
    "    return puzzle"
   ]
  },
  {
   "cell_type": "markdown",
   "metadata": {},
   "source": [
    ">- 리뷰\n",
    "   - i와 j를 적절하게 잘 배치하셨습니다.\n",
    "   - 또 j 값과 함께 +1을 같이 잘 주셨구요.\n",
    "     - 아시다시피 +1이 없다면 j는 0부터 시작되기에 중복되는 값이 생길테니까요"
   ]
  },
  {
   "cell_type": "markdown",
   "metadata": {},
   "source": [
    "* numpy 버젼"
   ]
  },
  {
   "cell_type": "code",
   "execution_count": 11,
   "metadata": {},
   "outputs": [],
   "source": [
    "# 밑줄 부분을 채워봅니다.\n",
    "import numpy as np\n",
    "def initiate_puzzle(size):\n",
    "    \n",
    "    '''\n",
    "    파라미터\n",
    "     size: 퍼즐의 크기\n",
    "    리턴\n",
    "     생성된 퍼즐 리스트\n",
    "    '''\n",
    "    \n",
    "    puzzle = np.arange(1,size*size+1).reshape(size,size)\n",
    "    puzzle = puzzle.tolist() \n",
    "    puzzle[-1][-1] = ''\n",
    "    return puzzle"
   ]
  },
  {
   "cell_type": "markdown",
   "metadata": {},
   "source": [
    "---\n",
    ">- 리뷰\n",
    "   - 빈칸에 알맞게 잘 넣으셨습니다.\n",
    "   - 직관적으로 size X size 라고도 적어주셨네요!\n",
    "   - numpy version의 경우에도 그 위의 함수와 같은 결과가 나와야합니다.\n",
    "   - numpy.arnage에서 size*size + 1을 잘 넣어주셨네요!\n",
    "   - +1을 하지 않으면 size*size - 1만큼 생성되겠지요\n",
    "     - 게다가 1부터 시작하도록 했으니 size * size -2만큼 생성되겠네요!"
   ]
  },
  {
   "cell_type": "code",
   "execution_count": 12,
   "metadata": {},
   "outputs": [],
   "source": [
    "puzzle = initiate_puzzle(4)"
   ]
  },
  {
   "cell_type": "markdown",
   "metadata": {},
   "source": [
    "#### 퍼즐 출력하기\n",
    " - 생성된 퍼즐(puzzle)을 파라미터로 받아 화면에 출력\n",
    " - 이때, 퍼즐은 2차원 형태이므로 2중 loop을 이용"
   ]
  },
  {
   "cell_type": "code",
   "execution_count": 13,
   "metadata": {},
   "outputs": [],
   "source": [
    "# pass를 삭제하고 아래에 이중 for 문을 사용해 코드를 작성해봅니다.\n",
    "\n",
    "\n",
    "def show_puzzle(puzzle):\n",
    "    \n",
    "    '''\n",
    "    파라미터\n",
    "     puzzle: 퍼즐 \n",
    "    리턴\n",
    "     None\n",
    "    '''\n",
    "    for row in puzzle:\n",
    "        for i in row:\n",
    "            print(format(i,\"3\"),end=\" \")\n",
    "        print()\n",
    "    \n",
    "    "
   ]
  },
  {
   "cell_type": "markdown",
   "metadata": {},
   "source": [
    "---\n",
    ">- 리뷰\n",
    "   - print function을 적절하게 사용하셔서 아래와 같이 보기 좋게 출력하셨네요.\n",
    "   - print function의 end의 default 값은 new line (=\\\\n)입니다. \n",
    "   - 이미 아시다시피 따로 설정해주지 않으면 다음줄로 표시되고 말아버리지요\n",
    "   - row에 대한 for 문이 끝나고 print 호출하신 것도 적절하게 잘하셨습니다\n",
    "     - 그렇지 않았다면 같은 줄에 계속 나왔을테니까요\n",
    "   - 여담이지만 위에 사용하신 format()을 사용하셔도 되지만 위와 같이 사용할 경우 ''.format() 과 같은 형태로 주로 사용합니다.\n",
    "     - ex)\n",
    "         '{:3}'.format(i)\n",
    "   - python3에서는 f'' 만으로 표시할 수  있어요!\n",
    "     - 예)\n",
    "          f'{i:3}'"
   ]
  },
  {
   "cell_type": "code",
   "execution_count": 14,
   "metadata": {},
   "outputs": [
    {
     "name": "stdout",
     "output_type": "stream",
     "text": [
      "  1   2   3   4 \n",
      "  5   6   7   8 \n",
      "  9  10  11  12 \n",
      " 13  14  15     \n"
     ]
    }
   ],
   "source": [
    "show_puzzle(puzzle)"
   ]
  },
  {
   "cell_type": "markdown",
   "metadata": {},
   "source": [
    "#### 퍼즐 섞기(shuffling)\n",
    " - 생성할때부터 랜덤하게 숫자를 배열하지 않고, 완성된 상태에서 퍼즐을 섞어야 함\n",
    "   - 이유? 랜덤하게 배열하는 경우, 퍼즐이 완성되지 못하는 경우의 수가 수학적으로 존재하기 때문\n",
    "   - 퍼즐을 완성시킬 수 없는 예\n",
    "   - [[1, 2, 3, 4], [5, 6, 7, 8], [9, 10, 11, 12], [13, 15, 14, '']]\n",
    "   - [출처: 네이버 블로그](https://post.naver.com/viewer/postView.nhn?volumeNo=17980703&memberNo=16868720) "
   ]
  },
  {
   "cell_type": "code",
   "execution_count": 15,
   "metadata": {},
   "outputs": [],
   "source": [
    "# 밑줄 부분을 채워봅니다.\n",
    "def get_index(puzzle, n):\n",
    "    \n",
    "    '''\n",
    "    파라미터\n",
    "      puzzle: 퍼즐\n",
    "      n: 퍼즐 내에서 찾으려는 숫자 혹은 빈공간('') 값\n",
    "    리턴\n",
    "      퍼즐에서 해당 숫자나 빈공간을 찾았다면 해당 인덱스를 반환\n",
    "      찾지 못했다면 None, None 반환\n",
    "    '''\n",
    "    \n",
    "    for i in range(len(puzzle)):\n",
    "        try:\n",
    "            index = puzzle[i].index(n)\n",
    "            return (i,index) if not index==None else (None,None)\n",
    "        except:\n",
    "            continue\n",
    "    return (None,None)"
   ]
  },
  {
   "cell_type": "markdown",
   "metadata": {},
   "source": [
    "---\n",
    ">- 리뷰\n",
    "   - 적절한 attribute를 잘 찾아써주셨네요!\n",
    "   - list 내에서 원하는 item의 index를 찾고 싶을때는 list.index(item)을 사용합니다.\n",
    "     - 꽤나 직관적이지요\n",
    "   - .index를 사용했을 떄 원하는 값이 list 내부에 없으면 Error가 납니다.\n",
    "   - 이 때문에 try except를 사용했구요\n",
    "     - list에 원하는 값이 없을 경우 except로 넘어갈 것입니다.\n",
    "   - try 안의 return에서 if not index == None else (None, None)을 붙여주신 이유가 index에서 못 찾았을때를 위해 넣으신거 같아요\n",
    "   - 그 경우를 위해 try except를 사용한 것이니 참고해주세요!\n",
    "     - try except를 뺴고 위의 return을 그대로 사용했어도 index에서 error가 나기 때문에 return으로 가기 전에 코드가 끝나버리니 유의해주세요!"
   ]
  },
  {
   "cell_type": "code",
   "execution_count": 16,
   "metadata": {},
   "outputs": [],
   "source": [
    "\n",
    "def shuffle_puzzle(puzzle, shuffle_count):\n",
    "    \n",
    "    '''\n",
    "    파라미터\n",
    "     puzzle: 퍼즐\n",
    "     shuffle_count: 섞을 횟수\n",
    "    리턴\n",
    "     None\n",
    "    '''\n",
    "    \n",
    "    # 각각 섞을 때마다 빈공간을 기준으로 상하좌우의 방향으로 섞기 위해\n",
    "    # 방향 리스트 생성\n",
    "    # 순서대로 상 우 하 좌 \n",
    "    dxs = [1, 0, -1,  0]\n",
    "    dys = [0, 1,  0, -1]\n",
    "\n",
    "    cnt = 0\n",
    "    while cnt <= shuffle_count:\n",
    "        rnd = random.randint(0, 3)\n",
    "        dx = dxs[rnd]\n",
    "        dy = dys[rnd]\n",
    "\n",
    "        # 빈공간의 index 얻기\n",
    "        i, j = get_index(puzzle, '')            \n",
    "        ni = i + dx\n",
    "        nj = j + dy\n",
    "\n",
    "        # 새로 얻은 인덱스 확인(퍼즐 범위내에 포함되는지) 하여 숫자 이동\n",
    "        if 0 <= ni < len(puzzle) and 0 <= nj < len(puzzle[0]):\n",
    "            puzzle[ni][nj], puzzle[i][j] = puzzle[i][j], puzzle[ni][nj]\n",
    "        \n",
    "        cnt += 1"
   ]
  },
  {
   "cell_type": "code",
   "execution_count": 17,
   "metadata": {},
   "outputs": [
    {
     "name": "stdout",
     "output_type": "stream",
     "text": [
      "  1   2   3   4 \n",
      "  5   6   7   8 \n",
      "  9  10  11  12 \n",
      " 13      14  15 \n"
     ]
    }
   ],
   "source": [
    "shuffle_puzzle(puzzle, 10)\n",
    "show_puzzle(puzzle)"
   ]
  },
  {
   "cell_type": "markdown",
   "metadata": {},
   "source": [
    "#### 퍼즐이 완성되었는지 확인하기\n",
    " - 퍼즐이 완성된 형태인지 확인\n",
    " - puzzle 퍼즐로 활용할 리스트, completed 완성된 형태의 퍼즐 리스트 \n",
    " - 완성되었다면 True, 아니라면 False 반환"
   ]
  },
  {
   "cell_type": "code",
   "execution_count": 18,
   "metadata": {},
   "outputs": [],
   "source": [
    "# pass를 삭제하고 아래에 return 코드를 작성해봅니다.\n",
    "\n",
    "def is_puzzle_completed(puzzle, completed):\n",
    "    for i in range(len(puzzle)):\n",
    "        for j in range(len(puzzle)):\n",
    "            if not puzzle[i][j]==completed[i][j]:\n",
    "                return False\n",
    "    return True"
   ]
  },
  {
   "cell_type": "markdown",
   "metadata": {},
   "source": [
    "---\n",
    ">- 리뷰\n",
    "   - 과정이 다소 복잡하게 표현하셨지만 잘 하셨습니다.\n",
    "   - 위의 function은 puzzle과 completed가 동일한가를 체크하는 일을 합니다.\n",
    "   - 하나하나의 요소를 비교해도 되지만\n",
    "   - 단순하게 puzzle == completed로 해도 둘이 똑같은 가를 비교할 수 있어요!"
   ]
  },
  {
   "cell_type": "markdown",
   "metadata": {},
   "source": [
    "#### 퍼즐 이동하기\n",
    " - 퍼즐 내의 숫자를 이동\n",
    " - 이때 이동이 가능한 경우는 해당 숫자가 빈공간 상하좌우에 위치한 경우에만 가능"
   ]
  },
  {
   "cell_type": "code",
   "execution_count": 19,
   "metadata": {},
   "outputs": [],
   "source": [
    "def move_by_number(puzzle, n):\n",
    "    # 숫자가 위치한 index\n",
    "    i, j = get_index(puzzle, n)\n",
    "    \n",
    "    # index를 이용하여 숫자 이동\n",
    "    move_by_index(puzzle, i, j)"
   ]
  },
  {
   "cell_type": "code",
   "execution_count": 20,
   "metadata": {},
   "outputs": [],
   "source": [
    "# 밑줄 부분을 채워봅니다.\n",
    "def move_by_index(puzzle, i, j):\n",
    "    # 좌우위아래 한방향중 하나가 '' 값이라면 이동 가능\n",
    "    for dx, dy in ((1, 0), (0, 1), (-1, 0), (0, -1)):\n",
    "        new_i = i + dx\n",
    "        new_j = j + dy\n",
    "\n",
    "        # boundary 체크(갈 수 없는 곳이면 패스)\n",
    "        if (new_i>=len(puzzle)or new_i<0) or(new_j>=len(puzzle)or new_j<0) or (not puzzle[new_i][new_j]==''):\n",
    "            continue\n",
    "\n",
    "        # 옆에 빈 공간인 경우에는 퍼즐의 위치를 빈공간과 바꿈(swap)\n",
    "        if puzzle[new_i][new_j] == '':\n",
    "            puzzle[i][j],puzzle[new_i][new_j]=puzzle[new_i][new_j],puzzle[i][j]\n",
    "            return "
   ]
  },
  {
   "cell_type": "markdown",
   "metadata": {},
   "source": [
    "---\n",
    ">- 리뷰\n",
    "   - 복잡한 조건문이었는데 아주 잘 써주셨습니다.\n",
    "   - 위를 좀 더 단순히 하자면 갈 수 있는 곳이 아닌 경우 continue를 하면 더 직관적으로 보일 것 같아요.\n",
    "     - if not (boundary 조건문)\n",
    "   - 아시다시피 new_i, new_j는 puzzle의 가로 세로 길이를 벗어나면 안되어 len(puzzle)을 사용하고\n",
    "   - 음수가 나올 가능성이 있기 때문에 0에 대한 조건도 붙어야합니다.\n",
    "   - 마지막으로 swap에서도 아주 잘 써주셨습니다.\n",
    "   - python의 장점으로 위와 같이 한줄로 swap을 진행할 수 있습니다."
   ]
  },
  {
   "cell_type": "markdown",
   "metadata": {},
   "source": [
    "#### 사용자 프롬프트 입력\n",
    " - 게임의 진행을 위해 동적으로 키보드 입력을 받을 필요가 있음\n",
    "   - 퍼즐의 크기, 이동할 수 지정 \n",
    " - 이를 위해 input 함수 사용\n",
    "   - 원하는 값 입력후, Enter"
   ]
  },
  {
   "cell_type": "code",
   "execution_count": 21,
   "metadata": {},
   "outputs": [
    {
     "name": "stdout",
     "output_type": "stream",
     "text": [
      "입력하세요4\n",
      "4\n"
     ]
    }
   ],
   "source": [
    "value = input('입력하세요')\n",
    "print(value)"
   ]
  },
  {
   "cell_type": "markdown",
   "metadata": {},
   "source": [
    "* 입력받은 값을 숫자형태로 변경"
   ]
  },
  {
   "cell_type": "code",
   "execution_count": 22,
   "metadata": {},
   "outputs": [
    {
     "name": "stdout",
     "output_type": "stream",
     "text": [
      "숫자를 입력하세요4\n",
      "4\n"
     ]
    }
   ],
   "source": [
    "value = int(input('숫자를 입력하세요'))\n",
    "print(value)"
   ]
  },
  {
   "cell_type": "markdown",
   "metadata": {},
   "source": [
    "#### 퍼즐, 퍼즐 완성본 생성 및 셔플링"
   ]
  },
  {
   "cell_type": "markdown",
   "metadata": {},
   "source": [
    "* 퍼즐 사이즈 입력"
   ]
  },
  {
   "cell_type": "code",
   "execution_count": 23,
   "metadata": {},
   "outputs": [
    {
     "name": "stdout",
     "output_type": "stream",
     "text": [
      "-> 퍼즐 사이즈를 입력하세요: 4\n",
      "퍼즐 사이즈:  4\n"
     ]
    }
   ],
   "source": [
    "size = int(input('-> 퍼즐 사이즈를 입력하세요: '))\n",
    "print('퍼즐 사이즈: ', size)"
   ]
  },
  {
   "cell_type": "markdown",
   "metadata": {},
   "source": [
    "* 퍼즐 생성"
   ]
  },
  {
   "cell_type": "code",
   "execution_count": 24,
   "metadata": {},
   "outputs": [],
   "source": [
    "puzzle = initiate_puzzle(size)"
   ]
  },
  {
   "cell_type": "markdown",
   "metadata": {},
   "source": [
    "* 퍼즐 완성본 생성\n",
    " - 기존 퍼즐을 복사하여 생성\n",
    " - 아래와 같이 deep copy본으로 생성\n",
    "   - 그렇지 않으면, 항상 puzzle과 complete가 동일한 객체가 됨"
   ]
  },
  {
   "cell_type": "code",
   "execution_count": 25,
   "metadata": {},
   "outputs": [],
   "source": [
    "complete = [row[:] for row in puzzle]"
   ]
  },
  {
   "cell_type": "markdown",
   "metadata": {},
   "source": [
    "* copy 모듈을 이용해서도 가능"
   ]
  },
  {
   "cell_type": "code",
   "execution_count": 26,
   "metadata": {},
   "outputs": [],
   "source": [
    "import copy\n",
    "complete = copy.deepcopy(puzzle)"
   ]
  },
  {
   "cell_type": "code",
   "execution_count": 27,
   "metadata": {},
   "outputs": [
    {
     "name": "stdout",
     "output_type": "stream",
     "text": [
      "  1   2   3   4 \n",
      "  5   6   7   8 \n",
      "  9  10  11  12 \n",
      " 13  14  15     \n"
     ]
    }
   ],
   "source": [
    "show_puzzle(complete)"
   ]
  },
  {
   "cell_type": "code",
   "execution_count": 28,
   "metadata": {},
   "outputs": [
    {
     "name": "stdout",
     "output_type": "stream",
     "text": [
      "  1   2   3   4 \n",
      "  5   6   7   8 \n",
      "  9  10  11  12 \n",
      " 13  14  15     \n"
     ]
    }
   ],
   "source": [
    "show_puzzle(puzzle)"
   ]
  },
  {
   "cell_type": "markdown",
   "metadata": {},
   "source": [
    "* 퍼즐 섞기"
   ]
  },
  {
   "cell_type": "code",
   "execution_count": 29,
   "metadata": {},
   "outputs": [],
   "source": [
    "shuffle_puzzle(puzzle, 300)"
   ]
  },
  {
   "cell_type": "code",
   "execution_count": 30,
   "metadata": {},
   "outputs": [
    {
     "name": "stdout",
     "output_type": "stream",
     "text": [
      "  2   1   9   4 \n",
      " 12  11   6   8 \n",
      "  3  13   7  14 \n",
      "  5  10      15 \n"
     ]
    }
   ],
   "source": [
    "show_puzzle(puzzle)"
   ]
  },
  {
   "cell_type": "markdown",
   "metadata": {},
   "source": [
    "#### 게임 루프 \n",
    " - 퍼즐이 완성되었나 확인\n",
    "   - 완성되었다면 종료\n",
    "   - 완성되지 않았다면 사용자 입력 대기 및 퍼즐 출력 "
   ]
  },
  {
   "cell_type": "code",
   "execution_count": 31,
   "metadata": {
    "scrolled": true
   },
   "outputs": [
    {
     "name": "stdout",
     "output_type": "stream",
     "text": [
      "  2   1   9   4 \n",
      " 12  11   6   8 \n",
      "  3  13   7  14 \n",
      "  5  10      15 \n",
      " -> 움직일 숫자를 입력하세요(q를 입력하면 종료) : ㅂ\n",
      "숫자가 아닙니다.\n",
      " -> 움직일 숫자를 입력하세요(q를 입력하면 종료) : q\n",
      "\n",
      "게임종료!\n"
     ]
    }
   ],
   "source": [
    "# output을 clear하기 위해 사용\n",
    "from IPython.display import clear_output\n",
    "# 밑줄 부분을 채워봅니다.\n",
    "\n",
    "\n",
    "show_puzzle(puzzle)\n",
    "shuffle_puzzle(puzzle,300)\n",
    "while not is_puzzle_completed(puzzle,complete):\n",
    "    # 숫자를 입력하지 않은 경우에 대한 예외 처리\n",
    "    try:\n",
    "        choice=input(' -> 움직일 숫자를 입력하세요(q를 입력하면 종료) : ')\n",
    "        if choice=='q': break\n",
    "        num = int(choice)\n",
    "    except:\n",
    "        print('숫자가 아닙니다.')\n",
    "        continue\n",
    "\n",
    "    # 움직일 수 선택하기\n",
    "    move_by_number(puzzle,num)\n",
    "\n",
    "    # 화면 clear\n",
    "    clear_output()\n",
    "\n",
    "    # 움직인 이후 퍼즐 상태 보기\n",
    "    show_puzzle(puzzle)\n",
    "\n",
    "# 루프의 종료는 곧 퍼즐의 완성을 의미!\n",
    "if(choice=='q'):\n",
    "    print('\\n게임종료!')\n",
    "else:\n",
    "    print('\\n퍼즐 완성!')"
   ]
  },
  {
   "cell_type": "markdown",
   "metadata": {},
   "source": [
    "---\n",
    ">- 리뷰\n",
    "   - 어떤 이유로 함수가 쓰여졌으며 어떻게 써야하는지 잘 이해하셨습니다.\n",
    "   - 빈칸에 들어갈 함수와 argument를 적절히 쓰셨고요!\n",
    "   - 참고사항이지만 위와 같이 적절한 함수를 호출하기 위해선 네이밍도 중요합니다.\n",
    "     - 네이밍에서 함수의 역할을 알지 못하면 매번 그 함수가 무슨 일을 하는지 체크해야 하거든요\n",
    "   - 추가로 넣어주신 code는 user friendly하게 넣어주셔서 아주 좋았습니다!"
   ]
  },
  {
   "cell_type": "code",
   "execution_count": null,
   "metadata": {},
   "outputs": [],
   "source": []
  }
 ],
 "metadata": {
  "kernelspec": {
   "display_name": "Python 3",
   "language": "python",
   "name": "python3"
  },
  "language_info": {
   "codemirror_mode": {
    "name": "ipython",
    "version": 3
   },
   "file_extension": ".py",
   "mimetype": "text/x-python",
   "name": "python",
   "nbconvert_exporter": "python",
   "pygments_lexer": "ipython3",
   "version": "3.7.2"
  }
 },
 "nbformat": 4,
 "nbformat_minor": 2
}
