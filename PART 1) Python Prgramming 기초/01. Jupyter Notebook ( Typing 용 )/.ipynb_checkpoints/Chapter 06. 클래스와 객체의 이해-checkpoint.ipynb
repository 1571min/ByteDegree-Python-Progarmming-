{
 "cells": [
  {
   "cell_type": "markdown",
   "metadata": {},
   "source": [
    "### 학습목표\n",
    " 1. 클래스와 오브젝트에 대한 이해"
   ]
  },
  {
   "cell_type": "markdown",
   "metadata": {},
   "source": [
    "#### **class란?**\n",
    " + 실세계의 것을 모델링하여 속성(attribute)와 동작(method)를 갖는 데이터 타입\n",
    " + python에서의 string, int, list, dict.. 모두가 다 클래스로 존재\n",
    " + 예를들어 학생이라는 클래스를 만든다면, 학생을 나타내는 속성과 학생이 행하는 행동을 함께 정의 할 수 있음\n",
    " + 따라서, 다루고자 하는 데이터(변수) 와 데이터를 다루는 연산(함수)를 하나로 캡슐화(encapsulation)하여 클래스로 표현\n",
    " + 모델링에서 중요시 하는 속성에 따라 클래스의 속성과 행동이 각각 달라짐"
   ]
  },
  {
   "cell_type": "code",
   "execution_count": 2,
   "metadata": {},
   "outputs": [
    {
     "name": "stdout",
     "output_type": "stream",
     "text": [
      "[1, 2, 3, 4, 5]\n"
     ]
    }
   ],
   "source": [
    "a=[1,2,3,4]\n",
    "a.append(5)\n",
    "print(a)"
   ]
  },
  {
   "cell_type": "markdown",
   "metadata": {},
   "source": [
    "#### **object 란?**\n",
    " - 클래스로 생성되어 구체화된 객체(인스턴스)\n",
    " - 파이썬의 모든 것(int, str, list..etc)은 객체(인스턴스)\n",
    " - 실제로 class가 인스턴스화 되어 메모리에 상주하는 상태를 의미\n",
    " - class가 빵틀이라면, object는 실제로 빵틀로 찍어낸 빵이라고 비유 가능\n"
   ]
  },
  {
   "cell_type": "code",
   "execution_count": null,
   "metadata": {},
   "outputs": [],
   "source": []
  },
  {
   "cell_type": "markdown",
   "metadata": {},
   "source": [
    "#### **class 선언하기**\n",
    "  - 객체를 생성하기 위해선 객체의 모체가 되는 class를 미리 선언해야 함 "
   ]
  },
  {
   "cell_type": "code",
   "execution_count": 6,
   "metadata": {},
   "outputs": [],
   "source": [
    "class person:\n",
    "    pass\n"
   ]
  },
  {
   "cell_type": "code",
   "execution_count": 9,
   "metadata": {},
   "outputs": [
    {
     "name": "stdout",
     "output_type": "stream",
     "text": [
      "<class '__main__.person'>\n"
     ]
    }
   ],
   "source": [
    "bob=person()\n",
    "cathy=person()\n",
    "\n",
    "print(type(bob))"
   ]
  },
  {
   "cell_type": "markdown",
   "metadata": {},
   "source": [
    "#### __init__(self)\n",
    " + 생성자, 클래스 인스턴스가 생성될 때 호출됨\n",
    " + self인자는 항상 첫번째에 오며 자기 자신을 가리킴\n",
    " + 이름이 꼭 self일 필요는 없지만, 관례적으로 self로 사용\n",
    " \n",
    " + 생성자에서는 해당 클래스가 다루는 데이터를 정의\n",
    "   - 이 데이터를 멤버 변수(member variable) 또는 속성(attribute)라고 함"
   ]
  },
  {
   "cell_type": "code",
   "execution_count": 19,
   "metadata": {},
   "outputs": [
    {
     "name": "stdout",
     "output_type": "stream",
     "text": [
      "<__main__.Person object at 0x0000015361327860> is generated\n",
      "kate 10\n"
     ]
    }
   ],
   "source": [
    "class Person:\n",
    "    def __init__(self):\n",
    "        print(self,'is generated')\n",
    "        self.name='kate'\n",
    "        self.age=10\n",
    "    \n",
    "        \n",
    "p1=Person()\n",
    "\n",
    "print(p1.name,p1.age)\n"
   ]
  },
  {
   "cell_type": "code",
   "execution_count": 20,
   "metadata": {},
   "outputs": [
    {
     "name": "stdout",
     "output_type": "stream",
     "text": [
      "<__main__.Person object at 0x0000015361AAC588> is generated\n",
      "<__main__.Person object at 0x0000015361AAC5C0> is generated\n",
      "Bob 30\n",
      "Kate 20\n"
     ]
    }
   ],
   "source": [
    "class Person:\n",
    "    def __init__(self,name,age):\n",
    "        print(self,'is generated')\n",
    "        self.name=name\n",
    "        self.age=age\n",
    "    \n",
    "        \n",
    "p1=Person('Bob',30)\n",
    "p2=Person('Kate',20)\n",
    "\n",
    "print(p1.name,p1.age)\n",
    "print(p2.name,p2.age)"
   ]
  },
  {
   "cell_type": "markdown",
   "metadata": {},
   "source": [
    "#### **mehtod 정의**\n",
    " + 멤버함수라고도 하며, 해당 클래스의 object에서만 호출가능\n",
    " + 메쏘드는 객체 레벨에서 호출되며, 해당 객체의 속성에 대한 연산을 행함\n",
    " + {obj}.{method}() 형태로 호출됨"
   ]
  },
  {
   "cell_type": "code",
   "execution_count": 32,
   "metadata": {},
   "outputs": [
    {
     "name": "stdout",
     "output_type": "stream",
     "text": [
      "현재 값은:  0\n",
      "현재 값은:  1\n",
      "현재 값은:  2\n",
      "현재 값은:  3\n",
      "현재 값은:  4\n",
      "현재 값은:  0\n"
     ]
    }
   ],
   "source": [
    "#1. 숫자를 하나 증가\n",
    "#2. 숫자를 0으로 초기화\n",
    "class Counter:\n",
    "    def __init__(self):\n",
    "        self.num=0\n",
    "    def increment(self):\n",
    "        self.num+=1\n",
    "    def reset(self):\n",
    "        self.num=0\n",
    "    def print_current_value(self):\n",
    "        print('현재 값은: ',self.num)\n",
    "    \n",
    "c1=Counter()\n",
    "c1.print_current_value()\n",
    "\n",
    "for i in range(1,5):\n",
    "    c1.increment()\n",
    "    c1.print_current_value()\n",
    "c1.reset()\n",
    "c1.print_current_value()"
   ]
  },
  {
   "cell_type": "markdown",
   "metadata": {},
   "source": [
    " #### **Class Inheritance (상속)**\n",
    "  - 기존에 정의해둔 클래스의 기능을 그대로 물려받을 수 있다.\n",
    "  - 기존 클래스에 기능 일부를 추가하거나, 변경하여 새로운 클래스를 정의한다.\n",
    "  - 코드를 재사용할 수 있게된다.\n",
    "  - 상속 받고자 하는 대상인 기존 클래스는 (Parent, Super, Base class 라고 부른다.)\n",
    "  - 상속 받는 새로운 클래스는(Child, Sub, Derived class 라고 부른다.)\n",
    "  - 의미적으로 is-a관계를 갖는다"
   ]
  },
  {
   "cell_type": "code",
   "execution_count": 39,
   "metadata": {},
   "outputs": [
    {
     "name": "stdout",
     "output_type": "stream",
     "text": [
      "Bob은 bbq를 먹습니다.\n",
      "Bob은 30분동안 잡니다.\n",
      "Bob은 60분동안 일합니다.\n"
     ]
    }
   ],
   "source": [
    "class Person:\n",
    "    def __init__(self,name,age):\n",
    "        self.name=name\n",
    "        self.age=age\n",
    "    def eat(self,food):\n",
    "        print('{}은 {}를 먹습니다.'.format(self.name,food))\n",
    "    def sleep(self,minute):\n",
    "        print('{}은 {}분동안 잡니다.'.format(self.name,minute))\n",
    "    def work(self,minute):\n",
    "        print('{}은 {}분동안 일합니다.'.format(self.name,minute))\n",
    "        \n",
    "class Student(Person):\n",
    "    def __init__(self,name,age):\n",
    "        self.name=name\n",
    "        self.age=age\n",
    "class Employee(Person):\n",
    "    def __init__(self,name,age):\n",
    "        self.name=name\n",
    "        self.age=age\n",
    "        \n",
    "        \n",
    "bob=Student('Bob',25)\n",
    "bob.eat('bbq')\n",
    "bob.sleep(30)\n",
    "bob.work(60)"
   ]
  },
  {
   "cell_type": "markdown",
   "metadata": {},
   "source": [
    "#### **method override**\n",
    " - 부모 클래스의 method를 재정의(override)\n",
    " - 하위 클래스(자식 클래스) 의 인스턴스로 호출시, 재정의된 메소드가 호출됨"
   ]
  },
  {
   "cell_type": "code",
   "execution_count": 41,
   "metadata": {},
   "outputs": [
    {
     "name": "stdout",
     "output_type": "stream",
     "text": [
      "Bob은 60분동안 일합니다.\n",
      "Bob은 60분동안 공부합니다.\n",
      "Bob은 60분동안 업무를 합니다.\n"
     ]
    }
   ],
   "source": [
    "class Person:\n",
    "    def __init__(self,name,age):\n",
    "        self.name=name\n",
    "        self.age=age\n",
    "    def eat(self,food):\n",
    "        print('{}은 {}를 먹습니다.'.format(self.name,food))\n",
    "    def sleep(self,minute):\n",
    "        print('{}은 {}분동안 잡니다.'.format(self.name,minute))\n",
    "    def work(self,minute):\n",
    "        print('{}은 {}분동안 일합니다.'.format(self.name,minute))\n",
    "        \n",
    "class Student(Person):\n",
    "    def __init__(self,name,age):\n",
    "        self.name=name\n",
    "        self.age=age\n",
    "    def work(self,minute):\n",
    "        print('{}은 {}분동안 공부합니다.'.format(self.name,minute))\n",
    "class Employee(Person):\n",
    "    def __init__(self,name,age):\n",
    "        self.name=name\n",
    "        self.age=age\n",
    "    def work(self,minute):\n",
    "        print('{}은 {}분동안 업무를 합니다.'.format(self.name,minute))\n",
    "        \n",
    "        \n",
    "bob=Person('Bob',25)\n",
    "bob.work(60)\n",
    "\n",
    "bob=Student('Bob',25)\n",
    "bob.work(60)\n",
    "\n",
    "bob=Employee('Bob',25)\n",
    "bob.work(60)"
   ]
  },
  {
   "cell_type": "markdown",
   "metadata": {},
   "source": [
    "#### super \n",
    " - 하위클래스(자식 클래스)에서 부모클래스의 method를 호출할 때 사용"
   ]
  },
  {
   "cell_type": "code",
   "execution_count": 43,
   "metadata": {},
   "outputs": [
    {
     "name": "stdout",
     "output_type": "stream",
     "text": [
      "Bob은 60분동안 준비를 합니다.\n",
      "Bob은 60분동안 공부합니다.\n",
      "Bob은 60분동안 준비를 합니다.\n",
      "Bob은 60분동안 업무를 합니다.\n"
     ]
    }
   ],
   "source": [
    "class Person:\n",
    "    def __init__(self,name,age):\n",
    "        self.name=name\n",
    "        self.age=age\n",
    "    def eat(self,food):\n",
    "        print('{}은 {}를 먹습니다.'.format(self.name,food))\n",
    "    def sleep(self,minute):\n",
    "        print('{}은 {}분동안 잡니다.'.format(self.name,minute))\n",
    "    def work(self,minute):\n",
    "        print('{}은 {}분동안 준비를 합니다.'.format(self.name,minute))\n",
    "        \n",
    "class Student(Person):\n",
    "    def __init__(self,name,age):\n",
    "        self.name=name\n",
    "        self.age=age\n",
    "    def work(self,minute):\n",
    "        super().work(minute)\n",
    "        print('{}은 {}분동안 공부합니다.'.format(self.name,minute))\n",
    "class Employee(Person):\n",
    "    def __init__(self,name,age):\n",
    "        self.name=name\n",
    "        self.age=age\n",
    "    def work(self,minute):\n",
    "        super().work(minute)\n",
    "        print('{}은 {}분동안 업무를 합니다.'.format(self.name,minute))\n",
    "        \n",
    "\n",
    "bob=Student('Bob',25)\n",
    "bob.work(60)\n",
    "\n",
    "bob=Employee('Bob',25)\n",
    "bob.work(60)"
   ]
  },
  {
   "cell_type": "markdown",
   "metadata": {},
   "source": [
    "#### **self**\n",
    " - 파이썬의 method는 항상 첫번째 인자로 self를 전달\n",
    " - self는 현재 해당 메쏘드가 호출되는 객체 자신을 가리킴\n",
    " - C++/C#, Java의 this에 해당\n",
    " - 역시, 이름이 self일 필요는 없으나, 위치는 항상 맨 처음의 parameter이며 관례적으로 self로 사용"
   ]
  },
  {
   "cell_type": "code",
   "execution_count": 27,
   "metadata": {},
   "outputs": [
    {
     "name": "stdout",
     "output_type": "stream",
     "text": [
      "self :  <__main__.Person object at 0x0000015361B15860>\n",
      "self :  <__main__.Person object at 0x0000015361B158D0>\n",
      "<__main__.Person object at 0x0000015361B15860>\n",
      "<__main__.Person object at 0x0000015361B158D0>\n",
      "Bob 은 잠을 잡니다.\n",
      "Kate 은 잠을 잡니다.\n"
     ]
    }
   ],
   "source": [
    "class Person:\n",
    "    def __init__(self,name,age):\n",
    "        print('self : ',self)\n",
    "        self.name=name\n",
    "        self.age=age\n",
    "    def  sleep(self):\n",
    "        print(self.name,'은 잠을 잡니다.')\n",
    "    \n",
    "        \n",
    "p1=Person('Bob',30)\n",
    "p2=Person('Kate',20)\n",
    "\n",
    "print(p1)\n",
    "print(p2)\n",
    "\n",
    "p1.sleep()\n",
    "p2.sleep()"
   ]
  },
  {
   "cell_type": "markdown",
   "metadata": {},
   "source": [
    "#### **method type**\n",
    " - instance method - 객체로 호출\n",
    "   - 메쏘드는 객체 레벨로 호출 되기 때문에, 해당 메쏘드를 호출한 객체에만 영향을 미침\n",
    " - class method    - class로 호출\n",
    "      - 클래스 메쏘드의 경우, 클래스 레벨로 호출되기 때문에, 클래스 멤버 변수만 변경 가능\n"
   ]
  },
  {
   "cell_type": "code",
   "execution_count": 36,
   "metadata": {},
   "outputs": [
    {
     "data": {
      "text/plain": [
       "402"
      ]
     },
     "execution_count": 36,
     "metadata": {},
     "output_type": "execute_result"
    }
   ],
   "source": [
    "class Math:\n",
    "    @staticmethod\n",
    "    def add(a,b):\n",
    "        return a+b\n",
    "    @staticmethod\n",
    "    def multiply(a,b):\n",
    "        return a*b\n",
    "    \n",
    "Math.add(399,3)"
   ]
  },
  {
   "cell_type": "markdown",
   "metadata": {},
   "source": [
    "#### **special method**\n",
    " - __로 시작 __로 끝나는 특수 함수\n",
    " - 해당 메쏘드들을 구현하면, 커스텀 객체에 여러가지 파이썬 내장 함수나 연산자를 적용 가능\n",
    " - 오버라이딩 가능한 함수 목록은 아래 링크에서 참조 \n",
    "   - https://docs.python.org/3/reference/datamodel.html"
   ]
  },
  {
   "cell_type": "code",
   "execution_count": 65,
   "metadata": {},
   "outputs": [
    {
     "name": "stdout",
     "output_type": "stream",
     "text": [
      "(1.2) (2.3)\n",
      "(3.5)\n",
      "(-1.-1)\n",
      "(3.6)\n",
      "5\n",
      "1 2\n"
     ]
    }
   ],
   "source": [
    "class Point:\n",
    "    def __init__(self,x,y):\n",
    "        self.x=x\n",
    "        self.y=y\n",
    "        \n",
    "    def __add__(self,other):\n",
    "        result_x=self.x+other.x\n",
    "        result_y=self.y+other.y\n",
    "        return Point(result_x,result_y)\n",
    "    \n",
    "    def __sub__(self,other):\n",
    "        result_x=self.x-other.x\n",
    "        result_y=self.y-other.y\n",
    "        return Point(result_x,result_y)\n",
    "    \n",
    "    def __mul__(self,factor):\n",
    "        result_x=self.x*factor\n",
    "        result_y=self.y*factor\n",
    "        return Point(result_x,result_y)\n",
    "    \n",
    "    def __len__(self):\n",
    "        return self.x**2+self.y**2\n",
    "    \n",
    "    def __str__(self):\n",
    "        return '({}.{})'.format(self.x,self.y)\n",
    "    \n",
    "    def __getitem__(self,index): # 인덱싱을 이용하기 위해\n",
    "        if index==0:\n",
    "            return self.x\n",
    "        elif index==1:\n",
    "            return self.y\n",
    "        else:\n",
    "            return -1\n",
    "\n",
    "p1=Point(1,2)\n",
    "p2=Point(2,3)\n",
    "print(p1,p2)\n",
    "print(p1+p2)\n",
    "print(p1-p2)\n",
    "print(p1*3)\n",
    "\n",
    "print(len(p1))\n",
    "print(p1[0],p1[1])\n"
   ]
  },
  {
   "cell_type": "raw",
   "metadata": {},
   "source": [
    "#### 연습문제)\n",
    " - 복소수 클래스를 정의 해봅시다.\n",
    " - 덧셈, 뺄셈, 곱셈 연산자 지원\n",
    " - 길이 (복소수의 크기) 지원 \n",
    " - 복소수 출력 '1 + 4j'와 같이 표현\n",
    " - 비교 연산 ==, != 지원\n",
    " - >=, <= , <, > 연산 지원\n",
    " - 절대값 지원\n"
   ]
  },
  {
   "cell_type": "code",
   "execution_count": 87,
   "metadata": {},
   "outputs": [
    {
     "name": "stdout",
     "output_type": "stream",
     "text": [
      "(1+5i)\n",
      "(4+9i)\n",
      "(-2+1i)\n",
      "(-17+24i)\n",
      "(3+15i)\n",
      "5\n",
      "5.0990195135927845\n",
      "False\n",
      "False\n",
      "True\n",
      "True\n",
      "True\n",
      "False\n"
     ]
    }
   ],
   "source": [
    "import math\n",
    "class complexNumber:\n",
    "    def __init__(self,x,y):\n",
    "        self.x=x\n",
    "        self.y=y\n",
    "    def __add__(self,other):\n",
    "        result_x=self.x+other.x\n",
    "        result_y=self.y+other.y\n",
    "        return complexNumber(result_x,result_y)\n",
    "    \n",
    "    def __sub__(self,other):\n",
    "        result_x=self.x-other.x\n",
    "        result_y=self.y-other.y\n",
    "        return complexNumber(result_x,result_y)\n",
    "    \n",
    "    def __mul__(self,factor):\n",
    "        if type(factor)==int:\n",
    "            result_x=self.x*factor\n",
    "            result_y=self.y*factor\n",
    "            return complexNumber(result_x,result_y)\n",
    "        elif type(factor)==complexNumber:\n",
    "            return complexNumber(self.x*factor.x-self.y*factor.y,self.x*factor.y+self.y*factor.y)\n",
    "    def __str__(self):\n",
    "        if self.y>=0:\n",
    "            return '({}+{}i)'.format(self.x,self.y)\n",
    "        else:\n",
    "            return '({}-{}i)'.format(self.x,abs(self.y))\n",
    "    def __len__(self):\n",
    "        return int(math.sqrt(self.x**2+self.y**2))\n",
    "    def __abs__(self):\n",
    "        return math.sqrt(self.x**2+self.y**2)\n",
    "    def __lt__(self, other):\n",
    "        return len(self) < len(other)\n",
    "    \n",
    "    def __le__(self, other):\n",
    "        return len(self) <= len(other)\n",
    "    \n",
    "    def __gt__(self, other):\n",
    "        return len(self) > len(other)\n",
    "    \n",
    "    def __ge__(self, other):\n",
    "        return len(self) >= len(other)\n",
    "    \n",
    "    def __eq__(self, other):\n",
    "        return len(self) == len(other)\n",
    "    def __ne__(self, other):\n",
    "        return not(self.x==other.x and self.y==ohter.y)\n",
    "    \n",
    "    \n",
    "c1=complexNumber(1,5)\n",
    "c2=complexNumber(3,4)\n",
    "print(c1)\n",
    "print(c1+c2)\n",
    "print(c1-c2)\n",
    "print(c1*c2)\n",
    "print(c1*3)\n",
    "print(len(c1))\n",
    "print(abs(c1))\n",
    "print(c1<c2)\n",
    "print(c1>c2)\n",
    "print(c1==c2)\n",
    "print(c1>=c2)\n",
    "print(c1<=c2)\n",
    "print(not c1== c2)\n"
   ]
  }
 ],
 "metadata": {
  "kernelspec": {
   "display_name": "Python 3",
   "language": "python",
   "name": "python3"
  },
  "language_info": {
   "codemirror_mode": {
    "name": "ipython",
    "version": 3
   },
   "file_extension": ".py",
   "mimetype": "text/x-python",
   "name": "python",
   "nbconvert_exporter": "python",
   "pygments_lexer": "ipython3",
   "version": "3.6.9"
  }
 },
 "nbformat": 4,
 "nbformat_minor": 1
}
