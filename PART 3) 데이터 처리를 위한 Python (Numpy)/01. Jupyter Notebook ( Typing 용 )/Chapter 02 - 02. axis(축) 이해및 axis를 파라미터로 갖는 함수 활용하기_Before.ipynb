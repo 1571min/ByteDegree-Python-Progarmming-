{
 "cells": [
  {
   "cell_type": "markdown",
   "metadata": {},
   "source": [
    "## 학습목표\n",
    " 1. axis의 이해\n",
    " 2. axis를 파라미터로 갖는 함수 이해하기"
   ]
  },
  {
   "cell_type": "code",
   "execution_count": 1,
   "metadata": {},
   "outputs": [],
   "source": [
    "import numpy as np"
   ]
  },
  {
   "cell_type": "markdown",
   "metadata": {},
   "source": [
    "#### axis 이해하기\n",
    " - 몇몇 함수에는 axis keyword 파라미터가 존재\n",
    " - axis값이 없는 경우에는 전체 데이터에 대해 적용\n",
    " - axis값이 있는 경우에는, 해당 axis를 **따라서** 연산 적용"
   ]
  },
  {
   "cell_type": "markdown",
   "metadata": {},
   "source": [
    "* axis를 파라미터로 갖는 함수를 이용하기\n",
    " - 거의 대부분의 연산 함수들이 axis 파라미터를 사용\n",
    " - 이 경우, 해당 값이 주어졌을 때, 해당 axis를 **따라서** 연산이 적용\n",
    "   - 따라서 결과는 해당 axis가 제외된 나머지 차원의 데이터만 남게 됨\n",
    " - 예) np.sum, np.mean, np.any 등등\n",
    " "
   ]
  },
  {
   "cell_type": "code",
   "execution_count": null,
   "metadata": {},
   "outputs": [],
   "source": []
  },
  {
   "cell_type": "markdown",
   "metadata": {},
   "source": [
    "* 1차원 데이터에 적용하기"
   ]
  },
  {
   "cell_type": "code",
   "execution_count": null,
   "metadata": {},
   "outputs": [],
   "source": []
  },
  {
   "cell_type": "markdown",
   "metadata": {},
   "source": [
    "* 행렬에 적용하기"
   ]
  },
  {
   "cell_type": "code",
   "execution_count": null,
   "metadata": {},
   "outputs": [],
   "source": []
  },
  {
   "cell_type": "markdown",
   "metadata": {},
   "source": [
    "* 3차원 텐서에 적용하기"
   ]
  },
  {
   "cell_type": "code",
   "execution_count": null,
   "metadata": {},
   "outputs": [],
   "source": []
  },
  {
   "cell_type": "markdown",
   "metadata": {},
   "source": [
    "* axis의 값이 튜플일 경우\n",
    " - 해당 튜플에 명시된 모든 axis에 대해서 연산"
   ]
  },
  {
   "cell_type": "code",
   "execution_count": null,
   "metadata": {},
   "outputs": [],
   "source": []
  }
 ],
 "metadata": {
  "kernelspec": {
   "display_name": "Python 3",
   "language": "python",
   "name": "python3"
  },
  "language_info": {
   "codemirror_mode": {
    "name": "ipython",
    "version": 3
   },
   "file_extension": ".py",
   "mimetype": "text/x-python",
   "name": "python",
   "nbconvert_exporter": "python",
   "pygments_lexer": "ipython3",
   "version": "3.7.3"
  }
 },
 "nbformat": 4,
 "nbformat_minor": 1
}
