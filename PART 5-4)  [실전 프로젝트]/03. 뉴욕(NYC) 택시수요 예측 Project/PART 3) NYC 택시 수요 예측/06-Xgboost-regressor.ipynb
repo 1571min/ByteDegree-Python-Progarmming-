{
 "cells": [
  {
   "cell_type": "markdown",
   "metadata": {},
   "source": [
    "## XGBoost Regerssor\n",
    "- 목적\n",
    "    - XGBoost sklearn API 활용\n",
    "    - Classification이 아닌 Regressor 사용하기\n",
    "- 참고 자료\n",
    "    - https://brunch.co.kr/@snobberys/137\n",
    "    - https://homes.cs.washington.edu/~tqchen/pdf/BoostedTree.pdf"
   ]
  },
  {
   "cell_type": "code",
   "execution_count": 1,
   "metadata": {},
   "outputs": [],
   "source": [
    "import pandas as pd\n",
    "from sklearn.preprocessing import LabelEncoder\n",
    "import seaborn as sns\n",
    "import warnings\n",
    "import matplotlib.pyplot as plt\n",
    "from sklearn.metrics import mean_absolute_error\n",
    "from sklearn.metrics import mean_squared_error\n",
    "import os\n",
    "from sacred import Experiment\n",
    "from sacred.observers import FileStorageObserver\n",
    "from xgboost import XGBRegressor\n",
    "import json\n",
    "\n",
    "plt.style.use('ggplot')\n",
    "warnings.filterwarnings('ignore')\n",
    "%config InlineBackend.figure_format = 'retina'\n",
    "\n",
    "PROJECT_ID='geultto' # 여기에 여러분들의 프로젝트 ID를 넣어주세요"
   ]
  },
  {
   "cell_type": "code",
   "execution_count": 2,
   "metadata": {},
   "outputs": [],
   "source": [
    "ex = Experiment('nyc-demand-prediction', interactive=True)\n",
    "\n",
    "# experiment_dir가 없으면 폴더 생성하고 FileStorageObserver로 저장\n",
    "experiment_dir = os.path.join('./', 'experiments')\n",
    "if not os.path.isdir(experiment_dir): \n",
    "    os.makedirs(experiment_dir)\n",
    "ex.observers.append(FileStorageObserver.create(experiment_dir))"
   ]
  },
  {
   "cell_type": "markdown",
   "metadata": {},
   "source": [
    "### 전처리"
   ]
  },
  {
   "cell_type": "code",
   "execution_count": 3,
   "metadata": {},
   "outputs": [
    {
     "name": "stdout",
     "output_type": "stream",
     "text": [
      "CPU times: user 4.26 s, sys: 315 ms, total: 4.58 s\n",
      "Wall time: 19.2 s\n"
     ]
    }
   ],
   "source": [
    "%%time\n",
    "base_query = \"\"\"\n",
    "WITH base_data AS \n",
    "(\n",
    "  SELECT nyc_taxi.*, gis.* EXCEPT (zip_code_geom)\n",
    "  FROM (\n",
    "    SELECT *\n",
    "    FROM `bigquery-public-data.new_york_taxi_trips.tlc_yellow_trips_2015`\n",
    "    WHERE \n",
    "        EXTRACT(MONTH from pickup_datetime) = 1\n",
    "        and pickup_latitude  <= 90 and pickup_latitude >= -90\n",
    "    ) AS nyc_taxi\n",
    "  JOIN (\n",
    "    SELECT zip_code, state_code, state_name, city, county, zip_code_geom\n",
    "    FROM `bigquery-public-data.geo_us_boundaries.zip_codes`\n",
    "    WHERE state_code='NY'\n",
    "    ) AS gis \n",
    "  ON ST_CONTAINS(zip_code_geom, st_geogpoint(pickup_longitude, pickup_latitude))\n",
    ")\n",
    "\n",
    "SELECT \n",
    "    zip_code,\n",
    "    DATETIME_TRUNC(pickup_datetime, hour) as pickup_hour,\n",
    "    EXTRACT(MONTH FROM pickup_datetime) AS month,\n",
    "    EXTRACT(DAY FROM pickup_datetime) AS day,\n",
    "    CAST(format_datetime('%u', pickup_datetime) AS INT64) -1 AS weekday,\n",
    "    EXTRACT(HOUR FROM pickup_datetime) AS hour,\n",
    "    CASE WHEN CAST(FORMAT_DATETIME('%u', pickup_datetime) AS INT64) IN (6, 7) THEN 1 ELSE 0 END AS is_weekend,\n",
    "    COUNT(*) AS cnt\n",
    "FROM base_data \n",
    "GROUP BY zip_code, pickup_hour, month, day, weekday, hour, is_weekend\n",
    "ORDER BY pickup_hour\n",
    "\"\"\"\n",
    "\n",
    "base_df = pd.read_gbq(query=base_query, dialect='standard', project_id=PROJECT_ID)"
   ]
  },
  {
   "cell_type": "markdown",
   "metadata": {},
   "source": [
    "### 데이터 전처리\n",
    "- One Hot Encoding이 아닌 Label Encoding"
   ]
  },
  {
   "cell_type": "code",
   "execution_count": 4,
   "metadata": {},
   "outputs": [],
   "source": [
    "le = LabelEncoder()\n",
    "base_df['zip_code_le'] = le.fit_transform(base_df['zip_code'])"
   ]
  },
  {
   "cell_type": "code",
   "execution_count": 5,
   "metadata": {},
   "outputs": [],
   "source": [
    "def split_train_and_test(df, date):\n",
    "    \"\"\"\n",
    "    Dataframe에서 train_df, test_df로 나눠주는 함수\n",
    "    \n",
    "    df : 시계열 데이터 프레임\n",
    "    date : 기준점 날짜\n",
    "    \"\"\"\n",
    "    train_df = df[df['pickup_hour'] < date]\n",
    "    test_df = df[df['pickup_hour'] >= date]\n",
    "    return train_df, test_df"
   ]
  },
  {
   "cell_type": "markdown",
   "metadata": {},
   "source": [
    "### Train / Test 나누기"
   ]
  },
  {
   "cell_type": "code",
   "execution_count": 6,
   "metadata": {},
   "outputs": [],
   "source": [
    "train_df, test_df = split_train_and_test(base_df, '2015-01-24')"
   ]
  },
  {
   "cell_type": "code",
   "execution_count": 7,
   "metadata": {},
   "outputs": [
    {
     "data": {
      "text/html": [
       "<div>\n",
       "<style scoped>\n",
       "    .dataframe tbody tr th:only-of-type {\n",
       "        vertical-align: middle;\n",
       "    }\n",
       "\n",
       "    .dataframe tbody tr th {\n",
       "        vertical-align: top;\n",
       "    }\n",
       "\n",
       "    .dataframe thead th {\n",
       "        text-align: right;\n",
       "    }\n",
       "</style>\n",
       "<table border=\"1\" class=\"dataframe\">\n",
       "  <thead>\n",
       "    <tr style=\"text-align: right;\">\n",
       "      <th></th>\n",
       "      <th>zip_code</th>\n",
       "      <th>pickup_hour</th>\n",
       "      <th>month</th>\n",
       "      <th>day</th>\n",
       "      <th>weekday</th>\n",
       "      <th>hour</th>\n",
       "      <th>is_weekend</th>\n",
       "      <th>cnt</th>\n",
       "      <th>zip_code_le</th>\n",
       "    </tr>\n",
       "  </thead>\n",
       "  <tbody>\n",
       "    <tr>\n",
       "      <th>65113</th>\n",
       "      <td>11206</td>\n",
       "      <td>2015-01-23 23:00:00</td>\n",
       "      <td>1</td>\n",
       "      <td>23</td>\n",
       "      <td>4</td>\n",
       "      <td>23</td>\n",
       "      <td>0</td>\n",
       "      <td>44</td>\n",
       "      <td>195</td>\n",
       "    </tr>\n",
       "    <tr>\n",
       "      <th>65114</th>\n",
       "      <td>10457</td>\n",
       "      <td>2015-01-23 23:00:00</td>\n",
       "      <td>1</td>\n",
       "      <td>23</td>\n",
       "      <td>4</td>\n",
       "      <td>23</td>\n",
       "      <td>0</td>\n",
       "      <td>1</td>\n",
       "      <td>86</td>\n",
       "    </tr>\n",
       "    <tr>\n",
       "      <th>65115</th>\n",
       "      <td>10119</td>\n",
       "      <td>2015-01-23 23:00:00</td>\n",
       "      <td>1</td>\n",
       "      <td>23</td>\n",
       "      <td>4</td>\n",
       "      <td>23</td>\n",
       "      <td>0</td>\n",
       "      <td>290</td>\n",
       "      <td>47</td>\n",
       "    </tr>\n",
       "    <tr>\n",
       "      <th>65116</th>\n",
       "      <td>11371</td>\n",
       "      <td>2015-01-23 23:00:00</td>\n",
       "      <td>1</td>\n",
       "      <td>23</td>\n",
       "      <td>4</td>\n",
       "      <td>23</td>\n",
       "      <td>0</td>\n",
       "      <td>305</td>\n",
       "      <td>245</td>\n",
       "    </tr>\n",
       "    <tr>\n",
       "      <th>65117</th>\n",
       "      <td>11105</td>\n",
       "      <td>2015-01-23 23:00:00</td>\n",
       "      <td>1</td>\n",
       "      <td>23</td>\n",
       "      <td>4</td>\n",
       "      <td>23</td>\n",
       "      <td>0</td>\n",
       "      <td>13</td>\n",
       "      <td>188</td>\n",
       "    </tr>\n",
       "  </tbody>\n",
       "</table>\n",
       "</div>"
      ],
      "text/plain": [
       "      zip_code         pickup_hour  month  day  weekday  hour  is_weekend  \\\n",
       "65113    11206 2015-01-23 23:00:00      1   23        4    23           0   \n",
       "65114    10457 2015-01-23 23:00:00      1   23        4    23           0   \n",
       "65115    10119 2015-01-23 23:00:00      1   23        4    23           0   \n",
       "65116    11371 2015-01-23 23:00:00      1   23        4    23           0   \n",
       "65117    11105 2015-01-23 23:00:00      1   23        4    23           0   \n",
       "\n",
       "       cnt  zip_code_le  \n",
       "65113   44          195  \n",
       "65114    1           86  \n",
       "65115  290           47  \n",
       "65116  305          245  \n",
       "65117   13          188  "
      ]
     },
     "execution_count": 7,
     "metadata": {},
     "output_type": "execute_result"
    }
   ],
   "source": [
    "train_df.tail()"
   ]
  },
  {
   "cell_type": "markdown",
   "metadata": {},
   "source": [
    "- 사용하지 않을 컬럼 삭제"
   ]
  },
  {
   "cell_type": "code",
   "execution_count": 8,
   "metadata": {},
   "outputs": [],
   "source": [
    "del train_df['zip_code']\n",
    "del train_df['pickup_hour']\n",
    "del test_df['zip_code']\n",
    "del test_df['pickup_hour']"
   ]
  },
  {
   "cell_type": "code",
   "execution_count": 9,
   "metadata": {},
   "outputs": [
    {
     "data": {
      "text/html": [
       "<div>\n",
       "<style scoped>\n",
       "    .dataframe tbody tr th:only-of-type {\n",
       "        vertical-align: middle;\n",
       "    }\n",
       "\n",
       "    .dataframe tbody tr th {\n",
       "        vertical-align: top;\n",
       "    }\n",
       "\n",
       "    .dataframe thead th {\n",
       "        text-align: right;\n",
       "    }\n",
       "</style>\n",
       "<table border=\"1\" class=\"dataframe\">\n",
       "  <thead>\n",
       "    <tr style=\"text-align: right;\">\n",
       "      <th></th>\n",
       "      <th>month</th>\n",
       "      <th>day</th>\n",
       "      <th>weekday</th>\n",
       "      <th>hour</th>\n",
       "      <th>is_weekend</th>\n",
       "      <th>cnt</th>\n",
       "      <th>zip_code_le</th>\n",
       "    </tr>\n",
       "  </thead>\n",
       "  <tbody>\n",
       "    <tr>\n",
       "      <th>0</th>\n",
       "      <td>1</td>\n",
       "      <td>1</td>\n",
       "      <td>3</td>\n",
       "      <td>0</td>\n",
       "      <td>0</td>\n",
       "      <td>97</td>\n",
       "      <td>204</td>\n",
       "    </tr>\n",
       "    <tr>\n",
       "      <th>1</th>\n",
       "      <td>1</td>\n",
       "      <td>1</td>\n",
       "      <td>3</td>\n",
       "      <td>0</td>\n",
       "      <td>0</td>\n",
       "      <td>99</td>\n",
       "      <td>211</td>\n",
       "    </tr>\n",
       "  </tbody>\n",
       "</table>\n",
       "</div>"
      ],
      "text/plain": [
       "   month  day  weekday  hour  is_weekend  cnt  zip_code_le\n",
       "0      1    1        3     0           0   97          204\n",
       "1      1    1        3     0           0   99          211"
      ]
     },
     "execution_count": 9,
     "metadata": {},
     "output_type": "execute_result"
    }
   ],
   "source": [
    "train_df.head(2)"
   ]
  },
  {
   "cell_type": "code",
   "execution_count": 10,
   "metadata": {},
   "outputs": [],
   "source": [
    "y_train_raw = train_df.pop('cnt')\n",
    "y_test_raw = test_df.pop('cnt')"
   ]
  },
  {
   "cell_type": "code",
   "execution_count": 11,
   "metadata": {},
   "outputs": [],
   "source": [
    "x_train = train_df.copy()\n",
    "x_test = test_df.copy()"
   ]
  },
  {
   "cell_type": "markdown",
   "metadata": {},
   "source": [
    "### 모델링"
   ]
  },
  {
   "cell_type": "code",
   "execution_count": 12,
   "metadata": {},
   "outputs": [],
   "source": [
    "def evaluation(y_true, y_pred): \n",
    "    y_true, y_pred = np.array(y_true), np.array(y_pred)\n",
    "    mape = np.mean(np.abs((y_true - y_pred) / y_true)) * 100\n",
    "    mae = mean_absolute_error(y_true, y_pred)\n",
    "    mse = mean_squared_error(y_true, y_pred)\n",
    "    score = pd.DataFrame([mape, mae, mse], index=['mape', 'mae', 'mse'], columns=['score']).T\n",
    "    return score"
   ]
  },
  {
   "cell_type": "code",
   "execution_count": 13,
   "metadata": {},
   "outputs": [],
   "source": [
    "@ex.config\n",
    "def config():\n",
    "    max_depth=5\n",
    "    learning_rate=0.1\n",
    "    n_estimators=100\n",
    "    n_jobs=-1"
   ]
  },
  {
   "cell_type": "code",
   "execution_count": 14,
   "metadata": {},
   "outputs": [],
   "source": [
    "@ex.capture\n",
    "def get_model(max_depth, learning_rate, n_estimators, n_jobs):\n",
    "    return XGBRegressor(max_depth=max_depth, learning_rate=learning_rate, n_estimators=n_estimators, n_jobs=n_jobs)"
   ]
  },
  {
   "cell_type": "code",
   "execution_count": 15,
   "metadata": {},
   "outputs": [],
   "source": [
    "@ex.main\n",
    "def run(_log, _run):\n",
    "    global xgb_reg, xgb_pred\n",
    "    xgb_reg = get_model()\n",
    "    xgb_reg.fit(x_train, y_train_raw)\n",
    "    xgb_pred = xgb_reg.predict(x_test)\n",
    "    score = evaluation(y_test_raw, xgb_pred)\n",
    "    \n",
    "    _run.log_scalar('model_name', xgb_reg.__class__.__name__)    \n",
    "    _run.log_scalar('metrics', score)\n",
    "    \n",
    "    return score.to_dict()\n"
   ]
  },
  {
   "cell_type": "code",
   "execution_count": 16,
   "metadata": {},
   "outputs": [
    {
     "name": "stderr",
     "output_type": "stream",
     "text": [
      "INFO - nyc-demand-prediction - Running command 'run'\n",
      "INFO - nyc-demand-prediction - Started run with ID \"3\"\n"
     ]
    },
    {
     "name": "stdout",
     "output_type": "stream",
     "text": [
      "[16:27:29] WARNING: src/objective/regression_obj.cu:152: reg:linear is now deprecated in favor of reg:squarederror.\n"
     ]
    },
    {
     "name": "stderr",
     "output_type": "stream",
     "text": [
      "INFO - nyc-demand-prediction - Result: {'mape': {'score': 538.5201729610042}, 'mae': {'score': 57.678736192127054}, 'mse': {'score': 16512.330210514276}}\n",
      "INFO - nyc-demand-prediction - Completed after 0:00:01\n"
     ]
    }
   ],
   "source": [
    "experiment_result = ex.run()"
   ]
  },
  {
   "cell_type": "code",
   "execution_count": 17,
   "metadata": {},
   "outputs": [
    {
     "data": {
      "text/plain": [
       "{'max_depth': 5,\n",
       " 'learning_rate': 0.1,\n",
       " 'n_estimators': 100,\n",
       " 'n_jobs': -1,\n",
       " 'seed': 893247818}"
      ]
     },
     "execution_count": 17,
     "metadata": {},
     "output_type": "execute_result"
    }
   ],
   "source": [
    "experiment_result.config"
   ]
  },
  {
   "cell_type": "code",
   "execution_count": 18,
   "metadata": {},
   "outputs": [],
   "source": [
    "def parsing_output(ex_id):\n",
    "    with open(f'./experiments/{ex_id}/metrics.json') as json_file:\n",
    "        json_data = json.load(json_file)\n",
    "    with open(f'./experiments/{ex_id}/config.json') as config_file:\n",
    "        config_data = json.load(config_file)\n",
    "    \n",
    "    output_df = pd.DataFrame(json_data['model_name']['values'], columns=['model_name'], index=['score'])\n",
    "    output_df['experiment_num'] = ex_id\n",
    "    output_df['config'] = str(config_data)\n",
    "    metric_df = pd.DataFrame(json_data['metrics']['values'][0]['values'])\n",
    "    \n",
    "    output_df = pd.concat([output_df, metric_df], axis=1)\n",
    "    return output_df"
   ]
  },
  {
   "cell_type": "code",
   "execution_count": 19,
   "metadata": {},
   "outputs": [
    {
     "data": {
      "text/html": [
       "<div>\n",
       "<style scoped>\n",
       "    .dataframe tbody tr th:only-of-type {\n",
       "        vertical-align: middle;\n",
       "    }\n",
       "\n",
       "    .dataframe tbody tr th {\n",
       "        vertical-align: top;\n",
       "    }\n",
       "\n",
       "    .dataframe thead th {\n",
       "        text-align: right;\n",
       "    }\n",
       "</style>\n",
       "<table border=\"1\" class=\"dataframe\">\n",
       "  <thead>\n",
       "    <tr style=\"text-align: right;\">\n",
       "      <th></th>\n",
       "      <th>model_name</th>\n",
       "      <th>experiment_num</th>\n",
       "      <th>config</th>\n",
       "      <th>mae</th>\n",
       "      <th>mape</th>\n",
       "      <th>mse</th>\n",
       "    </tr>\n",
       "  </thead>\n",
       "  <tbody>\n",
       "    <tr>\n",
       "      <th>score</th>\n",
       "      <td>XGBRegressor</td>\n",
       "      <td>3</td>\n",
       "      <td>{'learning_rate': 0.1, 'max_depth': 5, 'n_esti...</td>\n",
       "      <td>57.678736</td>\n",
       "      <td>538.520173</td>\n",
       "      <td>16512.330211</td>\n",
       "    </tr>\n",
       "  </tbody>\n",
       "</table>\n",
       "</div>"
      ],
      "text/plain": [
       "         model_name  experiment_num  \\\n",
       "score  XGBRegressor               3   \n",
       "\n",
       "                                                  config        mae  \\\n",
       "score  {'learning_rate': 0.1, 'max_depth': 5, 'n_esti...  57.678736   \n",
       "\n",
       "             mape           mse  \n",
       "score  538.520173  16512.330211  "
      ]
     },
     "execution_count": 19,
     "metadata": {},
     "output_type": "execute_result"
    }
   ],
   "source": [
    "parsing_output(3)"
   ]
  },
  {
   "cell_type": "code",
   "execution_count": 20,
   "metadata": {},
   "outputs": [
    {
     "data": {
      "text/plain": [
       "<matplotlib.axes._subplots.AxesSubplot at 0x10ba1f490>"
      ]
     },
     "execution_count": 20,
     "metadata": {},
     "output_type": "execute_result"
    },
    {
     "data": {
      "image/png": "[encoded data removed]",
      "text/plain": [
       "<Figure size 432x288 with 1 Axes>"
      ]
     },
     "metadata": {
      "image/png": {
       "height": 250,
       "width": 416
      },
      "needs_background": "light"
     },
     "output_type": "display_data"
    }
   ],
   "source": [
    "feat_importances = pd.Series(xgb_reg.feature_importances_, index=x_train.columns)\n",
    "feat_importances.nlargest(15).plot(kind='barh')"
   ]
  },
  {
   "cell_type": "code",
   "execution_count": null,
   "metadata": {},
   "outputs": [],
   "source": []
  }
 ],
 "metadata": {
  "kernelspec": {
   "display_name": "Python 3",
   "language": "python",
   "name": "python3"
  },
  "language_info": {
   "codemirror_mode": {
    "name": "ipython",
    "version": 3
   },
   "file_extension": ".py",
   "mimetype": "text/x-python",
   "name": "python",
   "nbconvert_exporter": "python",
   "pygments_lexer": "ipython3",
   "version": "3.7.4"
  },
  "varInspector": {
   "cols": {
    "lenName": 16,
    "lenType": 16,
    "lenVar": 40
   },
   "kernels_config": {
    "python": {
     "delete_cmd_postfix": "",
     "delete_cmd_prefix": "del ",
     "library": "var_list.py",
     "varRefreshCmd": "print(var_dic_list())"
    },
    "r": {
     "delete_cmd_postfix": ") ",
     "delete_cmd_prefix": "rm(",
     "library": "var_list.r",
     "varRefreshCmd": "cat(var_dic_list()) "
    }
   },
   "types_to_exclude": [
    "module",
    "function",
    "builtin_function_or_method",
    "instance",
    "_Feature"
   ],
   "window_display": false
  }
 },
 "nbformat": 4,
 "nbformat_minor": 2
}
