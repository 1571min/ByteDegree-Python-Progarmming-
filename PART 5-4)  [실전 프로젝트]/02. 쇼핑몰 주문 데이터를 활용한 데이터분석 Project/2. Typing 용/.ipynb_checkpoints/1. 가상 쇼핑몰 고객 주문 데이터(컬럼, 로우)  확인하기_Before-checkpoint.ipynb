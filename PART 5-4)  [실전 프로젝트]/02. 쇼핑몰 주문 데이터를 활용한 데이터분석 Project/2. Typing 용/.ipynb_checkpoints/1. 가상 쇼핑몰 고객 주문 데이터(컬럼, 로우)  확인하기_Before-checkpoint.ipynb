{
 "cells": [
  {
   "cell_type": "markdown",
   "metadata": {},
   "source": [
    "### 학습목표\n",
    "1. 가상 쇼핑몰 고객 주문 데이터 파악하기\n",
    " - 현재 상황(데이터로 부터) 파악\n",
    " - 모델 수립 혹은 목표 설정"
   ]
  },
  {
   "cell_type": "markdown",
   "metadata": {},
   "source": [
    "#### 데이터 셋 \n",
    " - 온라인 리테일 사이트의 2010/12 - 2011/12간의 주문 기록 데이터\n",
    " - 약 500,000건의 데이터 \n",
    " - 데이터 출처: [UCI ML Repository](https://archive.ics.uci.edu/ml/datasets/Online+Retail#)"
   ]
  },
  {
   "cell_type": "code",
   "execution_count": 1,
   "metadata": {},
   "outputs": [],
   "source": [
    "import numpy as np\n",
    "import pandas as pd"
   ]
  },
  {
   "cell_type": "code",
   "execution_count": 3,
   "metadata": {},
   "outputs": [],
   "source": [
    "retail = pd.read_csv('./OnlineRetail.csv')"
   ]
  },
  {
   "cell_type": "markdown",
   "metadata": {},
   "source": [
    "#### 컬럼 확인하기\n",
    " - columns 속성으로 확인\n",
    " - 컬럼\n",
    "  - invoiceNo: 주문 번호\n",
    "  - StockCode: 아이템 아이디\n",
    "  - Description: 상품 설명\n",
    "  - Quantity: 상품 주문 수량\n",
    "  - InvoiceDate: 주문 시각\n",
    "  - UnitPrice: 상품 가격(동일한 통화)\n",
    "  - CustomerID: 고객 아이디\n",
    "  - Country: 고객 거주 지역(국가)"
   ]
  },
  {
   "cell_type": "code",
   "execution_count": 5,
   "metadata": {},
   "outputs": [
    {
     "ename": "TypeError",
     "evalue": "'Index' object is not callable",
     "output_type": "error",
     "traceback": [
      "\u001b[0;31m---------------------------------------------------------------------------\u001b[0m",
      "\u001b[0;31mTypeError\u001b[0m                                 Traceback (most recent call last)",
      "\u001b[0;32m<ipython-input-5-9df1eaafcb86>\u001b[0m in \u001b[0;36m<module>\u001b[0;34m\u001b[0m\n\u001b[0;32m----> 1\u001b[0;31m \u001b[0mretail\u001b[0m\u001b[0;34m.\u001b[0m\u001b[0mcolumns\u001b[0m\u001b[0;34m(\u001b[0m\u001b[0;34m)\u001b[0m\u001b[0;34m\u001b[0m\u001b[0;34m\u001b[0m\u001b[0m\n\u001b[0m",
      "\u001b[0;31mTypeError\u001b[0m: 'Index' object is not callable"
     ]
    }
   ],
   "source": [
    "retail.columns()"
   ]
  },
  {
   "cell_type": "markdown",
   "metadata": {},
   "source": [
    "#### 데이터 살펴보기\n",
    " 1. 데이터 분석의 가장 첫 단계\n",
    " 2. 데이터를 대략적으로 파악 가능(타입, 저장된 형태)\n",
    " 3. 데이터 cleansing 전략 수립"
   ]
  },
  {
   "cell_type": "code",
   "execution_count": null,
   "metadata": {},
   "outputs": [],
   "source": []
  },
  {
   "cell_type": "code",
   "execution_count": null,
   "metadata": {},
   "outputs": [],
   "source": []
  },
  {
   "cell_type": "code",
   "execution_count": null,
   "metadata": {},
   "outputs": [],
   "source": []
  },
  {
   "cell_type": "markdown",
   "metadata": {},
   "source": [
    "#### Data cleansing\n",
    " - null 데이터 처리\n",
    "  - CustomerID \n",
    " - Business 로직에 맞지 않은 데이터 처리\n",
    "  - 음수의 아이템 수량\n",
    "  - 가격이 0원 "
   ]
  },
  {
   "cell_type": "code",
   "execution_count": null,
   "metadata": {},
   "outputs": [],
   "source": []
  },
  {
   "cell_type": "markdown",
   "metadata": {},
   "source": [
    "#### null customerID 제거"
   ]
  },
  {
   "cell_type": "code",
   "execution_count": null,
   "metadata": {},
   "outputs": [],
   "source": []
  },
  {
   "cell_type": "markdown",
   "metadata": {},
   "source": [
    "#### 비지니스 로직에 맞지 않은 데이터 제거\n",
    " - 수량, 가격 > 0"
   ]
  },
  {
   "cell_type": "code",
   "execution_count": null,
   "metadata": {},
   "outputs": [],
   "source": []
  },
  {
   "cell_type": "code",
   "execution_count": null,
   "metadata": {},
   "outputs": [],
   "source": []
  },
  {
   "cell_type": "code",
   "execution_count": null,
   "metadata": {},
   "outputs": [],
   "source": []
  },
  {
   "cell_type": "markdown",
   "metadata": {},
   "source": [
    "#### 데이터 타입 변경\n",
    " - 메모리 효율화\n",
    " - 올바른 데이터 타입 매칭"
   ]
  },
  {
   "cell_type": "code",
   "execution_count": null,
   "metadata": {},
   "outputs": [],
   "source": []
  },
  {
   "cell_type": "code",
   "execution_count": null,
   "metadata": {},
   "outputs": [],
   "source": []
  },
  {
   "cell_type": "markdown",
   "metadata": {},
   "source": [
    "#### 새로운 컬럼 추가\n",
    " - Quantity * UnitPrice는 고객의 총 지출 비용(CheckoutPrice)"
   ]
  },
  {
   "cell_type": "code",
   "execution_count": null,
   "metadata": {},
   "outputs": [],
   "source": []
  },
  {
   "cell_type": "markdown",
   "metadata": {},
   "source": [
    "#### 정제 데이터 저장"
   ]
  },
  {
   "cell_type": "code",
   "execution_count": null,
   "metadata": {},
   "outputs": [],
   "source": []
  },
  {
   "cell_type": "markdown",
   "metadata": {},
   "source": [
    "#### 미니 프로젝트를 통한 데이터 분석의 목표\n",
    " 1. 매출 분석\n",
    " 2. 고객 분석\n",
    "  - 우수고객 선별\n",
    "  - 고객 리텐션 분석\n",
    " 3. push notification 실행 의사 결정 하기"
   ]
  },
  {
   "cell_type": "code",
   "execution_count": null,
   "metadata": {},
   "outputs": [],
   "source": []
  }
 ],
 "metadata": {
  "kernelspec": {
   "display_name": "Python 3",
   "language": "python",
   "name": "python3"
  },
  "language_info": {
   "codemirror_mode": {
    "name": "ipython",
    "version": 3
   },
   "file_extension": ".py",
   "mimetype": "text/x-python",
   "name": "python",
   "nbconvert_exporter": "python",
   "pygments_lexer": "ipython3",
   "version": "3.7.4"
  }
 },
 "nbformat": 4,
 "nbformat_minor": 2
}
