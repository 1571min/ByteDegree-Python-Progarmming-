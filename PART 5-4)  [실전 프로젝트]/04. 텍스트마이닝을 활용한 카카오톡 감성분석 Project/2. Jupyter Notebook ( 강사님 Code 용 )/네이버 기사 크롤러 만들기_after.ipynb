{
 "cells": [
  {
   "cell_type": "markdown",
   "metadata": {},
   "source": [
    "# 네이버 뉴스 데이터 가져오기\n",
    "\n",
    "> 1. 네이버 오픈 API로 기사 URL 크롤링\n",
    "> 2. bs4 + selenium으로 기사 제목 및 내용 크롤링"
   ]
  },
  {
   "cell_type": "code",
   "execution_count": 1,
   "metadata": {},
   "outputs": [],
   "source": [
    "import os\n",
    "import sys\n",
    "import urllib.request\n",
    "import requests\n",
    "\n",
    "news_data = []\n",
    "page_count = 3\n",
    "\n",
    "client_id = \"69o6i0JqwgpLM5a5v4NN\"\n",
    "client_secret = \"dFeCQMyNQd\"\n",
    "encText = urllib.parse.quote(\"파이썬\")\n",
    "\n",
    "for idx in range(page_count):\n",
    "    # json 결과\n",
    "    url = \"https://openapi.naver.com/v1/search/news?query=\" + encText + \"&start=\" + str(idx * 10 + 1)\n",
    "    # url = \"https://openapi.naver.com/v1/search/blog.xml?query=\" + encText # xml 결과\n",
    "    request = urllib.request.Request(url)\n",
    "    request.add_header(\"X-Naver-Client-Id\",client_id)\n",
    "    request.add_header(\"X-Naver-Client-Secret\",client_secret)\n",
    "    response = urllib.request.urlopen(request)\n",
    "    rescode = response.getcode()\n",
    "\n",
    "    if(rescode==200):\n",
    "    #    response_body = response.read()\n",
    "        result = requests.get(response.geturl(),\n",
    "                              headers={\"X-Naver-Client-Id\":client_id,\n",
    "                                       \"X-Naver-Client-Secret\":client_secret}\n",
    "                             )\n",
    "        news_data.append(result.json())\n",
    "    #    print(response_body.decode('utf-8'))\n",
    "    else:\n",
    "        print(\"Error Code:\" + rescode)"
   ]
  },
  {
   "cell_type": "code",
   "execution_count": 2,
   "metadata": {},
   "outputs": [
    {
     "name": "stdout",
     "output_type": "stream",
     "text": [
      "3\n"
     ]
    }
   ],
   "source": [
    "#print(news_data)\n",
    "print(len(news_data))\n",
    "#print(news_data[0])\n",
    "#print(news_data[0]['items'])\n",
    "#print(len(news_data[0]['items']))\n",
    "#print(news_data[0]['items'][2])\n",
    "#print(news_data[0]['items'][7]['link'])"
   ]
  },
  {
   "cell_type": "code",
   "execution_count": 3,
   "metadata": {},
   "outputs": [
    {
     "name": "stdout",
     "output_type": "stream",
     "text": [
      "https://news.naver.com/main/read.nhn?mode=LSD&mid=sec&sid1=105&oid=009&aid=0004437628\n",
      "https://news.naver.com/main/read.nhn?mode=LSD&mid=sec&sid1=105&oid=092&aid=0002171545\n",
      "https://news.naver.com/main/read.nhn?mode=LSD&mid=sec&sid1=101&oid=022&aid=0003401677\n",
      "https://news.naver.com/main/read.nhn?mode=LSD&mid=sec&sid1=105&oid=031&aid=0000510621\n",
      "https://news.naver.com/main/read.nhn?mode=LSD&mid=sec&sid1=105&oid=018&aid=0004479660\n",
      "https://news.naver.com/main/read.nhn?mode=LSD&mid=sec&sid1=101&oid=076&aid=0003474702\n"
     ]
    }
   ],
   "source": [
    "naver_news_link = []\n",
    "\n",
    "for page in news_data:\n",
    "    #print(page)\n",
    "    page_news_link = []\n",
    "    \n",
    "    for item in page['items']:\n",
    "        #print(item)\n",
    "        temp_link = item['link']\n",
    "        #print(temp_link)\n",
    "        if \"naver\" in temp_link:\n",
    "            page_news_link.append(temp_link)\n",
    "    \n",
    "    naver_news_link.append(page_news_link)\n",
    "        \n",
    "\n",
    "# 사이트 확인하기에 편한 코드 구조.\n",
    "for page in naver_news_link:\n",
    "    for link in page:\n",
    "        print(link)"
   ]
  },
  {
   "cell_type": "code",
   "execution_count": 4,
   "metadata": {},
   "outputs": [],
   "source": [
    "import pandas as pd\n",
    "import numpy as np\n",
    "from selenium import webdriver\n",
    "from tqdm import tqdm_notebook\n",
    "import requests\n",
    "import pickle\n",
    "import re\n",
    "import ast\n",
    "\n",
    "from bs4 import BeautifulSoup \n",
    "from urllib.request import urlopen\n",
    "import urllib\n",
    "import time"
   ]
  },
  {
   "cell_type": "code",
   "execution_count": 5,
   "metadata": {},
   "outputs": [],
   "source": [
    "# 가상 크롬드라이버를 불러옴.\n",
    "# 윈도우 10의 경우 chromedriver.exe\n",
    "driver = webdriver.Chrome('driver/chromedriver')"
   ]
  },
  {
   "cell_type": "code",
   "execution_count": 6,
   "metadata": {},
   "outputs": [
    {
     "data": {
      "application/vnd.jupyter.widget-view+json": {
       "model_id": "ab621505735a4498965e37608dd32492",
       "version_major": 2,
       "version_minor": 0
      },
      "text/plain": [
       "HBox(children=(IntProgress(value=0, max=3), HTML(value='')))"
      ]
     },
     "metadata": {},
     "output_type": "display_data"
    },
    {
     "data": {
      "application/vnd.jupyter.widget-view+json": {
       "model_id": "bc005cc894184b96bdfe8c39107bd406",
       "version_major": 2,
       "version_minor": 0
      },
      "text/plain": [
       "HBox(children=(IntProgress(value=0, max=2), HTML(value='')))"
      ]
     },
     "metadata": {},
     "output_type": "display_data"
    },
    {
     "name": "stdout",
     "output_type": "stream",
     "text": [
      "https://news.naver.com/main/read.nhn?mode=LSD&mid=sec&sid1=105&oid=009&aid=0004437628\n",
      "https://news.naver.com/main/read.nhn?mode=LSD&mid=sec&sid1=105&oid=092&aid=0002171545\n"
     ]
    },
    {
     "data": {
      "application/vnd.jupyter.widget-view+json": {
       "model_id": "6e51b941e6264801b8d4d21f85596786",
       "version_major": 2,
       "version_minor": 0
      },
      "text/plain": [
       "HBox(children=(IntProgress(value=0, max=2), HTML(value='')))"
      ]
     },
     "metadata": {},
     "output_type": "display_data"
    },
    {
     "name": "stdout",
     "output_type": "stream",
     "text": [
      "https://news.naver.com/main/read.nhn?mode=LSD&mid=sec&sid1=101&oid=022&aid=0003401677\n",
      "https://news.naver.com/main/read.nhn?mode=LSD&mid=sec&sid1=105&oid=031&aid=0000510621\n"
     ]
    },
    {
     "data": {
      "application/vnd.jupyter.widget-view+json": {
       "model_id": "2afa2cbf5c8e482c8b8397e881e0b47e",
       "version_major": 2,
       "version_minor": 0
      },
      "text/plain": [
       "HBox(children=(IntProgress(value=0, max=2), HTML(value='')))"
      ]
     },
     "metadata": {},
     "output_type": "display_data"
    },
    {
     "name": "stdout",
     "output_type": "stream",
     "text": [
      "https://news.naver.com/main/read.nhn?mode=LSD&mid=sec&sid1=105&oid=018&aid=0004479660\n",
      "https://news.naver.com/main/read.nhn?mode=LSD&mid=sec&sid1=101&oid=076&aid=0003474702\n",
      "\n",
      "['온·오프 교육 스타트업 러닝스푼즈 투자유치', '구글, 기계학습 플랫폼 ‘텐서플로 2.0’ 정식 출시']\n",
      "==================================\n",
      "['   본문 내용     TV플레이어     // TV플레이어     // flash 오류를 우회하기 위한 함수 추가 function _flash_removeCallback() {}    유명 스타트업 투자자· CFO  등 50억 밸류   \\u3000성인들을 대상으로 직무교육 서비스를 온·오프라인으로 제공하고 있는 러닝스푼즈 (대표 이창민)가 사모투자 방식으로 2억원 규모 투자를 유치했다고 밝혔다. \\u3000이번 라운드는 프리시리즈A 단계로 유명 스타트업 투자자 및  CFO  등 다양한 전문가들이 참여했다. 투자후 포스트 밸류는 약 50억원이다. \\u3000러닝스푼즈 모토는 \\'성장이 필요한 순간, 러닝스푼즈 !\\' 다. 러닝스푼즈의 교육 범위는 파이낸스, 비즈니스, 데이터 사이언스, 부동산, 원데이 클래스 등 다양하다. 특히 온라인 교육 뿐 아니라 오프라인을 통해 심층적인 교육 서비스를 제공하고 있다. 아울러 삼성증권, 한화증권,  LG 화학 등 대기업들을 대상으로 하는 사내 교육도 진행하고 있다. \\u3000러닝스푼즈는 \"올해 상반기 파이썬과 R을 활용한 데이터 분석 및 시각화, 파이썬을 활용한 금융데이터 수집 및 분석 등 디지털 트랜스포메이션( Digital   Transformation )에 기반한 융합형 과정을 국내 유수의 기업들에게 제공했다\"고 설명했다. 지난 2년 동안 러닝스푼즈는 파이낸스 영역으로 시작해 다양한 카테고리들로 빠르게 확장하고 있다. \\u3000러닝스푼즈는 이번 투자를 통해 채용과 연계한 전일제 교육 등 새로운 사업을 시도 할 예정이다. 특히 투자금은 올해 하반기에 열릴 스타트업 채용과 연계한 부트캠프 코스에 사용될 예정이다. 부트캠프 코스는 평일에는 파이썬과 R과 같은 데이터 분석을 위한 언어를 공부하고, 주말에는 데이터분석가 혹은 퍼포먼스 마케터 등 각자의 커리어패스에 맞는 전공심화 과정을 제공할 예정이다. \\u3000이창민 러닝스푼즈 대표는 \"교육의 퀄리티를 쓰는 동시에 성장을 추구하고 있다. 투자금을 마케팅 자금으로 소비하기 보다는, 훌륭한 강사진을 모셔오고 양질의 코스들을 제공하는데 사용하겠다\" 라고 밝혔다. [이상덕기자]  r_start //  r_end // ▶네이버 메인에서 \\'매일경제\\'를 받아보세요 ▶뉴스레터 \\'매콤달콤\\' 구독   ▶무궁무진한 프리미엄 읽을거리 [ⓒ 매일경제 &  mk.co.kr,  무단전재 및 재배포 금지] \\t  // 본문 내용   ', \"   본문 내용     TV플레이어     // TV플레이어     // flash 오류를 우회하기 위한 함수 추가 function _flash_removeCallback() {}   \\t \\t신규  ML  개발자 위해 접근성 낮추고 학습 성능 높여 (지디넷코리아=남혁우  기자)올해 초 알파 버전으로 공개됐던 기계학습( ML ) 플랫폼인 텐서플로의 2.0 버전이 정식 출시됐다. 텐서플로 2.0은 복잡했던  ML  사용 방법을 단순화해 접근성을 낮추고 확장성을 높인 것이 특징이다. 이번 버전 공개를 통해 인공지능( AI )과  ML 의 저변을 확대할 수 있을지 주목받고 있다. 벤처비트 등 외신은 구글이 오픈소스 기계학습 플랫폼 텐서플로 2.0 정식 버전을 출시했다고 1일 밝혔다. 텐서플로. 텐서플로는 개발부터 배포까지 지원하는 포괄적인 생태계 조성을 목적으로 만들어진 플랫폼으로 높은 성능과 확장성을 강점으로 세계에서 가장 높은 점유율을 가지고 있다. 새롭게 출시한 텐서플로 2.0도  ML 에 대한 접근성을 낮추고 확장성을 강화하는데 집중한 것이 특징이다. 먼저 초보 사용자의 혼란을 줄이려 머신러닝 모델을 만들고 훈련하기에 필요 고수준  API 를 케라스( tf.Keras )를 표준으로 단일화했다. 슬림( Slim ), 레이어( Layers ) 등 다양한 고수준  API 를 지원하던 방식에서 케라스로 통합한 것은 구글이 접근성을 낮추는 방향을 바꿨기 때문이다. 기존 버전은 다양한 분야의 전문 프로그래머를 위해 개발됐다면 2.0은 텐서플로로 처음  AI 와  ML 을 접하는 기업과 스타트업을 위한 방향으로 접근성을 낮췄다. 구글 측은 케라스를 텐서플로 2.0의 특수 기능을 모두 지원하며 이를 이용하면 파이썬 개발자라면 어렵지 않게 유연성과 성능 부분에서 손해 없이  ML  모델을 만들고 훈련 시킬 수 있다고 설명했다. 더불어 프로그래머 중 가장 많은 비중을 차지하는 자바스크립트 개발자도  AI  교육 및 추론을 사용할 수 있도록 자바스크립트 전용  ML  라이브러리 텐서플로제이에스( TensorFlow.js )도 선보인다. 또한 클라우드, 웹, 브라우저, 노드제이에스( Node.js ), 모바일 및 임베디드 시스템을 포함한 다양한 런타임에서 모델을 실행할 수 있도록 세이브드모델( SavedModel )파일 형식으로 표준화했다. 텐서플로 2.0은  AI 에 주로 쓰이는  GPU 의 성능 향상도 지원한다. 구글이 공개한 내용에 따르면 레즈넷-50 및 버트( BERT ) 등  AI 모델에서 최대 3배 빠른 교육 성능을 제공한다. 구글은 텐서플로 2.0에 대한 자세한 정보 및 실제 사례를 28일부터 31일까지 캘리포니아 산타클라라에서 개최하는 컨퍼런스 텐서플로 월드에서 발표할 것이라고 전했다. 남혁우 기자( firstblood @ zdnet.co.kr )   ▶ 지디넷코리아 '홈페이지'  /  ▶ 지디넷코리아 ‘이슈진단+’     ▶ 네이버 채널에서 ‘지디넷코리아’를 구독해주세요      // 본문 내용   \"]\n"
     ]
    }
   ],
   "source": [
    "naver_news_title = []\n",
    "naver_news_content = []\n",
    "\n",
    "\n",
    "for n in tqdm_notebook(range(len(naver_news_link))):\n",
    "    #print(n)\n",
    "    news_page_title = []\n",
    "    news_page_content = []\n",
    "    \n",
    "    for idx in tqdm_notebook(range(len(naver_news_link[n]))):\n",
    "        \n",
    "        \n",
    "    ########### 긁어온 URL로 접속하기 ############    \n",
    "        try:\n",
    "            driver.get(naver_news_link[n][idx])\n",
    "            print(naver_news_link[n][idx])\n",
    "            \n",
    "        except:\n",
    "            print(\"Timeout!\")\n",
    "            continue\n",
    "        \n",
    "        \n",
    "        try:\n",
    "            response = driver.page_source\n",
    "            \n",
    "        except UnexpectedAlertPresentException:\n",
    "            driver.switch_to_alert().accept()\n",
    "            print(\"게시글이 삭제된 경우입니다.\")\n",
    "            continue\n",
    "        \n",
    "        soup = BeautifulSoup(response, \"html.parser\")\n",
    "        \n",
    "        ###### 뉴스 타이틀 긁어오기 ######\n",
    "        \n",
    "        title = None\n",
    "        \n",
    "        try:\n",
    "            item = soup.find('div', class_=\"article_info\")\n",
    "            title = item.find('h3', class_=\"tts_head\").get_text()\n",
    "            #print(title)\n",
    "\n",
    "        except:\n",
    "            title = \"OUTLINK\"\n",
    "        \n",
    "        #print(title)\n",
    "        news_page_title.append(title)\n",
    "        \n",
    "        \n",
    "        ###### 뉴스 본문 긁어오기 ######\n",
    "        \n",
    "        doc = None\n",
    "        text = \"\"\n",
    "                \n",
    "        data = soup.find_all(\"div\", {\"class\" : \"_article_body_contents\"})\n",
    "        if data:\n",
    "            for item in data:\n",
    "\n",
    "                text = text + str(item.find_all(text=True)).strip()\n",
    "                text = ast.literal_eval(text)\n",
    "                doc = ' '.join(text)\n",
    "   \n",
    "        else:\n",
    "            doc = \"OUTLINK\"\n",
    "            \n",
    "        news_page_content.append(doc.replace('\\n', ' '))\n",
    "\n",
    "                \n",
    "    naver_news_title.append(news_page_title)\n",
    "    naver_news_content.append(news_page_content)\n",
    "\n",
    "    time.sleep(2)\n",
    "    \n",
    "    \n",
    "print(naver_news_title[0])\n",
    "print(\"==================================\")\n",
    "print(naver_news_content[0])"
   ]
  },
  {
   "cell_type": "code",
   "execution_count": 7,
   "metadata": {},
   "outputs": [
    {
     "name": "stdout",
     "output_type": "stream",
     "text": [
      "['온·오프 교육 스타트업 러닝스푼즈 투자유치', '구글, 기계학습 플랫폼 ‘텐서플로 2.0’ 정식 출시']\n"
     ]
    }
   ],
   "source": [
    "print(naver_news_title[0])"
   ]
  },
  {
   "cell_type": "code",
   "execution_count": 8,
   "metadata": {},
   "outputs": [
    {
     "name": "stdout",
     "output_type": "stream",
     "text": [
      "['   본문 내용     TV플레이어     // TV플레이어     // flash 오류를 우회하기 위한 함수 추가 function _flash_removeCallback() {}    유명 스타트업 투자자· CFO  등 50억 밸류   \\u3000성인들을 대상으로 직무교육 서비스를 온·오프라인으로 제공하고 있는 러닝스푼즈 (대표 이창민)가 사모투자 방식으로 2억원 규모 투자를 유치했다고 밝혔다. \\u3000이번 라운드는 프리시리즈A 단계로 유명 스타트업 투자자 및  CFO  등 다양한 전문가들이 참여했다. 투자후 포스트 밸류는 약 50억원이다. \\u3000러닝스푼즈 모토는 \\'성장이 필요한 순간, 러닝스푼즈 !\\' 다. 러닝스푼즈의 교육 범위는 파이낸스, 비즈니스, 데이터 사이언스, 부동산, 원데이 클래스 등 다양하다. 특히 온라인 교육 뿐 아니라 오프라인을 통해 심층적인 교육 서비스를 제공하고 있다. 아울러 삼성증권, 한화증권,  LG 화학 등 대기업들을 대상으로 하는 사내 교육도 진행하고 있다. \\u3000러닝스푼즈는 \"올해 상반기 파이썬과 R을 활용한 데이터 분석 및 시각화, 파이썬을 활용한 금융데이터 수집 및 분석 등 디지털 트랜스포메이션( Digital   Transformation )에 기반한 융합형 과정을 국내 유수의 기업들에게 제공했다\"고 설명했다. 지난 2년 동안 러닝스푼즈는 파이낸스 영역으로 시작해 다양한 카테고리들로 빠르게 확장하고 있다. \\u3000러닝스푼즈는 이번 투자를 통해 채용과 연계한 전일제 교육 등 새로운 사업을 시도 할 예정이다. 특히 투자금은 올해 하반기에 열릴 스타트업 채용과 연계한 부트캠프 코스에 사용될 예정이다. 부트캠프 코스는 평일에는 파이썬과 R과 같은 데이터 분석을 위한 언어를 공부하고, 주말에는 데이터분석가 혹은 퍼포먼스 마케터 등 각자의 커리어패스에 맞는 전공심화 과정을 제공할 예정이다. \\u3000이창민 러닝스푼즈 대표는 \"교육의 퀄리티를 쓰는 동시에 성장을 추구하고 있다. 투자금을 마케팅 자금으로 소비하기 보다는, 훌륭한 강사진을 모셔오고 양질의 코스들을 제공하는데 사용하겠다\" 라고 밝혔다. [이상덕기자]  r_start //  r_end // ▶네이버 메인에서 \\'매일경제\\'를 받아보세요 ▶뉴스레터 \\'매콤달콤\\' 구독   ▶무궁무진한 프리미엄 읽을거리 [ⓒ 매일경제 &  mk.co.kr,  무단전재 및 재배포 금지] \\t  // 본문 내용   ', \"   본문 내용     TV플레이어     // TV플레이어     // flash 오류를 우회하기 위한 함수 추가 function _flash_removeCallback() {}   \\t \\t신규  ML  개발자 위해 접근성 낮추고 학습 성능 높여 (지디넷코리아=남혁우  기자)올해 초 알파 버전으로 공개됐던 기계학습( ML ) 플랫폼인 텐서플로의 2.0 버전이 정식 출시됐다. 텐서플로 2.0은 복잡했던  ML  사용 방법을 단순화해 접근성을 낮추고 확장성을 높인 것이 특징이다. 이번 버전 공개를 통해 인공지능( AI )과  ML 의 저변을 확대할 수 있을지 주목받고 있다. 벤처비트 등 외신은 구글이 오픈소스 기계학습 플랫폼 텐서플로 2.0 정식 버전을 출시했다고 1일 밝혔다. 텐서플로. 텐서플로는 개발부터 배포까지 지원하는 포괄적인 생태계 조성을 목적으로 만들어진 플랫폼으로 높은 성능과 확장성을 강점으로 세계에서 가장 높은 점유율을 가지고 있다. 새롭게 출시한 텐서플로 2.0도  ML 에 대한 접근성을 낮추고 확장성을 강화하는데 집중한 것이 특징이다. 먼저 초보 사용자의 혼란을 줄이려 머신러닝 모델을 만들고 훈련하기에 필요 고수준  API 를 케라스( tf.Keras )를 표준으로 단일화했다. 슬림( Slim ), 레이어( Layers ) 등 다양한 고수준  API 를 지원하던 방식에서 케라스로 통합한 것은 구글이 접근성을 낮추는 방향을 바꿨기 때문이다. 기존 버전은 다양한 분야의 전문 프로그래머를 위해 개발됐다면 2.0은 텐서플로로 처음  AI 와  ML 을 접하는 기업과 스타트업을 위한 방향으로 접근성을 낮췄다. 구글 측은 케라스를 텐서플로 2.0의 특수 기능을 모두 지원하며 이를 이용하면 파이썬 개발자라면 어렵지 않게 유연성과 성능 부분에서 손해 없이  ML  모델을 만들고 훈련 시킬 수 있다고 설명했다. 더불어 프로그래머 중 가장 많은 비중을 차지하는 자바스크립트 개발자도  AI  교육 및 추론을 사용할 수 있도록 자바스크립트 전용  ML  라이브러리 텐서플로제이에스( TensorFlow.js )도 선보인다. 또한 클라우드, 웹, 브라우저, 노드제이에스( Node.js ), 모바일 및 임베디드 시스템을 포함한 다양한 런타임에서 모델을 실행할 수 있도록 세이브드모델( SavedModel )파일 형식으로 표준화했다. 텐서플로 2.0은  AI 에 주로 쓰이는  GPU 의 성능 향상도 지원한다. 구글이 공개한 내용에 따르면 레즈넷-50 및 버트( BERT ) 등  AI 모델에서 최대 3배 빠른 교육 성능을 제공한다. 구글은 텐서플로 2.0에 대한 자세한 정보 및 실제 사례를 28일부터 31일까지 캘리포니아 산타클라라에서 개최하는 컨퍼런스 텐서플로 월드에서 발표할 것이라고 전했다. 남혁우 기자( firstblood @ zdnet.co.kr )   ▶ 지디넷코리아 '홈페이지'  /  ▶ 지디넷코리아 ‘이슈진단+’     ▶ 네이버 채널에서 ‘지디넷코리아’를 구독해주세요      // 본문 내용   \"]\n"
     ]
    }
   ],
   "source": [
    "print(naver_news_content[0])"
   ]
  },
  {
   "cell_type": "code",
   "execution_count": 9,
   "metadata": {},
   "outputs": [
    {
     "name": "stdout",
     "output_type": "stream",
     "text": [
      "2\n",
      "2\n"
     ]
    }
   ],
   "source": [
    "print(len(naver_news_title[0]))\n",
    "print(len(naver_news_content[0]))"
   ]
  },
  {
   "cell_type": "code",
   "execution_count": 10,
   "metadata": {},
   "outputs": [],
   "source": [
    "with open(\"naver_news_title.pk\", \"wb\") as f:\n",
    "    pickle.dump(naver_news_title, f)\n",
    "    \n",
    "with open(\"naver_news_content.pk\", \"wb\") as f:\n",
    "    pickle.dump(naver_news_content, f)"
   ]
  },
  {
   "cell_type": "code",
   "execution_count": null,
   "metadata": {},
   "outputs": [],
   "source": []
  }
 ],
 "metadata": {
  "kernelspec": {
   "display_name": "Python 3",
   "language": "python",
   "name": "python3"
  },
  "language_info": {
   "codemirror_mode": {
    "name": "ipython",
    "version": 3
   },
   "file_extension": ".py",
   "mimetype": "text/x-python",
   "name": "python",
   "nbconvert_exporter": "python",
   "pygments_lexer": "ipython3",
   "version": "3.6.8"
  }
 },
 "nbformat": 4,
 "nbformat_minor": 2
}
