{
 "cells": [
  {
   "cell_type": "markdown",
   "metadata": {},
   "source": [
    "### 0. 비교분석을 위해 LDA model 만들기."
   ]
  },
  {
   "cell_type": "code",
   "execution_count": null,
   "metadata": {},
   "outputs": [],
   "source": [
    "import pandas as pd\n",
    "import numpy as np\n",
    "import pickle\n",
    "from pprint import pprint\n",
    "import re"
   ]
  },
  {
   "cell_type": "code",
   "execution_count": null,
   "metadata": {},
   "outputs": [],
   "source": [
    "with open(\"data/cleaned_data.pk\", \"rb\") as f:\n",
    "    data = pickle.load(f)\n",
    "\n",
    "data.reset_index(drop=True, inplace=True)\n",
    "print(data.head())\n",
    "print(data.info())"
   ]
  },
  {
   "cell_type": "markdown",
   "metadata": {},
   "source": [
    "### 2. 초록 없는 데이터 제거  및 분석시기 설정하기"
   ]
  },
  {
   "cell_type": "code",
   "execution_count": null,
   "metadata": {},
   "outputs": [],
   "source": [
    "# 시간정보 열 datetime 정보로 변환\n",
    "data['Date'] = pd.to_datetime(data['Date'])\n",
    "# 인덱스 넣기\n",
    "data = data.set_index('Date')\n",
    "data.head()"
   ]
  },
  {
   "cell_type": "code",
   "execution_count": null,
   "metadata": {},
   "outputs": [],
   "source": [
    "# LDA를 위해 2019년도 데이터만 불러오기.\n"
   ]
  },
  {
   "cell_type": "markdown",
   "metadata": {},
   "source": [
    "### 3. LDA & Dynamic Topic Model 돌리기"
   ]
  },
  {
   "cell_type": "code",
   "execution_count": null,
   "metadata": {},
   "outputs": [],
   "source": [
    "from gensim.models import ldamodel\n",
    "from gensim.models import ldaseqmodel\n",
    "from gensim.models import CoherenceModel\n",
    "from gensim.corpora import Dictionary, bleicorpus\n",
    "from gensim.matutils import hellinger\n",
    "from gensim import corpora\n",
    "from tqdm import tqdm_notebook\n",
    "from time import time\n",
    "\n",
    "import os"
   ]
  },
  {
   "cell_type": "markdown",
   "metadata": {},
   "source": [
    "##### dictionary와 doc2bow 만들기 ( LDA에서 2019년도 것만 사용)"
   ]
  },
  {
   "cell_type": "code",
   "execution_count": null,
   "metadata": {},
   "outputs": [],
   "source": [
    "# Create Dictionary\n",
    "if not os.path.exists('kakao(LDA)_dict'):\n",
    "    dictionary = corpora.Dictionary(tokenized_data)\n",
    "    #dictionary.filter_extremes(no_below=5, no_above=500)  # 이 줄의 코드는 n회 미만 또는 n회 이상을 지울 때 사용\n",
    "    dictionary.save('kakao(LDA)_dict')\n",
    "    print(dictionary)\n",
    "else:\n",
    "    dictionary = Dictionary.load('kakao(LDA)_dict')\n",
    "\n",
    "# Term Document Frequency (convert tokenized documents into a Document-Term Matrix)    \n",
    "if not os.path.exists('kakao(LDA)_corpus'):\n",
    "    corpus = [dictionary.doc2bow(doc) for doc in tokenized_data]\n",
    "    corpora.BleiCorpus.serialize('kakao(LDA)_corpus', corpus)\n",
    "else:\n",
    "    corpus = bleicorpus.BleiCorpus('kakao(LDA)_corpus')"
   ]
  },
  {
   "cell_type": "markdown",
   "metadata": {},
   "source": [
    "##### Run LDA model "
   ]
  },
  {
   "cell_type": "code",
   "execution_count": null,
   "metadata": {},
   "outputs": [],
   "source": [
    "# DTM 분석에서 best topic으로 나온 결과를 비교하기 위해 같은 토픽 수로 설정.\n",
    "NUM_TOPICS = 8\n",
    "\n",
    "if not os.path.exists('kakao(LDA)_model'):\n",
    "    \n",
    "    lda_model.save('kakao(LDA)_model')\n",
    "else:\n",
    "    lda_model = ldamodel.LdaModel.load('kakao(LDA)_model')"
   ]
  },
  {
   "cell_type": "markdown",
   "metadata": {},
   "source": [
    "##### Run DTM Model"
   ]
  },
  {
   "cell_type": "code",
   "execution_count": null,
   "metadata": {},
   "outputs": [],
   "source": [
    "# DTM 분석에서 best topic으로 나온 결과를 비교하기 위해 같은 토픽 수로 설정.\n",
    "NUM_TOPICS = 8\n",
    "\n",
    "dtm_model = ldaseqmodel.LdaSeqModel.load('kakao_dtm_model_8')"
   ]
  },
  {
   "cell_type": "markdown",
   "metadata": {},
   "source": [
    "##### LDA와 DTM 결과 비교해보기"
   ]
  },
  {
   "cell_type": "code",
   "execution_count": null,
   "metadata": {},
   "outputs": [],
   "source": []
  },
  {
   "cell_type": "code",
   "execution_count": null,
   "metadata": {
    "scrolled": false
   },
   "outputs": [],
   "source": [
    "dtm_model.print_topic(topic=0, time=2, top_terms=20)"
   ]
  },
  {
   "cell_type": "markdown",
   "metadata": {},
   "source": [
    "##### coherence score 계산 비교"
   ]
  },
  {
   "cell_type": "code",
   "execution_count": null,
   "metadata": {},
   "outputs": [],
   "source": [
    "# DTM coherence score 비교를 위해 데이터 불러오기.\n",
    "\n",
    "dtm_corpus = corpus = bleicorpus.BleiCorpus('kakao(DTM)_corpus')\n",
    "dtm_dictionary = Dictionary.load('kakao(DTM)_dict')\n",
    "processing_data = [msg.split() for msg in data['Message']]"
   ]
  },
  {
   "cell_type": "code",
   "execution_count": null,
   "metadata": {},
   "outputs": [],
   "source": [
    "# 각 모델별 coherence score 계산.\n"
   ]
  },
  {
   "cell_type": "code",
   "execution_count": null,
   "metadata": {},
   "outputs": [],
   "source": [
    "# 결과 확인."
   ]
  },
  {
   "cell_type": "code",
   "execution_count": null,
   "metadata": {},
   "outputs": [],
   "source": []
  }
 ],
 "metadata": {
  "kernelspec": {
   "display_name": "Python 3",
   "language": "python",
   "name": "python3"
  },
  "language_info": {
   "codemirror_mode": {
    "name": "ipython",
    "version": 3
   },
   "file_extension": ".py",
   "mimetype": "text/x-python",
   "name": "python",
   "nbconvert_exporter": "python",
   "pygments_lexer": "ipython3",
   "version": "3.6.7"
  }
 },
 "nbformat": 4,
 "nbformat_minor": 2
}
