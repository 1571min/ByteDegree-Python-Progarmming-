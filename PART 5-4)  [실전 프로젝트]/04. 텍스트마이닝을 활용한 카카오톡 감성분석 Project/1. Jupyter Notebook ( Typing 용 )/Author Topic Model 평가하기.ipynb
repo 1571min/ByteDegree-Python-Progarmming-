{
 "cells": [
  {
   "cell_type": "code",
   "execution_count": null,
   "metadata": {},
   "outputs": [],
   "source": [
    "from gensim.models import AuthorTopicModel\n",
    "from gensim.corpora import Dictionary, bleicorpus\n",
    "from gensim import corpora\n",
    "from tqdm import tqdm_notebook\n",
    "from pprint import pprint\n",
    "\n",
    "# 사용자간의 유사성을 평가하기 위한 measure를 사용하기 위해 불러오기\n",
    "\n",
    "import pandas as pd\n",
    "import os"
   ]
  },
  {
   "cell_type": "code",
   "execution_count": null,
   "metadata": {},
   "outputs": [],
   "source": [
    "NUM_TOPICS = 4\n",
    "\n",
    "if not os.path.exists(\"kakao(ATM)_model\"):\n",
    "    model = AuthorTopicModel(corpus=corpus, num_topics=NUM_TOPICS, id2word=dictionary.id2token, \\\n",
    "                author2doc=author2doc, passes=10)\n",
    "    model.save('kakao(ATM)_model')\n",
    "else:\n",
    "    model = AuthorTopicModel.load(\"kakao(ATM)_model\")"
   ]
  },
  {
   "cell_type": "code",
   "execution_count": null,
   "metadata": {},
   "outputs": [],
   "source": [
    "# 토픽별 분포 확인하기\n"
   ]
  },
  {
   "cell_type": "code",
   "execution_count": null,
   "metadata": {},
   "outputs": [],
   "source": [
    "# 토픽 라벨 지정.\n"
   ]
  },
  {
   "cell_type": "code",
   "execution_count": null,
   "metadata": {},
   "outputs": [],
   "source": [
    "# 토픽별로 topN 단어 확인하기.\n",
    "\n"
   ]
  },
  {
   "cell_type": "code",
   "execution_count": null,
   "metadata": {},
   "outputs": [],
   "source": [
    "# 사용자별로 토픽 분포 확인하기.\n",
    "\n"
   ]
  },
  {
   "cell_type": "code",
   "execution_count": null,
   "metadata": {},
   "outputs": [],
   "source": [
    "# \"네오\"의 토픽 분포 확인.\n"
   ]
  },
  {
   "cell_type": "code",
   "execution_count": null,
   "metadata": {},
   "outputs": [],
   "source": [
    "# Hellinger Distance를 이용하여 비슷한 토픽을 가진 사용자를 추정하는 함수.\n",
    "\n",
    "\n",
    "# author-topic 분포 만들기\n",
    "\n",
    " \n",
    "def similarity(vec1, vec2):\n",
    "    '''Get similarity between two vectors'''\n",
    "    dist = hellinger(matutils.sparse2full(vec1, model.num_topics),\n",
    "                     matutils.sparse2full(vec2, model.num_topics))\n",
    "    sim = 1.0 / (1.0 + dist)\n",
    "    \n",
    "    return sim\n",
    " \n",
    "def get_sims(vec):\n",
    "    '''Get similarity of vector to all authors.'''\n",
    "    sims = [similarity(vec, vec2) for vec2 in author_vecs]\n",
    "    return sims\n",
    " \n",
    "def get_table(name, top_n=10, smallest_author=1):\n",
    "    '''\n",
    "    Get table with similarities, author names, and author sizes.\n",
    "    Return `top_n` authors as a dataframe.\n",
    "    \n",
    "    '''\n",
    "    \n",
    "    # 유사도 측정하기\n",
    "\n",
    " \n",
    "    # 저자별 정보 정렬하기\n",
    "\n",
    "    \n",
    "    # 사용자 패턴 분석 결과를 Dataframe으로 만들기\n",
    "    \n",
    "    \n",
    "    \n",
    "    return df"
   ]
  },
  {
   "cell_type": "code",
   "execution_count": null,
   "metadata": {},
   "outputs": [],
   "source": [
    "# 사용자별 대화 패턴 검증\n"
   ]
  },
  {
   "cell_type": "code",
   "execution_count": null,
   "metadata": {},
   "outputs": [],
   "source": []
  }
 ],
 "metadata": {
  "kernelspec": {
   "display_name": "Python 3",
   "language": "python",
   "name": "python3"
  },
  "language_info": {
   "codemirror_mode": {
    "name": "ipython",
    "version": 3
   },
   "file_extension": ".py",
   "mimetype": "text/x-python",
   "name": "python",
   "nbconvert_exporter": "python",
   "pygments_lexer": "ipython3",
   "version": "3.6.7"
  }
 },
 "nbformat": 4,
 "nbformat_minor": 2
}
