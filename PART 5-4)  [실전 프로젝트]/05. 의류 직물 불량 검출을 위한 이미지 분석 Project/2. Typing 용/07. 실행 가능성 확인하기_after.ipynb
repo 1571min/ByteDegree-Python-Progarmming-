{
 "cells": [
  {
   "cell_type": "markdown",
   "metadata": {},
   "source": [
    "# 실행 가능성 확인하기"
   ]
  },
  {
   "cell_type": "code",
   "execution_count": 1,
   "metadata": {},
   "outputs": [],
   "source": [
    "import glob\n",
    "import os\n",
    "import tensorflow as tf\n",
    "import cv2\n",
    "from tensorflow.keras.layers import Conv2D, MaxPool2D, Flatten, Dense\n",
    "from tensorflow.keras.models import Sequential"
   ]
  },
  {
   "cell_type": "markdown",
   "metadata": {},
   "source": [
    "## 하이퍼파라미터"
   ]
  },
  {
   "cell_type": "code",
   "execution_count": 2,
   "metadata": {},
   "outputs": [],
   "source": [
    "EPOCHS = 10\n",
    "\n",
    "DATASET_PATH = 'dataset/2/'\n",
    "DATASET_OK_PATTERN = DATASET_PATH + 'OK/*.png'\n",
    "DATASET_FAIL_PATTERN = DATASET_PATH + 'FAIL/*.png'\n",
    "\n",
    "RESULT_SAVE_PATH = 'results/'"
   ]
  },
  {
   "cell_type": "markdown",
   "metadata": {},
   "source": [
    "## 단순한 모델 설정"
   ]
  },
  {
   "cell_type": "code",
   "execution_count": 3,
   "metadata": {},
   "outputs": [],
   "source": [
    "def Model():\n",
    "    return Sequential([Conv2D(32, (3, 3), activation='relu'),\n",
    "                       MaxPool2D(),\n",
    "                       Conv2D(64, (3, 3), activation='relu'),\n",
    "                       MaxPool2D(),\n",
    "                       Conv2D(128, (3, 3), activation='relu'),\n",
    "                       MaxPool2D(),\n",
    "                       Conv2D(256, (3, 3), activation='relu'),\n",
    "                       MaxPool2D(),\n",
    "                       Flatten(),\n",
    "                       Dense(1, activation='sigmoid')])"
   ]
  },
  {
   "cell_type": "markdown",
   "metadata": {},
   "source": [
    "## 데이터셋 불러오기"
   ]
  },
  {
   "cell_type": "code",
   "execution_count": 4,
   "metadata": {},
   "outputs": [],
   "source": [
    "def preprocess(file_name):\n",
    "    img = tf.io.read_file(file_name)\n",
    "    img = tf.image.decode_png(img)\n",
    "    return tf.image.convert_image_dtype(img, tf.float32)"
   ]
  },
  {
   "cell_type": "code",
   "execution_count": 5,
   "metadata": {},
   "outputs": [],
   "source": [
    "ok_list = glob.glob(DATASET_OK_PATTERN)\n",
    "ds_ok = tf.data.Dataset.list_files(ok_list)\n",
    "ds_ok_label = tf.data.Dataset.from_tensor_slices([0] * len(ok_list))\n",
    "\n",
    "ds_ok = ds_ok.map(preprocess)\n",
    "ds_ok = tf.data.Dataset.zip((ds_ok, ds_ok_label))\n",
    "\n",
    "fail_list = glob.glob(DATASET_FAIL_PATTERN)\n",
    "ds_fail = tf.data.Dataset.list_files(fail_list)\n",
    "ds_fail_label = tf.data.Dataset.from_tensor_slices([1] * len(fail_list))\n",
    "\n",
    "ds_fail = ds_fail.map(preprocess)\n",
    "ds_fail = tf.data.Dataset.zip((ds_fail, ds_fail_label))\n",
    "\n",
    "ds = tf.data.Dataset.concatenate(ds_ok, ds_fail)"
   ]
  },
  {
   "cell_type": "markdown",
   "metadata": {},
   "source": [
    "## Train, Valid 데이터셋 나누기"
   ]
  },
  {
   "cell_type": "code",
   "execution_count": 6,
   "metadata": {
    "scrolled": false
   },
   "outputs": [],
   "source": [
    "ds_size = len(ok_list) + len(fail_list)\n",
    "train_size = int(ds_size * 0.7)\n",
    "\n",
    "ds = ds.shuffle(ds_size)\n",
    "ds_train = ds.take(train_size).shuffle(1024, reshuffle_each_iteration=True).batch(32)\n",
    "ds_valid = ds.skip(train_size).batch(32)"
   ]
  },
  {
   "cell_type": "markdown",
   "metadata": {},
   "source": [
    "## 모델 생성 및 학습"
   ]
  },
  {
   "cell_type": "code",
   "execution_count": 7,
   "metadata": {
    "scrolled": true
   },
   "outputs": [],
   "source": [
    "model = Model()\n",
    "model.compile(optimizer='adam',\n",
    "              loss='binary_crossentropy',\n",
    "              metrics=['accuracy'])"
   ]
  },
  {
   "cell_type": "code",
   "execution_count": 8,
   "metadata": {
    "scrolled": true
   },
   "outputs": [
    {
     "name": "stdout",
     "output_type": "stream",
     "text": [
      "Epoch 1/10\n"
     ]
    },
    {
     "name": "stderr",
     "output_type": "stream",
     "text": [
      "WARNING: Logging before flag parsing goes to stderr.\n",
      "W1116 20:20:36.868065 140460335621952 deprecation.py:323] From /home/jeyong/.conda/envs/tf2.0b1/lib/python3.6/site-packages/tensorflow/python/ops/math_grad.py:1250: add_dispatch_support.<locals>.wrapper (from tensorflow.python.ops.array_ops) is deprecated and will be removed in a future version.\n",
      "Instructions for updating:\n",
      "Use tf.where in 2.0, which has the same broadcast rule as np.where\n"
     ]
    },
    {
     "name": "stdout",
     "output_type": "stream",
     "text": [
      "21/21 [==============================] - 7s 312ms/step - loss: 0.4150 - accuracy: 0.8708 - val_loss: 0.3871 - val_accuracy: 0.8732\n",
      "Epoch 2/10\n",
      "21/21 [==============================] - 4s 192ms/step - loss: 0.3904 - accuracy: 0.8708 - val_loss: 0.3662 - val_accuracy: 0.8732\n",
      "Epoch 3/10\n",
      "21/21 [==============================] - 4s 194ms/step - loss: 0.3722 - accuracy: 0.8708 - val_loss: 0.3544 - val_accuracy: 0.8732\n",
      "Epoch 4/10\n",
      "21/21 [==============================] - 4s 186ms/step - loss: 0.3688 - accuracy: 0.8708 - val_loss: 0.3484 - val_accuracy: 0.8732\n",
      "Epoch 5/10\n",
      "21/21 [==============================] - 4s 187ms/step - loss: 0.3545 - accuracy: 0.8708 - val_loss: 0.3411 - val_accuracy: 0.8732\n",
      "Epoch 6/10\n",
      "21/21 [==============================] - 4s 190ms/step - loss: 0.3537 - accuracy: 0.8708 - val_loss: 0.3356 - val_accuracy: 0.8732\n",
      "Epoch 7/10\n",
      "21/21 [==============================] - 4s 185ms/step - loss: 0.3459 - accuracy: 0.8684 - val_loss: 0.3289 - val_accuracy: 0.8803\n",
      "Epoch 8/10\n",
      "21/21 [==============================] - 4s 184ms/step - loss: 0.3393 - accuracy: 0.8697 - val_loss: 0.3230 - val_accuracy: 0.8873\n",
      "Epoch 9/10\n",
      "21/21 [==============================] - 4s 187ms/step - loss: 0.3409 - accuracy: 0.8747 - val_loss: 0.3195 - val_accuracy: 0.8873\n",
      "Epoch 10/10\n",
      "21/21 [==============================] - 4s 188ms/step - loss: 0.3366 - accuracy: 0.8730 - val_loss: 0.3161 - val_accuracy: 0.8873\n"
     ]
    },
    {
     "data": {
      "text/plain": [
       "<tensorflow.python.keras.callbacks.History at 0x7fbef013cfd0>"
      ]
     },
     "execution_count": 8,
     "metadata": {},
     "output_type": "execute_result"
    }
   ],
   "source": [
    "model.fit(ds_train, validation_data=ds_valid, epochs=EPOCHS)"
   ]
  },
  {
   "cell_type": "markdown",
   "metadata": {},
   "source": [
    "## 결과를 이미지로 저장"
   ]
  },
  {
   "cell_type": "code",
   "execution_count": 17,
   "metadata": {
    "scrolled": true
   },
   "outputs": [],
   "source": [
    "def mkdir(path):\n",
    "    if os.path.exists(path) is False:\n",
    "        os.mkdir(path)\n",
    "\n",
    "mkdir(RESULT_SAVE_PATH)\n",
    "mkdir(RESULT_SAVE_PATH + '/TP')\n",
    "mkdir(RESULT_SAVE_PATH + '/TN')\n",
    "mkdir(RESULT_SAVE_PATH + '/FP')\n",
    "mkdir(RESULT_SAVE_PATH + '/FN')\n",
    "\n",
    "index = 0\n",
    "for imgs, labels in ds_valid:\n",
    "    preds = model.predict(imgs)\n",
    "    for idx in range(imgs.shape[0]):\n",
    "        gt = labels[idx].numpy()\n",
    "        y = preds[idx]\n",
    "        \n",
    "        if gt == 1 and y > 0.5:\n",
    "            path = RESULT_SAVE_PATH + '/TP'\n",
    "        elif gt == 1 and y <= 0.5:\n",
    "            path = RESULT_SAVE_PATH + '/FN'\n",
    "        elif gt == 0 and y > 0.5:\n",
    "            path = RESULT_SAVE_PATH + '/FP'\n",
    "        else:\n",
    "            path = RESULT_SAVE_PATH + '/TN'\n",
    "            \n",
    "        cv2.imwrite(path + '/%.4f_%04d.png' % (y, index), imgs[idx].numpy() * 255)\n",
    "        index +=1"
   ]
  }
 ],
 "metadata": {
  "kernelspec": {
   "display_name": "Python 3",
   "language": "python",
   "name": "python3"
  },
  "language_info": {
   "codemirror_mode": {
    "name": "ipython",
    "version": 3
   },
   "file_extension": ".py",
   "mimetype": "text/x-python",
   "name": "python",
   "nbconvert_exporter": "python",
   "pygments_lexer": "ipython3",
   "version": "3.6.9"
  }
 },
 "nbformat": 4,
 "nbformat_minor": 2
}
