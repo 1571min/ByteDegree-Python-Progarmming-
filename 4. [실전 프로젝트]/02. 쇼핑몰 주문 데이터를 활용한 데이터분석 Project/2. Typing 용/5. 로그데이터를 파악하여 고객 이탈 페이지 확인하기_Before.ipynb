{
 "cells": [
  {
   "cell_type": "markdown",
   "metadata": {},
   "source": [
    "### 학습목표\n",
    "1. 로그데이터로 고객 이탈 페이지 확인하기"
   ]
  },
  {
   "cell_type": "code",
   "execution_count": 1,
   "metadata": {},
   "outputs": [],
   "source": [
    "import pandas as pd\n",
    "import numpy as np"
   ]
  },
  {
   "cell_type": "markdown",
   "metadata": {},
   "source": [
    "#### 웹서버 로그 데이터\n",
    " - 웹서버에 클라이언트로의 요청(request) 전달 시, 해당 요청에 대한 정보(ip, 시각, 방문 페이지 등등)를 기록하는 파일\n",
    " - 기록되는 로그의 포맷(format)의 표준이 있으나 설정으로 포맷 변경 가능\n",
    " - 로그 데이터는 주로 웹 서버의 디버깅, 데이터 분석 등의 형태로 사용 됨\n",
    " - 예제에서 사용하는 형식\u001c",
    "\n",
    "   - ip 세션아이디 사용자식별자 시각 요청 페이지 상태코드 바이트사이즈\n",
    "   ```\n",
    "   1.0.0.1 sessionid user59 [16/Dec/2019:02:00:08] GET /checkout 200 1508\n",
    "   ```"
   ]
  },
  {
   "cell_type": "code",
   "execution_count": 3,
   "metadata": {},
   "outputs": [
    {
     "data": {
      "text/html": [
       "<div>\n",
       "<style scoped>\n",
       "    .dataframe tbody tr th:only-of-type {\n",
       "        vertical-align: middle;\n",
       "    }\n",
       "\n",
       "    .dataframe tbody tr th {\n",
       "        vertical-align: top;\n",
       "    }\n",
       "\n",
       "    .dataframe thead th {\n",
       "        text-align: right;\n",
       "    }\n",
       "</style>\n",
       "<table border=\"1\" class=\"dataframe\">\n",
       "  <thead>\n",
       "    <tr style=\"text-align: right;\">\n",
       "      <th></th>\n",
       "      <th>ip</th>\n",
       "      <th>session_id</th>\n",
       "      <th>user_id</th>\n",
       "      <th>datetime</th>\n",
       "      <th>request</th>\n",
       "      <th>url</th>\n",
       "      <th>status</th>\n",
       "      <th>bytesize</th>\n",
       "    </tr>\n",
       "  </thead>\n",
       "  <tbody>\n",
       "    <tr>\n",
       "      <td>0</td>\n",
       "      <td>4.5.4.5</td>\n",
       "      <td>69de169f-6eed-4e4d-ae5b-ff997b8c889f</td>\n",
       "      <td>user89</td>\n",
       "      <td>[01/Dec/2019T00:47:11]</td>\n",
       "      <td>GET</td>\n",
       "      <td>/product_list</td>\n",
       "      <td>200</td>\n",
       "      <td>2107</td>\n",
       "    </tr>\n",
       "    <tr>\n",
       "      <td>1</td>\n",
       "      <td>4.5.4.5</td>\n",
       "      <td>69de169f-6eed-4e4d-ae5b-ff997b8c889f</td>\n",
       "      <td>user89</td>\n",
       "      <td>[01/Dec/2019T00:51:21]</td>\n",
       "      <td>GET</td>\n",
       "      <td>/product_detail</td>\n",
       "      <td>200</td>\n",
       "      <td>1323</td>\n",
       "    </tr>\n",
       "    <tr>\n",
       "      <td>2</td>\n",
       "      <td>3.3.3.3.</td>\n",
       "      <td>3d46aad9-17eb-4af1-bc54-6ca91d7f8f6c</td>\n",
       "      <td>user2</td>\n",
       "      <td>[01/Dec/2019T00:51:43]</td>\n",
       "      <td>GET</td>\n",
       "      <td>/product_list</td>\n",
       "      <td>200</td>\n",
       "      <td>2616</td>\n",
       "    </tr>\n",
       "    <tr>\n",
       "      <td>3</td>\n",
       "      <td>1.0.1.0</td>\n",
       "      <td>57623182-b78b-4bdc-b977-a2b34612c6d1</td>\n",
       "      <td>user45</td>\n",
       "      <td>[01/Dec/2019T01:04:02]</td>\n",
       "      <td>GET</td>\n",
       "      <td>/product_list</td>\n",
       "      <td>200</td>\n",
       "      <td>2303</td>\n",
       "    </tr>\n",
       "    <tr>\n",
       "      <td>4</td>\n",
       "      <td>3.3.3.3.</td>\n",
       "      <td>3d46aad9-17eb-4af1-bc54-6ca91d7f8f6c</td>\n",
       "      <td>user2</td>\n",
       "      <td>[01/Dec/2019T01:12:28]</td>\n",
       "      <td>GET</td>\n",
       "      <td>/product_detail</td>\n",
       "      <td>200</td>\n",
       "      <td>1830</td>\n",
       "    </tr>\n",
       "  </tbody>\n",
       "</table>\n",
       "</div>"
      ],
      "text/plain": [
       "         ip                            session_id user_id  \\\n",
       "0   4.5.4.5  69de169f-6eed-4e4d-ae5b-ff997b8c889f  user89   \n",
       "1   4.5.4.5  69de169f-6eed-4e4d-ae5b-ff997b8c889f  user89   \n",
       "2  3.3.3.3.  3d46aad9-17eb-4af1-bc54-6ca91d7f8f6c   user2   \n",
       "3   1.0.1.0  57623182-b78b-4bdc-b977-a2b34612c6d1  user45   \n",
       "4  3.3.3.3.  3d46aad9-17eb-4af1-bc54-6ca91d7f8f6c   user2   \n",
       "\n",
       "                 datetime request              url  status  bytesize  \n",
       "0  [01/Dec/2019T00:47:11]     GET    /product_list     200      2107  \n",
       "1  [01/Dec/2019T00:51:21]     GET  /product_detail     200      1323  \n",
       "2  [01/Dec/2019T00:51:43]     GET    /product_list     200      2616  \n",
       "3  [01/Dec/2019T01:04:02]     GET    /product_list     200      2303  \n",
       "4  [01/Dec/2019T01:12:28]     GET  /product_detail     200      1830  "
      ]
     },
     "execution_count": 3,
     "metadata": {},
     "output_type": "execute_result"
    }
   ],
   "source": [
    "logs = pd.read_csv('web.log', \n",
    "                   sep='\\s',\n",
    "                   engine='python',\n",
    "                   names=['ip', 'session_id', 'user_id', 'datetime', 'request', 'url', 'status', 'bytesize'])\n",
    "\n",
    "logs.head()"
   ]
  },
  {
   "cell_type": "markdown",
   "metadata": {},
   "source": [
    "#### 날짜 형식 변환"
   ]
  },
  {
   "cell_type": "code",
   "execution_count": 5,
   "metadata": {},
   "outputs": [
    {
     "name": "stdout",
     "output_type": "stream",
     "text": [
      "<class 'pandas.core.frame.DataFrame'>\n",
      "RangeIndex: 1290 entries, 0 to 1289\n",
      "Data columns (total 8 columns):\n",
      "ip            1290 non-null object\n",
      "session_id    1290 non-null object\n",
      "user_id       1290 non-null object\n",
      "datetime      1290 non-null object\n",
      "request       1290 non-null object\n",
      "url           1290 non-null object\n",
      "status        1290 non-null int64\n",
      "bytesize      1290 non-null int64\n",
      "dtypes: int64(2), object(6)\n",
      "memory usage: 80.8+ KB\n"
     ]
    }
   ],
   "source": [
    "logs.info()"
   ]
  },
  {
   "cell_type": "code",
   "execution_count": 7,
   "metadata": {},
   "outputs": [
    {
     "ename": "ValueError",
     "evalue": "value must be an integer, received <class 'str'> for year",
     "output_type": "error",
     "traceback": [
      "\u001b[0;31m---------------------------------------------------------------------------\u001b[0m",
      "\u001b[0;31mValueError\u001b[0m                                Traceback (most recent call last)",
      "\u001b[0;32m<ipython-input-7-813ece751acc>\u001b[0m in \u001b[0;36m<module>\u001b[0;34m\u001b[0m\n\u001b[1;32m      1\u001b[0m \u001b[0;31m#01/Dec/2019T00:47:11\u001b[0m\u001b[0;34m\u001b[0m\u001b[0;34m\u001b[0m\u001b[0;34m\u001b[0m\u001b[0m\n\u001b[1;32m      2\u001b[0m \u001b[0;34m\u001b[0m\u001b[0m\n\u001b[0;32m----> 3\u001b[0;31m \u001b[0mlogs\u001b[0m\u001b[0;34m[\u001b[0m\u001b[0;34m'datetime'\u001b[0m\u001b[0;34m]\u001b[0m\u001b[0;34m=\u001b[0m\u001b[0mlogs\u001b[0m\u001b[0;34m[\u001b[0m\u001b[0;34m'datetime'\u001b[0m\u001b[0;34m]\u001b[0m\u001b[0;34m.\u001b[0m\u001b[0mapply\u001b[0m\u001b[0;34m(\u001b[0m\u001b[0;32mlambda\u001b[0m \u001b[0mdate\u001b[0m\u001b[0;34m:\u001b[0m\u001b[0mdate\u001b[0m\u001b[0;34m.\u001b[0m\u001b[0mreplace\u001b[0m\u001b[0;34m(\u001b[0m\u001b[0;34m'['\u001b[0m\u001b[0;34m,\u001b[0m\u001b[0;34m''\u001b[0m\u001b[0;34m)\u001b[0m\u001b[0;34m.\u001b[0m\u001b[0mreplace\u001b[0m\u001b[0;34m(\u001b[0m\u001b[0;34m']'\u001b[0m\u001b[0;34m,\u001b[0m\u001b[0;34m''\u001b[0m\u001b[0;34m)\u001b[0m\u001b[0;34m)\u001b[0m\u001b[0;34m\u001b[0m\u001b[0;34m\u001b[0m\u001b[0m\n\u001b[0m\u001b[1;32m      4\u001b[0m \u001b[0mlogs\u001b[0m\u001b[0;34m[\u001b[0m\u001b[0;34m'datetime'\u001b[0m\u001b[0;34m]\u001b[0m\u001b[0;34m=\u001b[0m\u001b[0mpd\u001b[0m\u001b[0;34m.\u001b[0m\u001b[0mto_datetime\u001b[0m\u001b[0;34m(\u001b[0m\u001b[0mlogs\u001b[0m\u001b[0;34m[\u001b[0m\u001b[0;34m'datetime'\u001b[0m\u001b[0;34m]\u001b[0m\u001b[0;34m,\u001b[0m\u001b[0mformat\u001b[0m\u001b[0;34m=\u001b[0m\u001b[0;34m'%d/%b/%YT%H:%M:%S'\u001b[0m\u001b[0;34m)\u001b[0m\u001b[0;34m\u001b[0m\u001b[0;34m\u001b[0m\u001b[0m\n\u001b[1;32m      5\u001b[0m \u001b[0;34m\u001b[0m\u001b[0m\n",
      "\u001b[0;32m~/opt/anaconda3/lib/python3.7/site-packages/pandas/core/series.py\u001b[0m in \u001b[0;36mapply\u001b[0;34m(self, func, convert_dtype, args, **kwds)\u001b[0m\n\u001b[1;32m   4040\u001b[0m             \u001b[0;32melse\u001b[0m\u001b[0;34m:\u001b[0m\u001b[0;34m\u001b[0m\u001b[0;34m\u001b[0m\u001b[0m\n\u001b[1;32m   4041\u001b[0m                 \u001b[0mvalues\u001b[0m \u001b[0;34m=\u001b[0m \u001b[0mself\u001b[0m\u001b[0;34m.\u001b[0m\u001b[0mastype\u001b[0m\u001b[0;34m(\u001b[0m\u001b[0mobject\u001b[0m\u001b[0;34m)\u001b[0m\u001b[0;34m.\u001b[0m\u001b[0mvalues\u001b[0m\u001b[0;34m\u001b[0m\u001b[0;34m\u001b[0m\u001b[0m\n\u001b[0;32m-> 4042\u001b[0;31m                 \u001b[0mmapped\u001b[0m \u001b[0;34m=\u001b[0m \u001b[0mlib\u001b[0m\u001b[0;34m.\u001b[0m\u001b[0mmap_infer\u001b[0m\u001b[0;34m(\u001b[0m\u001b[0mvalues\u001b[0m\u001b[0;34m,\u001b[0m \u001b[0mf\u001b[0m\u001b[0;34m,\u001b[0m \u001b[0mconvert\u001b[0m\u001b[0;34m=\u001b[0m\u001b[0mconvert_dtype\u001b[0m\u001b[0;34m)\u001b[0m\u001b[0;34m\u001b[0m\u001b[0;34m\u001b[0m\u001b[0m\n\u001b[0m\u001b[1;32m   4043\u001b[0m \u001b[0;34m\u001b[0m\u001b[0m\n\u001b[1;32m   4044\u001b[0m         \u001b[0;32mif\u001b[0m \u001b[0mlen\u001b[0m\u001b[0;34m(\u001b[0m\u001b[0mmapped\u001b[0m\u001b[0;34m)\u001b[0m \u001b[0;32mand\u001b[0m \u001b[0misinstance\u001b[0m\u001b[0;34m(\u001b[0m\u001b[0mmapped\u001b[0m\u001b[0;34m[\u001b[0m\u001b[0;36m0\u001b[0m\u001b[0;34m]\u001b[0m\u001b[0;34m,\u001b[0m \u001b[0mSeries\u001b[0m\u001b[0;34m)\u001b[0m\u001b[0;34m:\u001b[0m\u001b[0;34m\u001b[0m\u001b[0;34m\u001b[0m\u001b[0m\n",
      "\u001b[0;32mpandas/_libs/lib.pyx\u001b[0m in \u001b[0;36mpandas._libs.lib.map_infer\u001b[0;34m()\u001b[0m\n",
      "\u001b[0;32m<ipython-input-7-813ece751acc>\u001b[0m in \u001b[0;36m<lambda>\u001b[0;34m(date)\u001b[0m\n\u001b[1;32m      1\u001b[0m \u001b[0;31m#01/Dec/2019T00:47:11\u001b[0m\u001b[0;34m\u001b[0m\u001b[0;34m\u001b[0m\u001b[0;34m\u001b[0m\u001b[0m\n\u001b[1;32m      2\u001b[0m \u001b[0;34m\u001b[0m\u001b[0m\n\u001b[0;32m----> 3\u001b[0;31m \u001b[0mlogs\u001b[0m\u001b[0;34m[\u001b[0m\u001b[0;34m'datetime'\u001b[0m\u001b[0;34m]\u001b[0m\u001b[0;34m=\u001b[0m\u001b[0mlogs\u001b[0m\u001b[0;34m[\u001b[0m\u001b[0;34m'datetime'\u001b[0m\u001b[0;34m]\u001b[0m\u001b[0;34m.\u001b[0m\u001b[0mapply\u001b[0m\u001b[0;34m(\u001b[0m\u001b[0;32mlambda\u001b[0m \u001b[0mdate\u001b[0m\u001b[0;34m:\u001b[0m\u001b[0mdate\u001b[0m\u001b[0;34m.\u001b[0m\u001b[0mreplace\u001b[0m\u001b[0;34m(\u001b[0m\u001b[0;34m'['\u001b[0m\u001b[0;34m,\u001b[0m\u001b[0;34m''\u001b[0m\u001b[0;34m)\u001b[0m\u001b[0;34m.\u001b[0m\u001b[0mreplace\u001b[0m\u001b[0;34m(\u001b[0m\u001b[0;34m']'\u001b[0m\u001b[0;34m,\u001b[0m\u001b[0;34m''\u001b[0m\u001b[0;34m)\u001b[0m\u001b[0;34m)\u001b[0m\u001b[0;34m\u001b[0m\u001b[0;34m\u001b[0m\u001b[0m\n\u001b[0m\u001b[1;32m      4\u001b[0m \u001b[0mlogs\u001b[0m\u001b[0;34m[\u001b[0m\u001b[0;34m'datetime'\u001b[0m\u001b[0;34m]\u001b[0m\u001b[0;34m=\u001b[0m\u001b[0mpd\u001b[0m\u001b[0;34m.\u001b[0m\u001b[0mto_datetime\u001b[0m\u001b[0;34m(\u001b[0m\u001b[0mlogs\u001b[0m\u001b[0;34m[\u001b[0m\u001b[0;34m'datetime'\u001b[0m\u001b[0;34m]\u001b[0m\u001b[0;34m,\u001b[0m\u001b[0mformat\u001b[0m\u001b[0;34m=\u001b[0m\u001b[0;34m'%d/%b/%YT%H:%M:%S'\u001b[0m\u001b[0;34m)\u001b[0m\u001b[0;34m\u001b[0m\u001b[0;34m\u001b[0m\u001b[0m\n\u001b[1;32m      5\u001b[0m \u001b[0;34m\u001b[0m\u001b[0m\n",
      "\u001b[0;32mpandas/_libs/tslibs/timestamps.pyx\u001b[0m in \u001b[0;36mpandas._libs.tslibs.timestamps.Timestamp.replace\u001b[0;34m()\u001b[0m\n",
      "\u001b[0;32mpandas/_libs/tslibs/timestamps.pyx\u001b[0m in \u001b[0;36mpandas._libs.tslibs.timestamps.Timestamp.replace.validate\u001b[0;34m()\u001b[0m\n",
      "\u001b[0;31mValueError\u001b[0m: value must be an integer, received <class 'str'> for year"
     ]
    }
   ],
   "source": [
    "#01/Dec/2019T00:47:11\n",
    "\n",
    "logs['datetime']=logs['datetime'].apply(lambda date:date.replace('[','').replace(']',''))\n",
    "logs['datetime']=pd.to_datetime(logs['datetime'],format='%d/%b/%YT%H:%M:%S')\n",
    "\n",
    "logs.head()"
   ]
  },
  {
   "cell_type": "code",
   "execution_count": 9,
   "metadata": {},
   "outputs": [
    {
     "name": "stdout",
     "output_type": "stream",
     "text": [
      "<class 'pandas.core.frame.DataFrame'>\n",
      "RangeIndex: 1290 entries, 0 to 1289\n",
      "Data columns (total 8 columns):\n",
      "ip            1290 non-null object\n",
      "session_id    1290 non-null object\n",
      "user_id       1290 non-null object\n",
      "datetime      1290 non-null datetime64[ns]\n",
      "request       1290 non-null object\n",
      "url           1290 non-null object\n",
      "status        1290 non-null int64\n",
      "bytesize      1290 non-null int64\n",
      "dtypes: datetime64[ns](1), int64(2), object(5)\n",
      "memory usage: 80.8+ KB\n"
     ]
    }
   ],
   "source": [
    "logs.info()"
   ]
  },
  {
   "cell_type": "markdown",
   "metadata": {},
   "source": [
    "#### 어떤 페이지에서 고객이 이탈을 할까?\n",
    " - 고객 이탈 페이지를 알면 해당 페이지를 분석하여 고객을 최종 단계로 더 많이 유도 가능\n",
    " - 대부분의 경우 다음 스텝으로 넘어갈때의 장벽이(신용카드 입력, 정보 입력 등등) 높은 경우가 해당 됨"
   ]
  },
  {
   "cell_type": "code",
   "execution_count": 11,
   "metadata": {},
   "outputs": [
    {
     "data": {
      "text/html": [
       "<div>\n",
       "<style scoped>\n",
       "    .dataframe tbody tr th:only-of-type {\n",
       "        vertical-align: middle;\n",
       "    }\n",
       "\n",
       "    .dataframe tbody tr th {\n",
       "        vertical-align: top;\n",
       "    }\n",
       "\n",
       "    .dataframe thead th {\n",
       "        text-align: right;\n",
       "    }\n",
       "</style>\n",
       "<table border=\"1\" class=\"dataframe\">\n",
       "  <thead>\n",
       "    <tr style=\"text-align: right;\">\n",
       "      <th></th>\n",
       "      <th>ip</th>\n",
       "      <th>session_id</th>\n",
       "      <th>user_id</th>\n",
       "      <th>datetime</th>\n",
       "      <th>request</th>\n",
       "      <th>url</th>\n",
       "      <th>status</th>\n",
       "      <th>bytesize</th>\n",
       "    </tr>\n",
       "  </thead>\n",
       "  <tbody>\n",
       "    <tr>\n",
       "      <td>0</td>\n",
       "      <td>4.5.4.5</td>\n",
       "      <td>69de169f-6eed-4e4d-ae5b-ff997b8c889f</td>\n",
       "      <td>user89</td>\n",
       "      <td>2019-12-01 00:47:11</td>\n",
       "      <td>GET</td>\n",
       "      <td>/product_list</td>\n",
       "      <td>200</td>\n",
       "      <td>2107</td>\n",
       "    </tr>\n",
       "    <tr>\n",
       "      <td>1</td>\n",
       "      <td>4.5.4.5</td>\n",
       "      <td>69de169f-6eed-4e4d-ae5b-ff997b8c889f</td>\n",
       "      <td>user89</td>\n",
       "      <td>2019-12-01 00:51:21</td>\n",
       "      <td>GET</td>\n",
       "      <td>/product_detail</td>\n",
       "      <td>200</td>\n",
       "      <td>1323</td>\n",
       "    </tr>\n",
       "    <tr>\n",
       "      <td>2</td>\n",
       "      <td>3.3.3.3.</td>\n",
       "      <td>3d46aad9-17eb-4af1-bc54-6ca91d7f8f6c</td>\n",
       "      <td>user2</td>\n",
       "      <td>2019-12-01 00:51:43</td>\n",
       "      <td>GET</td>\n",
       "      <td>/product_list</td>\n",
       "      <td>200</td>\n",
       "      <td>2616</td>\n",
       "    </tr>\n",
       "    <tr>\n",
       "      <td>3</td>\n",
       "      <td>1.0.1.0</td>\n",
       "      <td>57623182-b78b-4bdc-b977-a2b34612c6d1</td>\n",
       "      <td>user45</td>\n",
       "      <td>2019-12-01 01:04:02</td>\n",
       "      <td>GET</td>\n",
       "      <td>/product_list</td>\n",
       "      <td>200</td>\n",
       "      <td>2303</td>\n",
       "    </tr>\n",
       "    <tr>\n",
       "      <td>4</td>\n",
       "      <td>3.3.3.3.</td>\n",
       "      <td>3d46aad9-17eb-4af1-bc54-6ca91d7f8f6c</td>\n",
       "      <td>user2</td>\n",
       "      <td>2019-12-01 01:12:28</td>\n",
       "      <td>GET</td>\n",
       "      <td>/product_detail</td>\n",
       "      <td>200</td>\n",
       "      <td>1830</td>\n",
       "    </tr>\n",
       "  </tbody>\n",
       "</table>\n",
       "</div>"
      ],
      "text/plain": [
       "         ip                            session_id user_id            datetime  \\\n",
       "0   4.5.4.5  69de169f-6eed-4e4d-ae5b-ff997b8c889f  user89 2019-12-01 00:47:11   \n",
       "1   4.5.4.5  69de169f-6eed-4e4d-ae5b-ff997b8c889f  user89 2019-12-01 00:51:21   \n",
       "2  3.3.3.3.  3d46aad9-17eb-4af1-bc54-6ca91d7f8f6c   user2 2019-12-01 00:51:43   \n",
       "3   1.0.1.0  57623182-b78b-4bdc-b977-a2b34612c6d1  user45 2019-12-01 01:04:02   \n",
       "4  3.3.3.3.  3d46aad9-17eb-4af1-bc54-6ca91d7f8f6c   user2 2019-12-01 01:12:28   \n",
       "\n",
       "  request              url  status  bytesize  \n",
       "0     GET    /product_list     200      2107  \n",
       "1     GET  /product_detail     200      1323  \n",
       "2     GET    /product_list     200      2616  \n",
       "3     GET    /product_list     200      2303  \n",
       "4     GET  /product_detail     200      1830  "
      ]
     },
     "execution_count": 11,
     "metadata": {},
     "output_type": "execute_result"
    }
   ],
   "source": [
    "logs.head()"
   ]
  },
  {
   "cell_type": "code",
   "execution_count": null,
   "metadata": {},
   "outputs": [],
   "source": [
    "session_id,product_list,product_detail,cart,order_complete\n",
    "1.         xxxxx.      yyy               n    n   "
   ]
  },
  {
   "cell_type": "markdown",
   "metadata": {},
   "source": [
    "#### 퍼널 스텝 dataframe 생성\n",
    " - 스텝 순서(ordering) 등을 명시하기 위해 사용"
   ]
  },
  {
   "cell_type": "code",
   "execution_count": 16,
   "metadata": {},
   "outputs": [
    {
     "data": {
      "text/html": [
       "<div>\n",
       "<style scoped>\n",
       "    .dataframe tbody tr th:only-of-type {\n",
       "        vertical-align: middle;\n",
       "    }\n",
       "\n",
       "    .dataframe tbody tr th {\n",
       "        vertical-align: top;\n",
       "    }\n",
       "\n",
       "    .dataframe thead th {\n",
       "        text-align: right;\n",
       "    }\n",
       "</style>\n",
       "<table border=\"1\" class=\"dataframe\">\n",
       "  <thead>\n",
       "    <tr style=\"text-align: right;\">\n",
       "      <th></th>\n",
       "      <th>step_no</th>\n",
       "    </tr>\n",
       "  </thead>\n",
       "  <tbody>\n",
       "    <tr>\n",
       "      <td>/product_list</td>\n",
       "      <td>1</td>\n",
       "    </tr>\n",
       "    <tr>\n",
       "      <td>/product_detail</td>\n",
       "      <td>2</td>\n",
       "    </tr>\n",
       "    <tr>\n",
       "      <td>/cart</td>\n",
       "      <td>3</td>\n",
       "    </tr>\n",
       "    <tr>\n",
       "      <td>/order_complete</td>\n",
       "      <td>4</td>\n",
       "    </tr>\n",
       "  </tbody>\n",
       "</table>\n",
       "</div>"
      ],
      "text/plain": [
       "                 step_no\n",
       "/product_list          1\n",
       "/product_detail        2\n",
       "/cart                  3\n",
       "/order_complete        4"
      ]
     },
     "execution_count": 16,
     "metadata": {},
     "output_type": "execute_result"
    }
   ],
   "source": [
    "funnel_dict={'/product_list':1,'/product_detail':2,'/cart':3,'/order_complete':4}\n",
    "funnel_steps=pd.DataFrame.from_dict(funnel_dict,orient='index',columns=['step_no'])\n",
    "funnel_steps"
   ]
  },
  {
   "cell_type": "markdown",
   "metadata": {},
   "source": [
    "#### session, url 로 grouping\n",
    " - user_id가 아닌 session을 기준으로 삼는 이유는 동일한 유저가 다른 세션으로 접속한 경우도 다른 경우로 간주해야 하기 때문\n",
    " - session_id와 url로 그루핑하여 가장 시간대가 빠른 해당 이벤트에 대해 추출"
   ]
  },
  {
   "cell_type": "code",
   "execution_count": 17,
   "metadata": {},
   "outputs": [
    {
     "data": {
      "text/html": [
       "<div>\n",
       "<style scoped>\n",
       "    .dataframe tbody tr th:only-of-type {\n",
       "        vertical-align: middle;\n",
       "    }\n",
       "\n",
       "    .dataframe tbody tr th {\n",
       "        vertical-align: top;\n",
       "    }\n",
       "\n",
       "    .dataframe thead th {\n",
       "        text-align: right;\n",
       "    }\n",
       "</style>\n",
       "<table border=\"1\" class=\"dataframe\">\n",
       "  <thead>\n",
       "    <tr style=\"text-align: right;\">\n",
       "      <th></th>\n",
       "      <th></th>\n",
       "      <th>datetime</th>\n",
       "      <th>step_no</th>\n",
       "    </tr>\n",
       "    <tr>\n",
       "      <th>session_id</th>\n",
       "      <th>url</th>\n",
       "      <th></th>\n",
       "      <th></th>\n",
       "    </tr>\n",
       "  </thead>\n",
       "  <tbody>\n",
       "    <tr>\n",
       "      <td>000d99d8-d2d4-4e9a-bb06-69b1ae6442d9</td>\n",
       "      <td>/product_detail</td>\n",
       "      <td>2019-12-01 12:06:39</td>\n",
       "      <td>2</td>\n",
       "    </tr>\n",
       "    <tr>\n",
       "      <td>0155049d-32e7-44de-9b0d-4c02f63d6099</td>\n",
       "      <td>/product_detail</td>\n",
       "      <td>2019-12-04 00:22:44</td>\n",
       "      <td>2</td>\n",
       "    </tr>\n",
       "    <tr>\n",
       "      <td>020d4536-1341-4de1-87d3-e22ba8611af6</td>\n",
       "      <td>/product_detail</td>\n",
       "      <td>2019-12-19 06:25:48</td>\n",
       "      <td>2</td>\n",
       "    </tr>\n",
       "    <tr>\n",
       "      <td>0381411a-78d8-4c27-9622-3210b7ed62d6</td>\n",
       "      <td>/product_detail</td>\n",
       "      <td>2019-12-05 05:09:32</td>\n",
       "      <td>2</td>\n",
       "    </tr>\n",
       "    <tr>\n",
       "      <td>06268108-6228-4237-ac1d-7927dd44273d</td>\n",
       "      <td>/product_detail</td>\n",
       "      <td>2019-12-11 04:17:31</td>\n",
       "      <td>2</td>\n",
       "    </tr>\n",
       "    <tr>\n",
       "      <td>...</td>\n",
       "      <td>...</td>\n",
       "      <td>...</td>\n",
       "      <td>...</td>\n",
       "    </tr>\n",
       "    <tr>\n",
       "      <td>ed374836-99eb-4e31-8b0d-40e39d38bd54</td>\n",
       "      <td>/order_complete</td>\n",
       "      <td>2019-12-08 03:42:01</td>\n",
       "      <td>4</td>\n",
       "    </tr>\n",
       "    <tr>\n",
       "      <td>ef2c3b91-b701-4d46-85ac-96607f0fccc1</td>\n",
       "      <td>/order_complete</td>\n",
       "      <td>2019-12-16 05:48:56</td>\n",
       "      <td>4</td>\n",
       "    </tr>\n",
       "    <tr>\n",
       "      <td>f25e918d-f47e-4704-a923-19f1e106f618</td>\n",
       "      <td>/order_complete</td>\n",
       "      <td>2019-12-18 07:36:20</td>\n",
       "      <td>4</td>\n",
       "    </tr>\n",
       "    <tr>\n",
       "      <td>f8010232-b6c0-4364-9e9a-f8cc88588ebb</td>\n",
       "      <td>/order_complete</td>\n",
       "      <td>2019-12-06 12:30:47</td>\n",
       "      <td>4</td>\n",
       "    </tr>\n",
       "    <tr>\n",
       "      <td>f93ce85d-b7e6-4619-9756-6a7876a25520</td>\n",
       "      <td>/order_complete</td>\n",
       "      <td>2019-12-07 10:40:03</td>\n",
       "      <td>4</td>\n",
       "    </tr>\n",
       "  </tbody>\n",
       "</table>\n",
       "<p>1115 rows × 2 columns</p>\n",
       "</div>"
      ],
      "text/plain": [
       "                                                                datetime  \\\n",
       "session_id                           url                                   \n",
       "000d99d8-d2d4-4e9a-bb06-69b1ae6442d9 /product_detail 2019-12-01 12:06:39   \n",
       "0155049d-32e7-44de-9b0d-4c02f63d6099 /product_detail 2019-12-04 00:22:44   \n",
       "020d4536-1341-4de1-87d3-e22ba8611af6 /product_detail 2019-12-19 06:25:48   \n",
       "0381411a-78d8-4c27-9622-3210b7ed62d6 /product_detail 2019-12-05 05:09:32   \n",
       "06268108-6228-4237-ac1d-7927dd44273d /product_detail 2019-12-11 04:17:31   \n",
       "...                                                                  ...   \n",
       "ed374836-99eb-4e31-8b0d-40e39d38bd54 /order_complete 2019-12-08 03:42:01   \n",
       "ef2c3b91-b701-4d46-85ac-96607f0fccc1 /order_complete 2019-12-16 05:48:56   \n",
       "f25e918d-f47e-4704-a923-19f1e106f618 /order_complete 2019-12-18 07:36:20   \n",
       "f8010232-b6c0-4364-9e9a-f8cc88588ebb /order_complete 2019-12-06 12:30:47   \n",
       "f93ce85d-b7e6-4619-9756-6a7876a25520 /order_complete 2019-12-07 10:40:03   \n",
       "\n",
       "                                                      step_no  \n",
       "session_id                           url                       \n",
       "000d99d8-d2d4-4e9a-bb06-69b1ae6442d9 /product_detail        2  \n",
       "0155049d-32e7-44de-9b0d-4c02f63d6099 /product_detail        2  \n",
       "020d4536-1341-4de1-87d3-e22ba8611af6 /product_detail        2  \n",
       "0381411a-78d8-4c27-9622-3210b7ed62d6 /product_detail        2  \n",
       "06268108-6228-4237-ac1d-7927dd44273d /product_detail        2  \n",
       "...                                                       ...  \n",
       "ed374836-99eb-4e31-8b0d-40e39d38bd54 /order_complete        4  \n",
       "ef2c3b91-b701-4d46-85ac-96607f0fccc1 /order_complete        4  \n",
       "f25e918d-f47e-4704-a923-19f1e106f618 /order_complete        4  \n",
       "f8010232-b6c0-4364-9e9a-f8cc88588ebb /order_complete        4  \n",
       "f93ce85d-b7e6-4619-9756-6a7876a25520 /order_complete        4  \n",
       "\n",
       "[1115 rows x 2 columns]"
      ]
     },
     "execution_count": 17,
     "metadata": {},
     "output_type": "execute_result"
    }
   ],
   "source": [
    "grouped=logs.groupby(['session_id','url'])['datetime'].agg(np.min)\n",
    "grouped=pd.DataFrame(grouped).merge(funnel_steps,left_on='url',right_index=True)\n",
    "grouped"
   ]
  },
  {
   "cell_type": "markdown",
   "metadata": {},
   "source": [
    "#### 퍼널 테이블 생성\n",
    " - 각 퍼널의 스텝이 순서대로 columns으로 오도록 변경"
   ]
  },
  {
   "cell_type": "code",
   "execution_count": 20,
   "metadata": {},
   "outputs": [
    {
     "data": {
      "text/html": [
       "<div>\n",
       "<style scoped>\n",
       "    .dataframe tbody tr th:only-of-type {\n",
       "        vertical-align: middle;\n",
       "    }\n",
       "\n",
       "    .dataframe tbody tr th {\n",
       "        vertical-align: top;\n",
       "    }\n",
       "\n",
       "    .dataframe thead th {\n",
       "        text-align: right;\n",
       "    }\n",
       "</style>\n",
       "<table border=\"1\" class=\"dataframe\">\n",
       "  <thead>\n",
       "    <tr style=\"text-align: right;\">\n",
       "      <th></th>\n",
       "      <th>/product_list</th>\n",
       "      <th>/product_detail</th>\n",
       "      <th>/cart</th>\n",
       "      <th>/order_complete</th>\n",
       "    </tr>\n",
       "    <tr>\n",
       "      <th>session_id</th>\n",
       "      <th></th>\n",
       "      <th></th>\n",
       "      <th></th>\n",
       "      <th></th>\n",
       "    </tr>\n",
       "  </thead>\n",
       "  <tbody>\n",
       "    <tr>\n",
       "      <td>000d99d8-d2d4-4e9a-bb06-69b1ae6442d9</td>\n",
       "      <td>2019-12-01 11:52:32</td>\n",
       "      <td>2019-12-01 12:06:39</td>\n",
       "      <td>NaT</td>\n",
       "      <td>NaT</td>\n",
       "    </tr>\n",
       "    <tr>\n",
       "      <td>0155049d-32e7-44de-9b0d-4c02f63d6099</td>\n",
       "      <td>2019-12-04 00:12:47</td>\n",
       "      <td>2019-12-04 00:22:44</td>\n",
       "      <td>NaT</td>\n",
       "      <td>NaT</td>\n",
       "    </tr>\n",
       "    <tr>\n",
       "      <td>020d4536-1341-4de1-87d3-e22ba8611af6</td>\n",
       "      <td>2019-12-19 06:22:54</td>\n",
       "      <td>2019-12-19 06:25:48</td>\n",
       "      <td>2019-12-19 06:58:23</td>\n",
       "      <td>NaT</td>\n",
       "    </tr>\n",
       "    <tr>\n",
       "      <td>0381411a-78d8-4c27-9622-3210b7ed62d6</td>\n",
       "      <td>2019-12-05 04:48:34</td>\n",
       "      <td>2019-12-05 05:09:32</td>\n",
       "      <td>2019-12-05 05:35:16</td>\n",
       "      <td>NaT</td>\n",
       "    </tr>\n",
       "    <tr>\n",
       "      <td>06268108-6228-4237-ac1d-7927dd44273d</td>\n",
       "      <td>2019-12-11 04:15:46</td>\n",
       "      <td>2019-12-11 04:17:31</td>\n",
       "      <td>2019-12-11 04:45:05</td>\n",
       "      <td>NaT</td>\n",
       "    </tr>\n",
       "  </tbody>\n",
       "</table>\n",
       "</div>"
      ],
      "text/plain": [
       "                                           /product_list     /product_detail  \\\n",
       "session_id                                                                     \n",
       "000d99d8-d2d4-4e9a-bb06-69b1ae6442d9 2019-12-01 11:52:32 2019-12-01 12:06:39   \n",
       "0155049d-32e7-44de-9b0d-4c02f63d6099 2019-12-04 00:12:47 2019-12-04 00:22:44   \n",
       "020d4536-1341-4de1-87d3-e22ba8611af6 2019-12-19 06:22:54 2019-12-19 06:25:48   \n",
       "0381411a-78d8-4c27-9622-3210b7ed62d6 2019-12-05 04:48:34 2019-12-05 05:09:32   \n",
       "06268108-6228-4237-ac1d-7927dd44273d 2019-12-11 04:15:46 2019-12-11 04:17:31   \n",
       "\n",
       "                                                   /cart /order_complete  \n",
       "session_id                                                                \n",
       "000d99d8-d2d4-4e9a-bb06-69b1ae6442d9                 NaT             NaT  \n",
       "0155049d-32e7-44de-9b0d-4c02f63d6099                 NaT             NaT  \n",
       "020d4536-1341-4de1-87d3-e22ba8611af6 2019-12-19 06:58:23             NaT  \n",
       "0381411a-78d8-4c27-9622-3210b7ed62d6 2019-12-05 05:35:16             NaT  \n",
       "06268108-6228-4237-ac1d-7927dd44273d 2019-12-11 04:45:05             NaT  "
      ]
     },
     "execution_count": 20,
     "metadata": {},
     "output_type": "execute_result"
    }
   ],
   "source": [
    "funnel=grouped.reset_index().pivot(index='session_id',columns='step_no',values='datetime')\n",
    "\n",
    "funnel.columns=funnel_steps.index\n",
    "\n",
    "funnel.head()"
   ]
  },
  {
   "cell_type": "markdown",
   "metadata": {},
   "source": [
    "#### 퍼널 카운트 계산\n",
    " - 각 퍼널 스텝별 카운트 계산"
   ]
  },
  {
   "cell_type": "code",
   "execution_count": 22,
   "metadata": {},
   "outputs": [
    {
     "data": {
      "text/plain": [
       "[419, 351, 261, 84]"
      ]
     },
     "execution_count": 22,
     "metadata": {},
     "output_type": "execute_result"
    }
   ],
   "source": [
    "\n",
    "step_values=[funnel[index].notnull().sum() for index in funnel_steps.index]\n",
    "step_values"
   ]
  },
  {
   "cell_type": "markdown",
   "metadata": {},
   "source": [
    "#### 평균 시간 계산\n",
    " - 각 퍼널별 소요 시간 계산"
   ]
  },
  {
   "cell_type": "code",
   "execution_count": 23,
   "metadata": {},
   "outputs": [],
   "source": [
    "def show_funnel(funnel_values,funnel_steps):\n",
    "    from plotly import graph_objects as go\n",
    "    \n",
    "    \n",
    "    fig=go.Figure(go.Funnel(\n",
    "        y=funnel_steps,\n",
    "        x=funnel_values\n",
    "    ))\n",
    "    \n",
    "    fig.show()\n",
    "    \n",
    "    \n",
    "    \n",
    "    \n",
    "    \n",
    "    \n",
    "    \n",
    "    "
   ]
  },
  {
   "cell_type": "code",
   "execution_count": 24,
   "metadata": {},
   "outputs": [
    {
     "ename": "ModuleNotFoundError",
     "evalue": "No module named 'plotly'",
     "output_type": "error",
     "traceback": [
      "\u001b[0;31m---------------------------------------------------------------------------\u001b[0m",
      "\u001b[0;31mModuleNotFoundError\u001b[0m                       Traceback (most recent call last)",
      "\u001b[0;32m<ipython-input-24-5d93b7b5da56>\u001b[0m in \u001b[0;36m<module>\u001b[0;34m\u001b[0m\n\u001b[0;32m----> 1\u001b[0;31m \u001b[0mshow_funnel\u001b[0m\u001b[0;34m(\u001b[0m\u001b[0mstep_values\u001b[0m\u001b[0;34m,\u001b[0m\u001b[0mfunnel_steps\u001b[0m\u001b[0;34m.\u001b[0m\u001b[0mindex\u001b[0m\u001b[0;34m)\u001b[0m\u001b[0;34m\u001b[0m\u001b[0;34m\u001b[0m\u001b[0m\n\u001b[0m",
      "\u001b[0;32m<ipython-input-23-df7a81926e19>\u001b[0m in \u001b[0;36mshow_funnel\u001b[0;34m(funnel_values, funnel_steps)\u001b[0m\n\u001b[1;32m      1\u001b[0m \u001b[0;32mdef\u001b[0m \u001b[0mshow_funnel\u001b[0m\u001b[0;34m(\u001b[0m\u001b[0mfunnel_values\u001b[0m\u001b[0;34m,\u001b[0m\u001b[0mfunnel_steps\u001b[0m\u001b[0;34m)\u001b[0m\u001b[0;34m:\u001b[0m\u001b[0;34m\u001b[0m\u001b[0;34m\u001b[0m\u001b[0m\n\u001b[0;32m----> 2\u001b[0;31m     \u001b[0;32mfrom\u001b[0m \u001b[0mplotly\u001b[0m \u001b[0;32mimport\u001b[0m \u001b[0mgraph_objects\u001b[0m \u001b[0;32mas\u001b[0m \u001b[0mgo\u001b[0m\u001b[0;34m\u001b[0m\u001b[0;34m\u001b[0m\u001b[0m\n\u001b[0m\u001b[1;32m      3\u001b[0m \u001b[0;34m\u001b[0m\u001b[0m\n\u001b[1;32m      4\u001b[0m \u001b[0;34m\u001b[0m\u001b[0m\n\u001b[1;32m      5\u001b[0m     fig=go.Figure(go.Funnel(\n",
      "\u001b[0;31mModuleNotFoundError\u001b[0m: No module named 'plotly'"
     ]
    }
   ],
   "source": [
    "show_funnel(step_values,funnel_steps.index)"
   ]
  },
  {
   "cell_type": "code",
   "execution_count": null,
   "metadata": {},
   "outputs": [],
   "source": []
  }
 ],
 "metadata": {
  "kernelspec": {
   "display_name": "Python 3",
   "language": "python",
   "name": "python3"
  },
  "language_info": {
   "codemirror_mode": {
    "name": "ipython",
    "version": 3
   },
   "file_extension": ".py",
   "mimetype": "text/x-python",
   "name": "python",
   "nbconvert_exporter": "python",
   "pygments_lexer": "ipython3",
   "version": "3.7.4"
  }
 },
 "nbformat": 4,
 "nbformat_minor": 2
}
