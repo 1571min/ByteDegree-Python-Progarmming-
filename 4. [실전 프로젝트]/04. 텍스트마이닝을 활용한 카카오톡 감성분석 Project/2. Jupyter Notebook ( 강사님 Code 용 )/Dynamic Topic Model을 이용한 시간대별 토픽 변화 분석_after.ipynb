{
 "cells": [
  {
   "cell_type": "markdown",
   "metadata": {},
   "source": [
    "# LDA에서 Dynamic Topic Model"
   ]
  },
  {
   "cell_type": "markdown",
   "metadata": {},
   "source": [
    "<img src=\"figs/dtm_fig.png\">"
   ]
  },
  {
   "cell_type": "markdown",
   "metadata": {},
   "source": [
    "* LDA를 time slice 단위로 여러개를 붙인 형태\n",
    "* 토픽 분포에 해당하는 파라미터인 Beta값을 time slice가 넘어갈때 넘겨주는 것으로 시간대별 토픽 분포를 반영하게 함"
   ]
  },
  {
   "cell_type": "markdown",
   "metadata": {},
   "source": [
    "<img src=\"figs/dtm_fig2.png\">"
   ]
  },
  {
   "cell_type": "markdown",
   "metadata": {},
   "source": [
    "### 1. 대화내용 불러오기"
   ]
  },
  {
   "cell_type": "code",
   "execution_count": 1,
   "metadata": {},
   "outputs": [],
   "source": [
    "import pandas as pd\n",
    "import numpy as np\n",
    "import pickle\n",
    "from pprint import pprint\n",
    "import re"
   ]
  },
  {
   "cell_type": "code",
   "execution_count": 2,
   "metadata": {},
   "outputs": [
    {
     "name": "stdout",
     "output_type": "stream",
     "text": [
      "               Date User            Message\n",
      "0  2017/01/01 20:32   무지  이거보면 왜 갓창정인지 알게된다\n",
      "1  2017/01/01 21:40  어피치                창정헌\n",
      "2  2017/01/01 22:19  어피치   라이언은 내일부터 연구실 출근\n",
      "3  2017/01/01 22:20   무지          파티 하는거 아님\n",
      "4  2017/01/01 22:39  프로도                헬파티\n",
      "<class 'pandas.core.frame.DataFrame'>\n",
      "RangeIndex: 162861 entries, 0 to 162860\n",
      "Data columns (total 3 columns):\n",
      "Date       162861 non-null object\n",
      "User       162861 non-null object\n",
      "Message    162861 non-null object\n",
      "dtypes: object(3)\n",
      "memory usage: 3.7+ MB\n",
      "None\n"
     ]
    }
   ],
   "source": [
    "with open(\"data/cleaned_data.pk\", \"rb\") as f:\n",
    "    data = pickle.load(f)\n",
    "\n",
    "data.reset_index(drop=True, inplace=True)\n",
    "print(data.head())\n",
    "print(data.info())"
   ]
  },
  {
   "cell_type": "markdown",
   "metadata": {},
   "source": [
    "### 2. 분석시기 설정하기"
   ]
  },
  {
   "cell_type": "code",
   "execution_count": 3,
   "metadata": {},
   "outputs": [
    {
     "data": {
      "text/html": [
       "<div>\n",
       "<style scoped>\n",
       "    .dataframe tbody tr th:only-of-type {\n",
       "        vertical-align: middle;\n",
       "    }\n",
       "\n",
       "    .dataframe tbody tr th {\n",
       "        vertical-align: top;\n",
       "    }\n",
       "\n",
       "    .dataframe thead th {\n",
       "        text-align: right;\n",
       "    }\n",
       "</style>\n",
       "<table border=\"1\" class=\"dataframe\">\n",
       "  <thead>\n",
       "    <tr style=\"text-align: right;\">\n",
       "      <th></th>\n",
       "      <th>User</th>\n",
       "      <th>Message</th>\n",
       "    </tr>\n",
       "    <tr>\n",
       "      <th>Date</th>\n",
       "      <th></th>\n",
       "      <th></th>\n",
       "    </tr>\n",
       "  </thead>\n",
       "  <tbody>\n",
       "    <tr>\n",
       "      <th>2017-01-01 20:32:00</th>\n",
       "      <td>무지</td>\n",
       "      <td>이거보면 왜 갓창정인지 알게된다</td>\n",
       "    </tr>\n",
       "    <tr>\n",
       "      <th>2017-01-01 21:40:00</th>\n",
       "      <td>어피치</td>\n",
       "      <td>창정헌</td>\n",
       "    </tr>\n",
       "    <tr>\n",
       "      <th>2017-01-01 22:19:00</th>\n",
       "      <td>어피치</td>\n",
       "      <td>라이언은 내일부터 연구실 출근</td>\n",
       "    </tr>\n",
       "    <tr>\n",
       "      <th>2017-01-01 22:20:00</th>\n",
       "      <td>무지</td>\n",
       "      <td>파티 하는거 아님</td>\n",
       "    </tr>\n",
       "    <tr>\n",
       "      <th>2017-01-01 22:39:00</th>\n",
       "      <td>프로도</td>\n",
       "      <td>헬파티</td>\n",
       "    </tr>\n",
       "  </tbody>\n",
       "</table>\n",
       "</div>"
      ],
      "text/plain": [
       "                    User            Message\n",
       "Date                                       \n",
       "2017-01-01 20:32:00   무지  이거보면 왜 갓창정인지 알게된다\n",
       "2017-01-01 21:40:00  어피치                창정헌\n",
       "2017-01-01 22:19:00  어피치   라이언은 내일부터 연구실 출근\n",
       "2017-01-01 22:20:00   무지          파티 하는거 아님\n",
       "2017-01-01 22:39:00  프로도                헬파티"
      ]
     },
     "execution_count": 3,
     "metadata": {},
     "output_type": "execute_result"
    }
   ],
   "source": [
    "# 시간정보 열 datetime 정보로 변환\n",
    "data['Date'] = pd.to_datetime(data['Date'])\n",
    "# 인덱스 넣기\n",
    "data = data.set_index('Date')\n",
    "data.head()"
   ]
  },
  {
   "cell_type": "markdown",
   "metadata": {},
   "source": [
    "#### 연도별 대화내용 분리 (DTM 분석을 위해)"
   ]
  },
  {
   "cell_type": "code",
   "execution_count": 4,
   "metadata": {},
   "outputs": [],
   "source": [
    "# 지정된 시기별로 분리\n",
    "year2017 = data['2017-01-01' : '2017-12-31']\n",
    "year2018 = data['2018-01-01' : '2018-12-31']\n",
    "year2019 = data['2019-01-01' : '2019-12-31']"
   ]
  },
  {
   "cell_type": "code",
   "execution_count": 5,
   "metadata": {},
   "outputs": [
    {
     "name": "stdout",
     "output_type": "stream",
     "text": [
      "                    User            Message\n",
      "Date                                       \n",
      "2017-01-01 20:32:00   무지  이거보면 왜 갓창정인지 알게된다\n",
      "2017-01-01 21:40:00  어피치                창정헌\n",
      "2017-01-01 22:19:00  어피치   라이언은 내일부터 연구실 출근\n",
      "2017-01-01 22:20:00   무지          파티 하는거 아님\n",
      "2017-01-01 22:39:00  프로도                헬파티\n",
      "                    User             Message\n",
      "Date                                        \n",
      "2018-01-01 00:04:00   무지         새해복 마니받으시게나\n",
      "2018-01-01 00:05:00  어피치        새해복 많이 받으시오들\n",
      "2018-01-01 00:06:00   튜브                 들어오\n",
      "2018-01-01 00:07:00   튜브  12시 00에 딱 초코의몽을 삿다\n",
      "2018-01-01 00:07:00   무지                   곧\n",
      "                    User    Message\n",
      "Date                               \n",
      "2019-01-01 00:02:00  프로도  쉬발럼들 사랑한다\n",
      "2019-01-01 00:02:00   무지       사랑한다\n",
      "2019-01-01 00:02:00   무지      내 친구들\n",
      "2019-01-01 00:02:00   무지        고맙다\n",
      "2019-01-01 00:02:00   무지  새해도 잘 부탁해\n"
     ]
    }
   ],
   "source": [
    "print(year2017.head())\n",
    "print(year2018.head())\n",
    "print(year2019.head())"
   ]
  },
  {
   "cell_type": "code",
   "execution_count": 6,
   "metadata": {},
   "outputs": [
    {
     "name": "stdout",
     "output_type": "stream",
     "text": [
      "<class 'pandas.core.frame.DataFrame'>\n",
      "DatetimeIndex: 92998 entries, 2017-01-01 20:32:00 to 2017-12-31 23:41:00\n",
      "Data columns (total 2 columns):\n",
      "User       92998 non-null object\n",
      "Message    92998 non-null object\n",
      "dtypes: object(2)\n",
      "memory usage: 2.1+ MB\n",
      "None\n",
      "<class 'pandas.core.frame.DataFrame'>\n",
      "DatetimeIndex: 52570 entries, 2018-01-01 00:04:00 to 2018-12-31 23:54:00\n",
      "Data columns (total 2 columns):\n",
      "User       52570 non-null object\n",
      "Message    52570 non-null object\n",
      "dtypes: object(2)\n",
      "memory usage: 1.2+ MB\n",
      "None\n",
      "<class 'pandas.core.frame.DataFrame'>\n",
      "DatetimeIndex: 17293 entries, 2019-01-01 00:02:00 to 2019-10-14 19:44:00\n",
      "Data columns (total 2 columns):\n",
      "User       17293 non-null object\n",
      "Message    17293 non-null object\n",
      "dtypes: object(2)\n",
      "memory usage: 405.3+ KB\n",
      "None\n"
     ]
    }
   ],
   "source": [
    "print(year2017.info())\n",
    "print(year2018.info())\n",
    "print(year2019.info())"
   ]
  },
  {
   "cell_type": "markdown",
   "metadata": {},
   "source": [
    "##### 시기별로 나눠서 데이터 저장하기"
   ]
  },
  {
   "cell_type": "code",
   "execution_count": 7,
   "metadata": {},
   "outputs": [],
   "source": [
    "# time_slice별로 데이터 갯수를 저장할 리스트 생성\n",
    "time_slice = []\n",
    "\n",
    "# 시기별 데이터 가져오기\n",
    "slice0 = list(year2017['Message'])\n",
    "slice1 = list(year2018['Message'])\n",
    "slice2 = list(year2019['Message'])\n",
    "\n",
    "# LDA 분석할 때와 비슷하게 모든 분석 대상 텍스트를 담는 리스트 생성\n",
    "tokenized_data = [msg.split() for msg in (slice0 + slice1 + slice2)]\n",
    "\n",
    "# 각 slice에 들어 있는 갯수를 원소로 갖는 리스트 생성\n",
    "time_slice.append(len(slice0))\n",
    "time_slice.append(len(slice1))\n",
    "time_slice.append(len(slice2))"
   ]
  },
  {
   "cell_type": "code",
   "execution_count": 8,
   "metadata": {},
   "outputs": [
    {
     "name": "stdout",
     "output_type": "stream",
     "text": [
      "162861\n",
      "[92998, 52570, 17293]\n",
      "['이거보면 왜 갓창정인지 알게된다', '창정헌', '라이언은 내일부터 연구실 출근', '파티 하는거 아님', '헬파티']\n",
      "['새해복 마니받으시게나', '새해복 많이 받으시오들', '들어오', '12시 00에 딱 초코의몽을 삿다', '곧']\n",
      "['쉬발럼들 사랑한다', '사랑한다', '내 친구들', '고맙다', '새해도 잘 부탁해']\n",
      "[['이거보면', '왜', '갓창정인지', '알게된다'],\n",
      " ['창정헌'],\n",
      " ['라이언은', '내일부터', '연구실', '출근'],\n",
      " ['파티', '하는거', '아님'],\n",
      " ['헬파티']]\n"
     ]
    }
   ],
   "source": [
    "print(len(tokenized_data))\n",
    "print(time_slice)\n",
    "print(slice0[:5])\n",
    "print(slice1[:5])\n",
    "print(slice2[:5])\n",
    "pprint(tokenized_data[:5])"
   ]
  },
  {
   "cell_type": "markdown",
   "metadata": {},
   "source": [
    "### 3. Dynamic Topic Model 돌리기"
   ]
  },
  {
   "cell_type": "code",
   "execution_count": 9,
   "metadata": {},
   "outputs": [],
   "source": [
    "from gensim.models import ldaseqmodel\n",
    "from gensim.models import CoherenceModel\n",
    "from gensim.corpora import Dictionary, bleicorpus\n",
    "from gensim.matutils import hellinger\n",
    "from gensim import corpora\n",
    "from tqdm import tqdm_notebook\n",
    "from time import time\n",
    "\n",
    "import os"
   ]
  },
  {
   "cell_type": "markdown",
   "metadata": {},
   "source": [
    "#### dictionary와 corpus 만들기"
   ]
  },
  {
   "cell_type": "code",
   "execution_count": 10,
   "metadata": {},
   "outputs": [],
   "source": [
    "# DTM dictionary 저장.\n",
    "if not os.path.exists('kakao(DTM)_dict'):\n",
    "    dictionary = corpora.Dictionary(tokenized_data)\n",
    "    dictionary.save('kakao(DTM)_dict')\n",
    "    print(dictionary)\n",
    "else:\n",
    "    dictionary = Dictionary.load('kakao(DTM)_dict')\n",
    "\n",
    "# DTM Corpus 저장.\n",
    "if not os.path.exists('kakao(DTM)_corpus'):\n",
    "    corpus = [dictionary.doc2bow(doc) for doc in tokenized_data]\n",
    "    corpora.BleiCorpus.serialize('kakao(DTM)_corpus', corpus)\n",
    "else:\n",
    "    corpus = bleicorpus.BleiCorpus('kakao(DTM)_corpus')"
   ]
  },
  {
   "cell_type": "markdown",
   "metadata": {},
   "source": [
    "### Run DTM model "
   ]
  },
  {
   "cell_type": "code",
   "execution_count": 13,
   "metadata": {},
   "outputs": [],
   "source": [
    "# 주의! 매우매우매우 오래걸릴지도 모릅니다... 시간과 여유가 있을때 해보세요!\n",
    "NUM_TOPICS = 4\n",
    "\n",
    "if not os.path.exists('kakao(DTM)_model'):\n",
    "    dtm_model = ldaseqmodel.LdaSeqModel(corpus=corpus, id2word=dictionary, time_slice=time_slice, num_topics=NUM_TOPICS, passes=10)\n",
    "    dtm_model.save('kakao(DTM)_model')\n",
    "else:\n",
    "    dtm_model = ldaseqmodel.LdaSeqModel.load('kakao(DTM)_model')"
   ]
  },
  {
   "cell_type": "markdown",
   "metadata": {},
   "source": [
    "##### DTM 결과 보기"
   ]
  },
  {
   "cell_type": "code",
   "execution_count": 15,
   "metadata": {},
   "outputs": [
    {
     "name": "stdout",
     "output_type": "stream",
     "text": [
      "[[('굿', 0.05831850538739241),\n",
      "  ('지금', 0.012331524778776757),\n",
      "  ('오', 0.0122166677634343),\n",
      "  ('역시', 0.010455539788893783),\n",
      "  ('내일', 0.009190718899343277),\n",
      "  ('이미', 0.008990207437333388),\n",
      "  ('왜', 0.007369435495622992),\n",
      "  ('낼', 0.005757033715288104),\n",
      "  ('야', 0.0051241059091660665),\n",
      "  ('아직', 0.004872538898427595)],\n",
      " [('핳', 0.03620256743725127),\n",
      "  ('그럼', 0.017891407390810514),\n",
      "  ('나', 0.014458865122934468),\n",
      "  ('나도', 0.01339997787202228),\n",
      "  ('걍', 0.012045925968074068),\n",
      "  ('닥쳐', 0.011429731540920987),\n",
      "  ('나는', 0.009952254204843707),\n",
      "  ('핳핳', 0.009887808067018595),\n",
      "  ('뭐', 0.009682205321122319),\n",
      "  ('Search', 0.008825802051635289)],\n",
      " [('아', 0.02210906965432367),\n",
      "  ('난', 0.011473428499934674),\n",
      "  ('음', 0.009178877503758395),\n",
      "  ('오늘', 0.008736621924946206),\n",
      "  ('일단', 0.007706724944217089),\n",
      "  ('다', 0.006729730613141478),\n",
      "  ('그냥', 0.006459893475380204),\n",
      "  ('솬', 0.004414683249180747),\n",
      "  ('흑', 0.00408539709200058),\n",
      "  ('너무', 0.003937975344398072)],\n",
      " [('프로도', 0.018715752188847568),\n",
      "  ('근데', 0.017351680689982794),\n",
      "  ('내가', 0.014828991758476632),\n",
      "  ('굳', 0.013596512561108486),\n",
      "  ('라이언', 0.0134231446121883),\n",
      "  ('이제', 0.012495109540412786),\n",
      "  ('어피치', 0.010511910116544046),\n",
      "  ('좀', 0.010166326283997454),\n",
      "  ('아님', 0.009585254109186344),\n",
      "  ('더', 0.008658745448605341)]]\n"
     ]
    }
   ],
   "source": [
    "# 고정된 시간 내에서 전체 토픽보기\n",
    "pprint(dtm_model.print_topics(time=1, top_terms=10)) "
   ]
  },
  {
   "cell_type": "code",
   "execution_count": null,
   "metadata": {},
   "outputs": [],
   "source": []
  }
 ],
 "metadata": {
  "kernelspec": {
   "display_name": "Python 3",
   "language": "python",
   "name": "python3"
  },
  "language_info": {
   "codemirror_mode": {
    "name": "ipython",
    "version": 3
   },
   "file_extension": ".py",
   "mimetype": "text/x-python",
   "name": "python",
   "nbconvert_exporter": "python",
   "pygments_lexer": "ipython3",
   "version": "3.6.7"
  }
 },
 "nbformat": 4,
 "nbformat_minor": 2
}
