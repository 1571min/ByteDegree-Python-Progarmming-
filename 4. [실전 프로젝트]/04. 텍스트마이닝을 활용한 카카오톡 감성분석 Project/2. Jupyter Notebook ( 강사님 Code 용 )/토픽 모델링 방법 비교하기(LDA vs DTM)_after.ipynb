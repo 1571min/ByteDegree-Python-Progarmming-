{
 "cells": [
  {
   "cell_type": "markdown",
   "metadata": {},
   "source": [
    "### 0. 비교분석을 위해 LDA model 만들기."
   ]
  },
  {
   "cell_type": "code",
   "execution_count": 1,
   "metadata": {},
   "outputs": [],
   "source": [
    "import pandas as pd\n",
    "import numpy as np\n",
    "import pickle\n",
    "from pprint import pprint\n",
    "import re"
   ]
  },
  {
   "cell_type": "code",
   "execution_count": 2,
   "metadata": {},
   "outputs": [
    {
     "name": "stdout",
     "output_type": "stream",
     "text": [
      "               Date User            Message\n",
      "0  2017/01/01 20:32   무지  이거보면 왜 갓창정인지 알게된다\n",
      "1  2017/01/01 21:40  어피치                창정헌\n",
      "2  2017/01/01 22:19  어피치   라이언은 내일부터 연구실 출근\n",
      "3  2017/01/01 22:20   무지          파티 하는거 아님\n",
      "4  2017/01/01 22:39  프로도                헬파티\n",
      "<class 'pandas.core.frame.DataFrame'>\n",
      "RangeIndex: 162861 entries, 0 to 162860\n",
      "Data columns (total 3 columns):\n",
      "Date       162861 non-null object\n",
      "User       162861 non-null object\n",
      "Message    162861 non-null object\n",
      "dtypes: object(3)\n",
      "memory usage: 3.7+ MB\n",
      "None\n"
     ]
    }
   ],
   "source": [
    "with open(\"data/cleaned_data.pk\", \"rb\") as f:\n",
    "    data = pickle.load(f)\n",
    "\n",
    "data.reset_index(drop=True, inplace=True)\n",
    "print(data.head())\n",
    "print(data.info())"
   ]
  },
  {
   "cell_type": "markdown",
   "metadata": {},
   "source": [
    "### 2. 초록 없는 데이터 제거  및 분석시기 설정하기"
   ]
  },
  {
   "cell_type": "code",
   "execution_count": 3,
   "metadata": {},
   "outputs": [
    {
     "data": {
      "text/html": [
       "<div>\n",
       "<style scoped>\n",
       "    .dataframe tbody tr th:only-of-type {\n",
       "        vertical-align: middle;\n",
       "    }\n",
       "\n",
       "    .dataframe tbody tr th {\n",
       "        vertical-align: top;\n",
       "    }\n",
       "\n",
       "    .dataframe thead th {\n",
       "        text-align: right;\n",
       "    }\n",
       "</style>\n",
       "<table border=\"1\" class=\"dataframe\">\n",
       "  <thead>\n",
       "    <tr style=\"text-align: right;\">\n",
       "      <th></th>\n",
       "      <th>User</th>\n",
       "      <th>Message</th>\n",
       "    </tr>\n",
       "    <tr>\n",
       "      <th>Date</th>\n",
       "      <th></th>\n",
       "      <th></th>\n",
       "    </tr>\n",
       "  </thead>\n",
       "  <tbody>\n",
       "    <tr>\n",
       "      <th>2017-01-01 20:32:00</th>\n",
       "      <td>무지</td>\n",
       "      <td>이거보면 왜 갓창정인지 알게된다</td>\n",
       "    </tr>\n",
       "    <tr>\n",
       "      <th>2017-01-01 21:40:00</th>\n",
       "      <td>어피치</td>\n",
       "      <td>창정헌</td>\n",
       "    </tr>\n",
       "    <tr>\n",
       "      <th>2017-01-01 22:19:00</th>\n",
       "      <td>어피치</td>\n",
       "      <td>라이언은 내일부터 연구실 출근</td>\n",
       "    </tr>\n",
       "    <tr>\n",
       "      <th>2017-01-01 22:20:00</th>\n",
       "      <td>무지</td>\n",
       "      <td>파티 하는거 아님</td>\n",
       "    </tr>\n",
       "    <tr>\n",
       "      <th>2017-01-01 22:39:00</th>\n",
       "      <td>프로도</td>\n",
       "      <td>헬파티</td>\n",
       "    </tr>\n",
       "  </tbody>\n",
       "</table>\n",
       "</div>"
      ],
      "text/plain": [
       "                    User            Message\n",
       "Date                                       \n",
       "2017-01-01 20:32:00   무지  이거보면 왜 갓창정인지 알게된다\n",
       "2017-01-01 21:40:00  어피치                창정헌\n",
       "2017-01-01 22:19:00  어피치   라이언은 내일부터 연구실 출근\n",
       "2017-01-01 22:20:00   무지          파티 하는거 아님\n",
       "2017-01-01 22:39:00  프로도                헬파티"
      ]
     },
     "execution_count": 3,
     "metadata": {},
     "output_type": "execute_result"
    }
   ],
   "source": [
    "# 시간정보 열 datetime 정보로 변환\n",
    "data['Date'] = pd.to_datetime(data['Date'])\n",
    "# 인덱스 넣기\n",
    "data = data.set_index('Date')\n",
    "data.head()"
   ]
  },
  {
   "cell_type": "code",
   "execution_count": 5,
   "metadata": {},
   "outputs": [
    {
     "name": "stdout",
     "output_type": "stream",
     "text": [
      "[['쉬발럼들', '사랑한다'], ['사랑한다'], ['내', '친구들'], ['고맙다'], ['새해도', '잘', '부탁해'], ['이런', '야한', '녀석들'], ['새해복', '많이', '받으시게들'], ['다들', '새해복', '많이받아'], ['러운녀석들'], ['아잉❤️']]\n",
      "17293\n"
     ]
    }
   ],
   "source": [
    "year2019 = data['2019-01-01' : '2019-12-31']\n",
    "slice2 = list(year2019[\"Message\"])\n",
    "\n",
    "tokenized_data = [msg.split() for msg in slice2]\n",
    "print(tokenized_data[:10])\n",
    "print(len(tokenized_data))"
   ]
  },
  {
   "cell_type": "markdown",
   "metadata": {},
   "source": [
    "### 3. LDA & Dynamic Topic Model 돌리기"
   ]
  },
  {
   "cell_type": "code",
   "execution_count": 6,
   "metadata": {},
   "outputs": [],
   "source": [
    "from gensim.models import ldamodel\n",
    "from gensim.models import ldaseqmodel\n",
    "from gensim.models import CoherenceModel\n",
    "from gensim.corpora import Dictionary, bleicorpus\n",
    "from gensim.matutils import hellinger\n",
    "from gensim import corpora\n",
    "from tqdm import tqdm_notebook\n",
    "from time import time\n",
    "\n",
    "import os"
   ]
  },
  {
   "cell_type": "markdown",
   "metadata": {},
   "source": [
    "##### dictionary와 doc2bow 만들기 ( LDA에서 2019년도 것만 사용)"
   ]
  },
  {
   "cell_type": "code",
   "execution_count": 7,
   "metadata": {},
   "outputs": [
    {
     "name": "stdout",
     "output_type": "stream",
     "text": [
      "Dictionary(18219 unique tokens: ['사랑한다', '쉬발럼들', '내', '친구들', '고맙다']...)\n"
     ]
    }
   ],
   "source": [
    "# Create Dictionary\n",
    "if not os.path.exists('kakao(LDA)_dict'):\n",
    "    dictionary = corpora.Dictionary(tokenized_data)\n",
    "    #dictionary.filter_extremes(no_below=5, no_above=500)  # 이 줄의 코드는 n회 미만 또는 n회 이상을 지울 때 사용\n",
    "    dictionary.save('kakao(LDA)_dict')\n",
    "    print(dictionary)\n",
    "else:\n",
    "    dictionary = Dictionary.load('kakao(LDA)_dict')\n",
    "\n",
    "# Term Document Frequency (convert tokenized documents into a Document-Term Matrix)    \n",
    "if not os.path.exists('kakao(LDA)_corpus'):\n",
    "    corpus = [dictionary.doc2bow(doc) for doc in tokenized_data]\n",
    "    corpora.BleiCorpus.serialize('kakao(LDA)_corpus', corpus)\n",
    "else:\n",
    "    corpus = bleicorpus.BleiCorpus('kakao(LDA)_corpus')"
   ]
  },
  {
   "cell_type": "markdown",
   "metadata": {},
   "source": [
    "##### Run LDA model "
   ]
  },
  {
   "cell_type": "code",
   "execution_count": 8,
   "metadata": {},
   "outputs": [],
   "source": [
    "# DTM 분석에서 best topic으로 나온 결과를 비교하기 위해 같은 토픽 수로 설정.\n",
    "NUM_TOPICS = 8\n",
    "\n",
    "if not os.path.exists('kakao(LDA)_model'):\n",
    "    lda_model = ldamodel.LdaModel(corpus=corpus, id2word=dictionary, num_topics=NUM_TOPICS, passes=100)\n",
    "    lda_model.save('kakao(LDA)_model')\n",
    "else:\n",
    "    lda_model = ldamodel.LdaModel.load('kakao(LDA)_model')"
   ]
  },
  {
   "cell_type": "markdown",
   "metadata": {},
   "source": [
    "##### Run DTM Model"
   ]
  },
  {
   "cell_type": "code",
   "execution_count": 9,
   "metadata": {},
   "outputs": [],
   "source": [
    "# DTM 분석에서 best topic으로 나온 결과를 비교하기 위해 같은 토픽 수로 설정.\n",
    "NUM_TOPICS = 8\n",
    "\n",
    "dtm_model = ldaseqmodel.LdaSeqModel.load('kakao_dtm_model_8')"
   ]
  },
  {
   "cell_type": "markdown",
   "metadata": {},
   "source": [
    "##### LDA와 DTM 결과 비교해보기"
   ]
  },
  {
   "cell_type": "code",
   "execution_count": 19,
   "metadata": {},
   "outputs": [
    {
     "data": {
      "text/plain": [
       "[('프로도', 0.025016394),\n",
       " ('라이언', 0.019759238),\n",
       " ('일단', 0.0156757),\n",
       " ('닥쳐', 0.011239312),\n",
       " ('그래서', 0.010288102),\n",
       " ('아하', 0.007924918),\n",
       " ('그건', 0.0067233886),\n",
       " ('튜브', 0.0064142654),\n",
       " ('우리', 0.00595636),\n",
       " ('님들', 0.0049880818),\n",
       " ('솬', 0.004521181),\n",
       " ('집', 0.0034133708),\n",
       " ('갑자기', 0.003284215),\n",
       " ('빨리', 0.0030154504),\n",
       " ('수', 0.0029218711),\n",
       " ('간다', 0.0026682992),\n",
       " ('별로', 0.0026194502),\n",
       " ('옵치', 0.0024399178),\n",
       " ('어떰', 0.0023682115),\n",
       " ('가는중', 0.002226242)]"
      ]
     },
     "execution_count": 19,
     "metadata": {},
     "output_type": "execute_result"
    }
   ],
   "source": [
    "lda_model.show_topic(topicid=0, topn=20)"
   ]
  },
  {
   "cell_type": "code",
   "execution_count": 21,
   "metadata": {
    "scrolled": false
   },
   "outputs": [
    {
     "data": {
      "text/plain": [
       "[('프로도', 0.03743823347924715),\n",
       " ('일단', 0.02614912548859356),\n",
       " ('다', 0.021407730619530767),\n",
       " ('프로도이', 0.01655230706806371),\n",
       " ('왜', 0.012999740607673945),\n",
       " ('후발', 0.012260384305229641),\n",
       " ('굿굿', 0.011315881246272213),\n",
       " ('아직', 0.008662723907897043),\n",
       " ('그래도', 0.008073826159202328),\n",
       " ('다들', 0.0077730104050908215),\n",
       " ('오늘은', 0.0074753942620117975),\n",
       " ('바로', 0.007034148094741422),\n",
       " ('가서', 0.006187572101185384),\n",
       " ('호우', 0.004591488235196132),\n",
       " ('이건', 0.004348428069662819),\n",
       " ('지노', 0.0040450108480990345),\n",
       " ('밥', 0.003856723259264248),\n",
       " ('사람', 0.0035409107611706573),\n",
       " ('혼자', 0.003459779520189684),\n",
       " ('무지', 0.002961536165195683)]"
      ]
     },
     "execution_count": 21,
     "metadata": {},
     "output_type": "execute_result"
    }
   ],
   "source": [
    "dtm_model.print_topic(topic=0, time=2, top_terms=20)"
   ]
  },
  {
   "cell_type": "markdown",
   "metadata": {},
   "source": [
    "##### coherence score 계산 비교"
   ]
  },
  {
   "cell_type": "code",
   "execution_count": 31,
   "metadata": {},
   "outputs": [],
   "source": [
    "dtm_corpus = corpus = bleicorpus.BleiCorpus('kakao(DTM)_corpus')\n",
    "dtm_dictionary = Dictionary.load('kakao(DTM)_dict')\n",
    "processing_data = [msg.split() for msg in data['Message']]"
   ]
  },
  {
   "cell_type": "code",
   "execution_count": 34,
   "metadata": {},
   "outputs": [],
   "source": [
    "lda_cs = CoherenceModel(model=lda_model, texts=tokenized_data, corpus=corpus, dictionary=dictionary,\n",
    "                        coherence='c_v').get_coherence()\n",
    "\n",
    "\n",
    "\n",
    "topics_dtm = dtm_model.dtm_coherence(time=2)        \n",
    "dtm_cs = CoherenceModel(topics=topics_dtm, texts=processing_data, corpus=dtm_corpus,\n",
    "                        dictionary=dtm_dictionary, coherence='c_v').get_coherence()"
   ]
  },
  {
   "cell_type": "code",
   "execution_count": 35,
   "metadata": {},
   "outputs": [
    {
     "data": {
      "text/plain": [
       "(0.7743403306495791, 0.6902980469748023)"
      ]
     },
     "execution_count": 35,
     "metadata": {},
     "output_type": "execute_result"
    }
   ],
   "source": [
    "lda_cs, dtm_cs"
   ]
  },
  {
   "cell_type": "code",
   "execution_count": null,
   "metadata": {},
   "outputs": [],
   "source": []
  }
 ],
 "metadata": {
  "kernelspec": {
   "display_name": "Python 3",
   "language": "python",
   "name": "python3"
  },
  "language_info": {
   "codemirror_mode": {
    "name": "ipython",
    "version": 3
   },
   "file_extension": ".py",
   "mimetype": "text/x-python",
   "name": "python",
   "nbconvert_exporter": "python",
   "pygments_lexer": "ipython3",
   "version": "3.6.7"
  }
 },
 "nbformat": 4,
 "nbformat_minor": 2
}
