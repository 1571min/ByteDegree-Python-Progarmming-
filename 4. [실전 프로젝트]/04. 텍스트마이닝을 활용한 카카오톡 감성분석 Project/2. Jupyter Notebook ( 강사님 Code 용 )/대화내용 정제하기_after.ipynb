{
 "cells": [
  {
   "cell_type": "code",
   "execution_count": 1,
   "metadata": {},
   "outputs": [],
   "source": [
    "import pandas as pd"
   ]
  },
  {
   "cell_type": "code",
   "execution_count": 2,
   "metadata": {},
   "outputs": [
    {
     "name": "stdout",
     "output_type": "stream",
     "text": [
      "               Date User                                      Message\n",
      "0  2017/01/01 20:32   무지  https://www.youtube.com/watch?v=Y9J-ohYyP9o\n",
      "1  2017/01/01 20:32   무지                           이거보면 왜 갓창정인지 알게된다 \n",
      "2  2017/01/01 21:40  어피치                                          창정헌\n",
      "3  2017/01/01 22:19  어피치                            라이언은 내일부터 연구실 출근?\n",
      "4  2017/01/01 22:20   무지                                   파티 하는거 아님?\n",
      "<class 'pandas.core.frame.DataFrame'>\n",
      "RangeIndex: 195490 entries, 0 to 195489\n",
      "Data columns (total 3 columns):\n",
      "Date       195490 non-null object\n",
      "User       195490 non-null object\n",
      "Message    195490 non-null object\n",
      "dtypes: object(3)\n",
      "memory usage: 4.5+ MB\n",
      "None\n"
     ]
    }
   ],
   "source": [
    "# 카카오톡 데이터를 불러와서 내용을 확인합니다.\n",
    "data3 = pd.read_csv(\"data/단톡방03.csv\")\n",
    "print(data3.head())\n",
    "print(data3.info())"
   ]
  },
  {
   "cell_type": "code",
   "execution_count": 3,
   "metadata": {},
   "outputs": [
    {
     "data": {
      "text/plain": [
       "0         https://www.youtube.com/watch?v=Y9J-ohYyP9o\n",
       "1                                  이거보면 왜 갓창정인지 알게된다 \n",
       "2                                                 창정헌\n",
       "3                                   라이언은 내일부터 연구실 출근?\n",
       "4                                          파티 하는거 아님?\n",
       "5                                                 헬파티\n",
       "6                                                헬파이어\n",
       "7                                               파이어에그\n",
       "8                                                리마리오\n",
       "9                                                프로도?\n",
       "10                                                 예스\n",
       "11                                           Emoticon\n",
       "12                                                호우 \n",
       "13                                               팟팟헌?\n",
       "14                                              리마리오헌\n",
       "15                                               느끼헌?\n",
       "16                                               안그래도\n",
       "17                                               오늘힘듬\n",
       "18                                                  ㅎ\n",
       "19                                                대단 \n",
       "20                                             허리 ㄱㅊ?\n",
       "21                                                 괘안\n",
       "22                                                 ㅇㅇ\n",
       "23                                             이정도는가뿐\n",
       "24                                           즐거운 첫츌근.\n",
       "25                                           Emoticon\n",
       "26                                               (야옹)\n",
       "27                                           Emoticon\n",
       "28                                           돈많이 벌어와유\n",
       "29                                                 ㅠㅜ\n",
       "                             ...                     \n",
       "195460                                             와아\n",
       "195461                                           저정도ㅠ\n",
       "195462                                              흑\n",
       "195463                                         겁나 비싸네\n",
       "195464                                         이제 힘들듯\n",
       "195465                                          소득 있길\n",
       "195466                                            폭리네\n",
       "195467                                        이제 하루하루\n",
       "195468                                           버티는삶\n",
       "195469                            첫날이라 이기능 저기능 다 누르느라\n",
       "195470                                         많이씀 사실\n",
       "195471                                           그냥하셈\n",
       "195472                                결혼 나중에 생각바꼇다고하삼\n",
       "195473                                        오 똑똑한데?\n",
       "195474                                             새퀴\n",
       "195475                             원래 인생은 구라임 혼이담긴 구라\n",
       "195476                                            구라헌\n",
       "195477                                     손모가지 날라가붕게\n",
       "195478                                            쑥쑥헌\n",
       "195479                                            프로도\n",
       "195480                                     미래가 기대되는구만\n",
       "195481                                       암흑가의 회계사\n",
       "195482                                    타짜들 전담 회계사임\n",
       "195483                                             ㅎㅇ\n",
       "195484                                          Photo\n",
       "195485                                             ?!\n",
       "195486                                            ?!!\n",
       "195487                                          오늘도??\n",
       "195488                                           !?!?\n",
       "195489                                           ㅇㅇ존맛\n",
       "Name: Message, Length: 195490, dtype: object"
      ]
     },
     "execution_count": 3,
     "metadata": {},
     "output_type": "execute_result"
    }
   ],
   "source": [
    "# 메세지만 따로 불러옵니다.\n",
    "corpus = data3['Message']\n",
    "corpus"
   ]
  },
  {
   "cell_type": "code",
   "execution_count": 4,
   "metadata": {},
   "outputs": [
    {
     "name": "stdout",
     "output_type": "stream",
     "text": [
      "345465\n"
     ]
    }
   ],
   "source": [
    "# 데이터 전처리를 위한 전체 데이터의 특징을 빈도분석으로 파악해봅니다.\n",
    "\n",
    "import nltk\n",
    "\n",
    "total_tokens = [token for msg in corpus for token in str(msg).split()]\n",
    "print(len(total_tokens))"
   ]
  },
  {
   "cell_type": "code",
   "execution_count": 5,
   "metadata": {},
   "outputs": [
    {
     "name": "stdout",
     "output_type": "stream",
     "text": [
      "125511\n",
      "[('ㅇㅇ', 7505), ('굿', 3352), ('Emoticon', 2753), ('ㄱㄱ', 2542), ('아', 2332), ('ㄴㄴ', 2159), ('핳', 2075), ('ㅇㅋ', 1789), ('Photo', 1703), ('난', 1577)]\n"
     ]
    }
   ],
   "source": [
    "text = nltk.Text(total_tokens, name='NMSC')\n",
    "print(len(set(text.tokens)))\n",
    "print(text.vocab().most_common(10))"
   ]
  },
  {
   "cell_type": "code",
   "execution_count": 6,
   "metadata": {},
   "outputs": [
    {
     "data": {
      "image/png": "[encoded data removed]",
      "text/plain": [
       "<Figure size 1152x720 with 1 Axes>"
      ]
     },
     "metadata": {
      "needs_background": "light"
     },
     "output_type": "display_data"
    }
   ],
   "source": [
    "import matplotlib.pyplot as plt\n",
    "import platform\n",
    "from matplotlib import font_manager, rc\n",
    "%matplotlib inline\n",
    "\n",
    "path = \"c:/Windows/Fonts/malgun.ttf\"\n",
    "if platform.system() == 'Darwin':\n",
    "    rc('font', family='AppleGothic')\n",
    "elif platform.system() == 'Windows':\n",
    "    font_name = font_manager.FontProperties(fname=path).get_name()\n",
    "    rc('font', family=font_name)\n",
    "else:\n",
    "    print('Unknown system... sorry~~~~')\n",
    "\n",
    "plt.figure(figsize=(16, 10))\n",
    "text.plot(50)"
   ]
  },
  {
   "cell_type": "code",
   "execution_count": 7,
   "metadata": {},
   "outputs": [],
   "source": [
    "import re\n",
    "\n",
    "def message_cleaning(docs):\n",
    "\n",
    "    \"\"\"\n",
    "        1. Photo, Emoticon은 그 내용을 알 수 없으므로 제거.\n",
    "        \n",
    "        2. 자음/모음 표현 처리방법.\n",
    "        \n",
    "            1) \"ㅇㅇ\" ,\"ㅋㅋㅋㅋㅋ\" 같은 자음만 존재하는 표현이나, \"ㅡㅡ\", \"ㅠㅠ\" 같은 모음만 존재하는 표현들은\n",
    "            의미는 있으나 중요한 의미를 가지고 있지 않다고 판단하여 제거.\n",
    "            \n",
    "            2) 이러한 표현들도 전부 emoticon 같은 감정 표현의 의성어로 쓰거나, 단축 표현이므로 제거하지 않음. \n",
    "            \n",
    "        3. http:// 로 시작하는 hyperlink 제거.\n",
    "        \n",
    "        4. 특수문자 제거.\n",
    "    \n",
    "    \"\"\"\n",
    "    # Series의 object를 str로 변경.\n",
    "    docs = [str(doc) for doc in docs]\n",
    "    \n",
    "    # 1\n",
    "    pattern1 = re.compile(\"Photo|Emoticon\")\n",
    "    docs = [pattern1.sub(\"\", doc) for doc in docs]\n",
    "    \n",
    "    # 2\n",
    "    pattern2 = re.compile(\"[ㄱ-ㅎ]*[ㅏ-ㅢ]*\")\n",
    "    docs = [pattern2.sub(\"\", doc) for doc in docs]\n",
    "    \n",
    "    # 3\n",
    "    pattern3 = re.compile(r\"\\b(https?:\\/\\/)?([\\w.]+){1,2}(\\.[\\w]{2,4}){1,2}(.*)\")\n",
    "    docs = [pattern3.sub(\"\", doc) for doc in docs]\n",
    "    \n",
    "    # 4\n",
    "    pattern4 = re.compile(\"[\\{\\}\\[\\]\\/?.,;:|\\)*~`!^\\-_+<>@\\#$%&\\\\\\=\\(\\'\\\"]\")\n",
    "    docs = [pattern4.sub(\"\", doc) for doc in docs]\n",
    "\n",
    "    return docs\n",
    "\n",
    "def define_stopwords(path):\n",
    "    \n",
    "    SW = set()\n",
    "    # 불용어를 추가하는 방법 1.\n",
    "    # SW.add(\"있다\")\n",
    "    \n",
    "    # 불용어를 추가하는 방법 2.\n",
    "    # stopwords-ko.txt에 직접 추가\n",
    "    \n",
    "    with open(path) as f:\n",
    "        for word in f:\n",
    "            SW.add(word)\n",
    "            \n",
    "    return SW\n",
    "\n",
    "def text_tokenizing(doc):\n",
    "    return [word for word in mecab.morphs(doc) if word not in SW and len(word) > 1]\n",
    "    \n",
    "    # wordcloud를 위해 명사만 추출하는 경우.\n",
    "    #return [word for word in mecab.nouns(doc) if word not in SW and len(word) > 1]"
   ]
  },
  {
   "cell_type": "code",
   "execution_count": 8,
   "metadata": {},
   "outputs": [
    {
     "name": "stdout",
     "output_type": "stream",
     "text": [
      "195490\n",
      "['', '이거보면 왜 갓창정인지 알게된다 ', '창정헌', '라이언은 내일부터 연구실 출근', '파티 하는거 아님', '헬파티', '헬파이어', '파이어에그', '리마리오', '프로도']\n"
     ]
    }
   ],
   "source": [
    "SW = define_stopwords(\"data/stopwords-ko.txt\")\n",
    "# 카카오톡 텍스트를 정제합니다.\n",
    "cleaned_corpus = message_cleaning(corpus)\n",
    "print(len(cleaned_corpus))\n",
    "print(cleaned_corpus[:10])"
   ]
  },
  {
   "cell_type": "code",
   "execution_count": 9,
   "metadata": {},
   "outputs": [
    {
     "name": "stdout",
     "output_type": "stream",
     "text": [
      "<class 'pandas.core.frame.DataFrame'>\n",
      "Int64Index: 163568 entries, 1 to 195489\n",
      "Data columns (total 3 columns):\n",
      "Date       163568 non-null object\n",
      "User       163568 non-null object\n",
      "Message    163568 non-null object\n",
      "dtypes: object(3)\n",
      "memory usage: 5.0+ MB\n"
     ]
    }
   ],
   "source": [
    "# 정제되어 지워지는 텍스트들을 확인하고 지워줍니다.\n",
    "cleaned_text = pd.Series(cleaned_corpus)\n",
    "data3[\"Message\"] = cleaned_text\n",
    "cleaned_data = data3[data3[\"Message\"] != \"\"]\n",
    "cleaned_data.info()"
   ]
  },
  {
   "cell_type": "code",
   "execution_count": 10,
   "metadata": {},
   "outputs": [
    {
     "data": {
      "text/html": [
       "<div>\n",
       "<style scoped>\n",
       "    .dataframe tbody tr th:only-of-type {\n",
       "        vertical-align: middle;\n",
       "    }\n",
       "\n",
       "    .dataframe tbody tr th {\n",
       "        vertical-align: top;\n",
       "    }\n",
       "\n",
       "    .dataframe thead th {\n",
       "        text-align: right;\n",
       "    }\n",
       "</style>\n",
       "<table border=\"1\" class=\"dataframe\">\n",
       "  <thead>\n",
       "    <tr style=\"text-align: right;\">\n",
       "      <th></th>\n",
       "      <th>Date</th>\n",
       "      <th>User</th>\n",
       "      <th>Message</th>\n",
       "    </tr>\n",
       "  </thead>\n",
       "  <tbody>\n",
       "    <tr>\n",
       "      <th>1</th>\n",
       "      <td>2017/01/01 20:32</td>\n",
       "      <td>무지</td>\n",
       "      <td>이거보면 왜 갓창정인지 알게된다</td>\n",
       "    </tr>\n",
       "    <tr>\n",
       "      <th>2</th>\n",
       "      <td>2017/01/01 21:40</td>\n",
       "      <td>어피치</td>\n",
       "      <td>창정헌</td>\n",
       "    </tr>\n",
       "    <tr>\n",
       "      <th>3</th>\n",
       "      <td>2017/01/01 22:19</td>\n",
       "      <td>어피치</td>\n",
       "      <td>라이언은 내일부터 연구실 출근</td>\n",
       "    </tr>\n",
       "    <tr>\n",
       "      <th>4</th>\n",
       "      <td>2017/01/01 22:20</td>\n",
       "      <td>무지</td>\n",
       "      <td>파티 하는거 아님</td>\n",
       "    </tr>\n",
       "    <tr>\n",
       "      <th>5</th>\n",
       "      <td>2017/01/01 22:39</td>\n",
       "      <td>프로도</td>\n",
       "      <td>헬파티</td>\n",
       "    </tr>\n",
       "  </tbody>\n",
       "</table>\n",
       "</div>"
      ],
      "text/plain": [
       "               Date User             Message\n",
       "1  2017/01/01 20:32   무지  이거보면 왜 갓창정인지 알게된다 \n",
       "2  2017/01/01 21:40  어피치                 창정헌\n",
       "3  2017/01/01 22:19  어피치    라이언은 내일부터 연구실 출근\n",
       "4  2017/01/01 22:20   무지           파티 하는거 아님\n",
       "5  2017/01/01 22:39  프로도                 헬파티"
      ]
     },
     "execution_count": 10,
     "metadata": {},
     "output_type": "execute_result"
    }
   ],
   "source": [
    "#결과를 확인합니다.\n",
    "cleaned_data.head()"
   ]
  },
  {
   "cell_type": "code",
   "execution_count": 11,
   "metadata": {},
   "outputs": [],
   "source": [
    "# 정제한 카카오톡 데이터를 저장합니다.\n",
    "\n",
    "import pickle\n",
    "\n",
    "with open(\"data/cleaned_data.pk\", \"wb\") as f:\n",
    "    pickle.dump(cleaned_data, f)"
   ]
  },
  {
   "cell_type": "code",
   "execution_count": null,
   "metadata": {},
   "outputs": [],
   "source": []
  }
 ],
 "metadata": {
  "kernelspec": {
   "display_name": "Python 3",
   "language": "python",
   "name": "python3"
  },
  "language_info": {
   "codemirror_mode": {
    "name": "ipython",
    "version": 3
   },
   "file_extension": ".py",
   "mimetype": "text/x-python",
   "name": "python",
   "nbconvert_exporter": "python",
   "pygments_lexer": "ipython3",
   "version": "3.6.7"
  }
 },
 "nbformat": 4,
 "nbformat_minor": 2
}
